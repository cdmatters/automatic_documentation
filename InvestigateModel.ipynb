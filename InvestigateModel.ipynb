{
 "cells": [
  {
   "cell_type": "code",
   "execution_count": 1,
   "metadata": {},
   "outputs": [],
   "source": [
    "from project.models.char_baseline import CharSeqBaseline\n",
    "from project.models.code2vec_solo import Code2VecSolo\n",
    "from project.models.base_model import _run_model\n"
   ]
  },
  {
   "cell_type": "code",
   "execution_count": 2,
   "metadata": {},
   "outputs": [
    {
     "name": "stderr",
     "output_type": "stream",
     "text": [
      "LOADING FROM: logs/second_experiment_70dim/second_experiment__var_funcname_otherargs_0808_060151, overwriting kwargs\n"
     ]
    },
    {
     "name": "stdout",
     "output_type": "stream",
     "text": [
      "Loading GloVe weights and word to index lookup table\n"
     ]
    },
    {
     "name": "stderr",
     "output_type": "stream",
     "text": [
      "400000it [00:12, 33226.19it/s]\n"
     ]
    },
    {
     "name": "stdout",
     "output_type": "stream",
     "text": [
      "Creating char to index look up table\n",
      "Tokenizing the word descriptions and characters\n",
      "Tokenizing the src code\n",
      "Extracting tensors train and test\n",
      "INFO:tensorflow:Restoring parameters from logs/second_experiment_70dim/second_experiment__var_funcname_otherargs_0808_060151/BasicModel.ckpt-18818\n"
     ]
    },
    {
     "name": "stderr",
     "output_type": "stream",
     "text": [
      "0811_14:22 WARNING - Loaded from logs/second_experiment_70dim/second_experiment__var_funcname_otherargs_0808_060151: Global Step 18818\n"
     ]
    }
   ],
   "source": [
    "load_dir = {\"logdir\":\"logs/second_experiment_70dim/second_experiment__var_funcname_otherargs_0808_060151\", \"mode\":\"RETURN\"}\n",
    "LOADED = _run_model(CharSeqBaseline, **load_dir)\n"
   ]
  },
  {
   "cell_type": "code",
   "execution_count": 3,
   "metadata": {},
   "outputs": [],
   "source": [
    "sess, nn, data_tuple, step = LOADED"
   ]
  },
  {
   "cell_type": "code",
   "execution_count": 6,
   "metadata": {},
   "outputs": [],
   "source": [
    "RESULTS = nn.evaluate_bleu(sess, data_tuple.test, max_translations=10000)"
   ]
  },
  {
   "cell_type": "code",
   "execution_count": null,
   "metadata": {},
   "outputs": [],
   "source": [
    "import random\n",
    "import numpy as np\n",
    "def prep_samples(data):\n",
    "    indices = list(range(len(data)))\n",
    "    sample_size = 400\n",
    "    no_samples = 1000\n",
    "    for n in range(no_samples):\n",
    "        sample_data = [[] for d in data]\n",
    "        for i in random.choices(indices, k=sample_size):\n",
    "            for j,d in enumerate(data):\n",
    "                sample_data[j].append(d[i])\n",
    "        yield [np.stack(s) for s in sample_data[:-1]] + [sample_data[-1]]\n",
    "    \n",
    "bleu_bootstrap = []\n",
    "for s in prep_samples(data_tuple.test):\n",
    "    b = nn.evaluate_bleu(sess, s, max_translations=0)\n",
    "    bleu_bootstrap.append(b[0][0])\n",
    "print(\"{:.5f}\".format(np.mean(bleu_bootstrap), np.std(bleu_bootstrap)))\n",
    "    \n",
    "    "
   ]
  },
  {
   "cell_type": "code",
   "execution_count": 34,
   "metadata": {},
   "outputs": [
    {
     "name": "stdout",
     "output_type": "stream",
     "text": [
      "4485\n"
     ]
    }
   ],
   "source": [
    "print(len(data_tuple.test[-1]))"
   ]
  },
  {
   "cell_type": "code",
   "execution_count": null,
   "metadata": {},
   "outputs": [],
   "source": []
  }
 ],
 "metadata": {
  "kernelspec": {
   "display_name": "Python 3",
   "language": "python",
   "name": "python3"
  },
  "language_info": {
   "codemirror_mode": {
    "name": "ipython",
    "version": 3
   },
   "file_extension": ".py",
   "mimetype": "text/x-python",
   "name": "python",
   "nbconvert_exporter": "python",
   "pygments_lexer": "ipython3",
   "version": "3.6.5"
  }
 },
 "nbformat": 4,
 "nbformat_minor": 2
}
