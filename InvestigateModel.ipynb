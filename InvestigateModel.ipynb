{
 "cells": [
  {
   "cell_type": "code",
   "execution_count": 1,
   "metadata": {},
   "outputs": [
    {
     "name": "stderr",
     "output_type": "stream",
     "text": [
      "/home/ehambro/anaconda3/lib/python3.6/site-packages/h5py/__init__.py:36: FutureWarning: Conversion of the second argument of issubdtype from `float` to `np.floating` is deprecated. In future, it will be treated as `np.float64 == np.dtype(float).type`.\n",
      "  from ._conv import register_converters as _register_converters\n"
     ]
    }
   ],
   "source": [
    "from project.models.char_baseline import CharSeqBaseline\n",
    "from project.models.code2vec_solo import Code2VecSolo\n",
    "from project.models.code2vec_encoder import Code2VecEncoder\n",
    "from project.models.base_model import _run_model\n"
   ]
  },
  {
   "cell_type": "code",
   "execution_count": 3,
   "metadata": {},
   "outputs": [
    {
     "name": "stderr",
     "output_type": "stream",
     "text": [
      "LOADING FROM: logs/BIG_X_new_attention_second_experiment__var_otherargs_2008_102707/best_bleu, overwriting kwargs\n"
     ]
    },
    {
     "name": "stdout",
     "output_type": "stream",
     "text": [
      "Loading GloVe weights and word to index lookup table\n"
     ]
    },
    {
     "name": "stderr",
     "output_type": "stream",
     "text": [
      "400000it [00:07, 52969.81it/s]\n"
     ]
    },
    {
     "name": "stdout",
     "output_type": "stream",
     "text": [
      "Creating char to index look up table\n",
      "Tokenizing the word descriptions and characters\n",
      "Tokenizing the src code\n",
      "Extracting tensors train and test\n",
      "INFO:tensorflow:Restoring parameters from logs/BIG_X_new_attention_second_experiment__var_otherargs_2008_102707/best_bleu/BasicModel.ckpt-8550\n"
     ]
    },
    {
     "name": "stderr",
     "output_type": "stream",
     "text": [
      "0820_18:45 WARNING - Loaded from logs/BIG_X_new_attention_second_experiment__var_otherargs_2008_102707/best_bleu: Global Step 8550\n"
     ]
    }
   ],
   "source": [
    "load_dir = {\"logdir\":\"logs/BIG_X_new_attention_second_experiment__var_otherargs_2008_102707/best_bleu\", \"mode\":\"RETURN\"}\n",
    "LOADED = _run_model(CharSeqBaseline, **load_dir)\n"
   ]
  },
  {
   "cell_type": "code",
   "execution_count": 4,
   "metadata": {},
   "outputs": [],
   "source": [
    "sess, nn, data_tuple, step = LOADED"
   ]
  },
  {
   "cell_type": "code",
   "execution_count": 5,
   "metadata": {},
   "outputs": [],
   "source": [
    "# RESULTS = nn.evaluate_bleu(sess, data_tuple.test, max_translations=10000)"
   ]
  },
  {
   "cell_type": "code",
   "execution_count": 6,
   "metadata": {
    "scrolled": false
   },
   "outputs": [],
   "source": [
    "import random\n",
    "import numpy as np\n",
    "from tqdm import tqdm \n",
    "from project.external.nmt import bleu\n",
    "\n",
    "\n",
    "def prep_samples(translations, sample_size, no_samples):\n",
    "    for n in range(no_samples):\n",
    "        yield  random.choices(translations, k=sample_size)\n",
    "        \n",
    "def get_translations(nn, data):\n",
    "    return nn.evaluate_bleu(sess, data, max_translations=10000)\n",
    "\n",
    "def get_bleu_bootstrap(translations, sample_size = 1000, no_samples = 1000):\n",
    "    bleu_bootstrap = []\n",
    "    total = []\n",
    "    for sample in prep_samples(translations, sample_size, no_samples):\n",
    "        all_references = [[t.description] for t in sample]\n",
    "        all_translations = [t.translation for t in sample ]\n",
    "        b = bleu.compute_bleu(all_references, all_translations, max_order=4, smooth=False)\n",
    "        bleu_bootstrap.append(b[0]*100)\n",
    "    return bleu_bootstrap\n",
    "    "
   ]
  },
  {
   "cell_type": "code",
   "execution_count": 8,
   "metadata": {},
   "outputs": [],
   "source": [
    "\n",
    "just_200 = [ i[:200] for i in data_tuple.test ]\n",
    "T  = get_translations(nn, just_200)"
   ]
  },
  {
   "cell_type": "code",
   "execution_count": 9,
   "metadata": {},
   "outputs": [],
   "source": [
    "# bleu_bootstrap = get_bleu_bootstrap(T[-1], sample_size=1000, no_samples=1000)"
   ]
  },
  {
   "cell_type": "code",
   "execution_count": 10,
   "metadata": {},
   "outputs": [],
   "source": [
    "# print(\"{:.5f}, {:.5f}\".format(np.mean(bleu_bootstrap), np.std(bleu_bootstrap)))\n",
    "\n",
    "# print(\"{:.5f}, {:.5f}\".format(np.mean(sorted(bleu_bootstrap)[25:-25]), np.std(sorted(bleu_bootstrap)[25:-25])))"
   ]
  },
  {
   "cell_type": "code",
   "execution_count": 11,
   "metadata": {
    "scrolled": true
   },
   "outputs": [],
   "source": [
    "# [print(i, t) for i, t in enumerate(T[-1])]"
   ]
  },
  {
   "cell_type": "code",
   "execution_count": 12,
   "metadata": {},
   "outputs": [],
   "source": [
    "import pickle\n",
    "from collections import namedtuple\n",
    "\n",
    "Examples = namedtuple(\"Examples\", [\"translations\", \"data_tuple\"])\n",
    "def find_examples(translations, data_tuple):\n",
    "    return_index = []\n",
    "    return_data = [[] for  _ in data_tuple.test]\n",
    "    for t in translations:\n",
    "        for i,d in enumerate(data_tuple.test[-1]):\n",
    "            arg_name = \"\".join(nn.translate(data_tuple.test[0][i], lookup=nn.idx2char, do_join=False))\n",
    "            if d == t.description and arg_name == t.name:\n",
    "                return_index.append(i)\n",
    "    \n",
    "    for j in return_index:\n",
    "        for k, d in enumerate(return_data):\n",
    "            d.append(data_tuple.test[k][j])\n",
    "    \n",
    "    return [np.stack(x) for x in return_data[:-1]] + [return_data[-1]]\n",
    "\n",
    "def load_examples(name):\n",
    "    with open(\"examples/{}.eg.pkl\".format(name), 'rb') as f:\n",
    "         examples = pickle.load(f)\n",
    "    return examples\n",
    "\n",
    "def save_examples(name, good_data_tuple):\n",
    "    with open(\"examples/{}.eg.pkl\".format(name), 'wb') as f:\n",
    "        pickle.dump(good_data_tuple, f)\n"
   ]
  },
  {
   "cell_type": "markdown",
   "metadata": {},
   "source": [
    "### 2 Funcname Otherargs"
   ]
  },
  {
   "cell_type": "code",
   "execution_count": 13,
   "metadata": {},
   "outputs": [],
   "source": [
    "# good_examples = [T[-1][i] for i in [3,5,13,57, 50, 178]]\n",
    "# data_examples = find_examples(good_examples, data_tuple)        \n",
    "# egs = Examples(good_examples,data_examples )\n",
    "# save_examples(\"new_attn_otherargs\", data_examples)\n"
   ]
  },
  {
   "cell_type": "code",
   "execution_count": null,
   "metadata": {
    "scrolled": false
   },
   "outputs": [],
   "source": [
    "\n",
    "# input_egs_idx = []\n",
    "# for i, r in enumerate(data_tuple.test[0]):\n",
    "\n",
    "#     if np.array_equal(r[:6], np.array([9, 14, 16, 21, 20, 65])):\n",
    "#         input_egs_idx.append(i)\n",
    "# input_egs = []\n",
    "# for d in data_tuple.test[:-1]:\n",
    "    \n",
    "#     input_egs.append(np.stack([d[i] for i in input_egs_idx]))\n",
    "# input_egs.append([data_tuple.test[-1][i] for i in input_egs_idx])\n",
    "# # save_examples('input_otherargs', input_egs)"
   ]
  },
  {
   "cell_type": "code",
   "execution_count": 16,
   "metadata": {},
   "outputs": [
    {
     "name": "stdout",
     "output_type": "stream",
     "text": [
      "['i', 'n', 'p', 'u', 't', '<SEP-1>', 'n', 'a', 'm', 'e', '<SEP-2>', '<END>']\n",
      "['a', '`', 'tensor', '`', 'of', 'type', '`', '<UNK>', '`', '.', 'a', '<UNK>', 'tensor', '.', '<END>']\n",
      "(20, 12)\n"
     ]
    },
    {
     "data": {
      "image/png": "[encoded data removed]",
      "text/plain": [
       "<Figure size 720x1080 with 3 Axes>"
      ]
     },
     "metadata": {},
     "output_type": "display_data"
    }
   ],
   "source": [
    "\n",
    "import tensorflow as tf\n",
    "from matplotlib import pyplot as plt\n",
    "egs = load_examples('new_attn_otherargs')\n",
    "j = 4\n",
    "just_one = [ i[j:j+1] for i in egs ]\n",
    "trim = len(np.trim_zeros(just_one[0][0]))\n",
    "\n",
    "alignments, translate = nn._feed_fwd(sess, just_one, [nn.inf_state.alignment_history.stack(), nn.inference_id] )\n",
    "char_input = nn.translate(just_one[0][0], lookup=nn.idx2char, do_join=False)\n",
    "word_output = nn.translate(translate[0], do_join=False)\n",
    "moved = np.squeeze(alignments)\n",
    "moved = np.stack([i[:trim] for i in moved])\n",
    "\n",
    "print(char_input)\n",
    "print(word_output)\n",
    "\n",
    "\n",
    "\n",
    "fig, ax = plt.subplots(3, figsize=(10,15))\n",
    "ax[0].set_title(\"Fig A)\\n\\n\", loc=\"right\")\n",
    "# plt.rcParams['figure.figsize'] = (10,10)\n",
    "# plt.rcParams.update({'font.size': 22})\n",
    "ax[0].matshow(moved, aspect=\"auto\")\n",
    "ax[0].set_xticks(np.arange(len(char_input)))\n",
    "ax[0].set_xticklabels( char_input, rotation=30)\n",
    "ax[0].set_yticks(np.arange(len(word_output)))\n",
    "ax[0].set_yticklabels(word_output)\n",
    "ax[0].set_ylabel(\"Output\")\n",
    "ax[0].set_xlabel(\"Input\")\n",
    "# ax.xaxis.label.set_fontsize(20)\n",
    "ax[0].xaxis.set_label_position('top') \n",
    "\n",
    "\n",
    "# just_one[0][0][] = nn.char2idx['<SEP-2>']\n",
    "just_one[0][0][6] = nn.char2idx['<END>']\n",
    "just_one[0][0][7:] = 0 \n",
    "\n",
    "trim2 = len(np.trim_zeros(just_one[0][0]))\n",
    "alignments, translate = nn._feed_fwd(sess, just_one, [nn.inf_state.alignment_history.stack(), nn.inference_id] )\n",
    "# char_input = nn.translate(just_one[0][0], lookup=nn.idx2char, do_join=False)\n",
    "char_input = nn.translate(just_one[0][0], lookup=nn.idx2char, do_join=False)\n",
    "word_output = nn.translate(translate[0], do_join=False)\n",
    "moved = np.squeeze(alignments)\n",
    "moved = np.stack([i[:trim] for i in moved])\n",
    "moved[:,trim2:] = 0.5\n",
    "\n",
    "char_input = nn.translate(just_one[0][0], lookup=nn.idx2char, do_join=False)\n",
    "\n",
    "ax[1].set_title(\"Fig B)\", loc=\"right\")\n",
    "\n",
    "ax[1].matshow(moved, aspect=\"auto\")\n",
    "ax[1].set_xticks(np.arange(len(char_input[:trim2])))\n",
    "ax[1].set_xticklabels( char_input, rotation=30)\n",
    "ax[1].set_yticks(np.arange(len(word_output)))\n",
    "ax[1].set_yticklabels(word_output)\n",
    "ax[1].set_ylabel(\"Output\")\n",
    "ax[1].set_xlabel(\"Input\")\n",
    "ax[1].xaxis.set_label_position('top') \n",
    "            \n",
    "\n",
    "\n",
    "just_one[0][0][6:] = 0 \n",
    "trim3 = len(np.trim_zeros(just_one[0][0]))\n",
    "\n",
    "\n",
    "\n",
    "alignments, translate = nn._feed_fwd(sess, just_one, [nn.inf_state.alignment_history.stack(), nn.inference_id] )\n",
    "char_input = nn.translate(just_one[0][0], lookup=nn.idx2char, do_join=False)\n",
    "word_output = nn.translate(translate[0], do_join=False)\n",
    "moved = np.squeeze(alignments)\n",
    "moved = np.stack([i[:trim] for i in moved])\n",
    "moved[:,trim3:] = 0.5\n",
    "\n",
    "ax[2].set_title(\"Fig C)\", loc=\"right\")\n",
    "\n",
    "ax[2].matshow(moved, aspect=\"auto\")\n",
    "ax[2].set_xticks(np.arange(len(char_input[:trim3])))\n",
    "ax[2].set_xticklabels( char_input, rotation=30)\n",
    "ax[2].set_yticks(np.arange(len(word_output)))\n",
    "ax[2].set_yticklabels(word_output)\n",
    "ax[2].set_ylabel(\"Output\")\n",
    "ax[2].set_xlabel(\"Input\")\n",
    "ax[2].xaxis.set_label_position('top') \n",
    "\n",
    "# plt.yticks(np.arange(len(word_output)), word_output)\n",
    "\n",
    "# ax.xaxis.label.set_fontsize(20)\n",
    "print(moved.shape)\n",
    "plt.tight_layout()\n",
    "plt.show()\n"
   ]
  },
  {
   "cell_type": "code",
   "execution_count": null,
   "metadata": {},
   "outputs": [],
   "source": [
    "\n",
    "import tensorflow as tf\n",
    "from matplotlib import pyplot as plt\n",
    "egs = load_examples('input_otherargs')\n",
    "j = 22\n",
    "just_one = [ i[j:j+1] for i in egs ]\n",
    "trim = len(np.trim_zeros(just_one[0][0]))\n",
    "\n",
    "alignments, translate = nn._feed_fwd(sess, just_one, [nn.inf_state.alignment_history.stack(), nn.inference_id] )\n",
    "char_input = nn.translate(just_one[0][0], lookup=nn.idx2char, do_join=False)\n",
    "word_output = nn.translate(translate[0], do_join=False)\n",
    "moved = np.squeeze(alignments)\n",
    "moved = np.stack([i[:trim] for i in moved])\n",
    "\n",
    "print(char_input)\n",
    "print(word_output)\n",
    "\n",
    "\n",
    "\n",
    "fig, ax = plt.subplots(3, figsize=(10,15))\n",
    "# plt.rcParams['figure.figsize'] = (10,10)\n",
    "# plt.rcParams.update({'font.size': 22})\n",
    "ax[0].matshow(moved, aspect=\"auto\")\n",
    "ax[0].set_xticks(np.arange(len(char_input)))\n",
    "ax[0].set_xticklabels( char_input, rotation=30)\n",
    "ax[0].set_yticks(np.arange(len(word_output)))\n",
    "ax[0].set_yticklabels(word_output)\n",
    "ax[0].set_ylabel(\"Output\")\n",
    "ax[0].set_xlabel(\"Input\")\n",
    "# ax.xaxis.label.set_fontsize(20)\n",
    "ax[0].xaxis.set_label_position('top') \n",
    "\n",
    "\n",
    "j = 2\n",
    "just_one = [ i[j:j+1] for i in egs ]\n",
    "trim = len(np.trim_zeros(just_one[0][0]))\n",
    "\n",
    "alignments, translate = nn._feed_fwd(sess, just_one, [nn.inf_state.alignment_history.stack(), nn.inference_id] )\n",
    "# char_input = nn.translate(just_one[0][0], lookup=nn.idx2char, do_join=False)\n",
    "char_input = nn.translate(just_one[0][0], lookup=nn.idx2char, do_join=False)\n",
    "word_output = nn.translate(translate[0], do_join=False)\n",
    "moved = np.squeeze(alignments)\n",
    "moved = np.stack([i[:trim] for i in moved])\n",
    "moved[:,trim:] = 0.5\n",
    "\n",
    "char_input = nn.translate(just_one[0][0], lookup=nn.idx2char, do_join=False)\n",
    "\n",
    "ax[1].matshow(moved, aspect=\"auto\")\n",
    "ax[1].set_xticks(np.arange(len(char_input[:trim])))\n",
    "ax[1].set_xticklabels( char_input, rotation=30)\n",
    "ax[1].set_yticks(np.arange(len(word_output)))\n",
    "ax[1].set_yticklabels(word_output)\n",
    "ax[1].set_ylabel(\"Output\")\n",
    "ax[1].set_xlabel(\"Input\")\n",
    "ax[1].xaxis.set_label_position('top') \n",
    "            \n",
    "\n",
    "\n",
    "j = 0\n",
    "just_one = [ i[j:j+1] for i in egs ]\n",
    "trim = len(np.trim_zeros(just_one[0][0]))\n",
    "\n",
    "alignments, translate = nn._feed_fwd(sess, just_one, [nn.inf_state.alignment_history.stack(), nn.inference_id] )\n",
    "char_input = nn.translate(just_one[0][0], lookup=nn.idx2char, do_join=False)\n",
    "word_output = nn.translate(translate[0], do_join=False)\n",
    "moved = np.squeeze(alignments)\n",
    "moved = np.stack([i[:trim] for i in moved])\n",
    "moved[:,trim:] = 0.5\n",
    "\n",
    "ax[2].matshow(moved, aspect=\"auto\")\n",
    "ax[2].set_xticks(np.arange(len(char_input[:trim])))\n",
    "ax[2].set_xticklabels( char_input, rotation=30)\n",
    "ax[2].set_yticks(np.arange(len(word_output)))\n",
    "ax[2].set_yticklabels(word_output)\n",
    "ax[2].set_ylabel(\"Output\")\n",
    "ax[2].set_xlabel(\"Input\")\n",
    "ax[2].xaxis.set_label_position('top') \n",
    "\n",
    "            \n",
    "# plt.yticks(np.arange(len(word_output)), word_output)\n",
    "\n",
    "# ax.xaxis.label.set_fontsize(20)\n",
    "print(moved.shape)\n",
    "plt.tight_layout()\n",
    "plt.show()\n"
   ]
  },
  {
   "cell_type": "code",
   "execution_count": null,
   "metadata": {},
   "outputs": [],
   "source": [
    "egs = load_examples('input_otherargs')\n",
    "\n",
    "T  = get_translations(nn, egs)"
   ]
  },
  {
   "cell_type": "code",
   "execution_count": null,
   "metadata": {},
   "outputs": [],
   "source": []
  },
  {
   "cell_type": "code",
   "execution_count": null,
   "metadata": {},
   "outputs": [],
   "source": [
    "# 10, 12, 23, 83, 192, 213, 237, 240, 247, 263, \n",
    "for i, t in enumerate(T[-1]):\n",
    "    print(i,t)"
   ]
  },
  {
   "cell_type": "code",
   "execution_count": null,
   "metadata": {},
   "outputs": [],
   "source": [
    "char_embeddings = nn.get_scope_variable(sess, 'embed_vars', 'char_embed')"
   ]
  },
  {
   "cell_type": "code",
   "execution_count": null,
   "metadata": {},
   "outputs": [],
   "source": [
    "len(data_tuple.test[-1])\n"
   ]
  },
  {
   "cell_type": "code",
   "execution_count": null,
   "metadata": {
    "scrolled": false
   },
   "outputs": [],
   "source": [
    "#\"\\n\".join(\"\\t\".join([str(j) for j in i]) for i in char_embeddings[0]) \n",
    "print(\"\\n\".join([\"Char\"] + [nn.idx2char[i] for i in sorted(nn.idx2char.keys())]))\n"
   ]
  },
  {
   "cell_type": "code",
   "execution_count": null,
   "metadata": {},
   "outputs": [],
   "source": []
  }
 ],
 "metadata": {
  "kernelspec": {
   "display_name": "Python 3",
   "language": "python",
   "name": "python3"
  },
  "language_info": {
   "codemirror_mode": {
    "name": "ipython",
    "version": 3
   },
   "file_extension": ".py",
   "mimetype": "text/x-python",
   "name": "python",
   "nbconvert_exporter": "python",
   "pygments_lexer": "ipython3",
   "version": "3.6.5"
  }
 },
 "nbformat": 4,
 "nbformat_minor": 2
}
