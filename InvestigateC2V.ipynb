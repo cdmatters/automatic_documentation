{
 "cells": [
  {
   "cell_type": "code",
   "execution_count": 1,
   "metadata": {},
   "outputs": [
    {
     "name": "stderr",
     "output_type": "stream",
     "text": [
      "/home/ehambro/anaconda3/lib/python3.6/site-packages/h5py/__init__.py:36: FutureWarning: Conversion of the second argument of issubdtype from `float` to `np.floating` is deprecated. In future, it will be treated as `np.float64 == np.dtype(float).type`.\n",
      "  from ._conv import register_converters as _register_converters\n"
     ]
    }
   ],
   "source": [
    "from project.models.char_baseline import CharSeqBaseline\n",
    "from project.models.code2vec_solo import Code2VecSolo\n",
    "from project.models.code2vec_encoder import Code2VecEncoder\n",
    "from project.models.hashtable_baseline import  HashtableBaseline\n",
    "from project.models.base_model import _run_model\n"
   ]
  },
  {
   "cell_type": "code",
   "execution_count": 2,
   "metadata": {},
   "outputs": [
    {
     "name": "stderr",
     "output_type": "stream",
     "text": [
      "LOADING FROM: logs/reboot_sixth, overwriting kwargs\n"
     ]
    },
    {
     "name": "stdout",
     "output_type": "stream",
     "text": [
      "Loading GloVe weights and word to index lookup table\n"
     ]
    },
    {
     "name": "stderr",
     "output_type": "stream",
     "text": [
      "400000it [00:07, 52581.03it/s]\n"
     ]
    },
    {
     "name": "stdout",
     "output_type": "stream",
     "text": [
      "Creating char to index look up table\n",
      "Tokenizing the word descriptions and characters\n",
      "Tokenizing the src code\n",
      "Extracting tensors train and test\n",
      "INFO:tensorflow:Restoring parameters from logs/reboot_sixth/BasicModel.ckpt-37142\n"
     ]
    },
    {
     "name": "stderr",
     "output_type": "stream",
     "text": [
      "0822_19:49 WARNING - Loaded from logs/reboot_sixth: Global Step 37142\n"
     ]
    }
   ],
   "source": [
    "# load_dir = {\"logdir\":\"logs/new_attention_fourfive_c2v_solo_canond0.1/best_bleu\", \"mode\":\"RETURN\"}\n",
    "# load_dir = {\"logdir\":\"logs/reboot_fourfive_c2vmaskargs_bleu\", \"mode\":\"RETURN\"}\n",
    "# load_dir = {\"logdir\":\"logs/reboot_fourfive_c2vmaskall_bleu\", \"mode\":\"RETURN\"}\n",
    "# load_dir = {\"logdir\":\"logs/reboot_sixth\", \"mode\":\"RETURN\"}\n",
    "\n",
    "LOADED = _run_model(Code2VecEncoder, **load_dir)"
   ]
  },
  {
   "cell_type": "code",
   "execution_count": 3,
   "metadata": {},
   "outputs": [],
   "source": [
    "from project.data.preprocessed.no_dups_X import no_dups_X_data\n",
    "\n",
    "\n",
    "from project.data.preprocessed import load_vocab\n",
    "\n",
    "from project.utils.tokenize import nltk_tok\n",
    "from tqdm import tqdm\n",
    "\n",
    "\n",
    "path2idx, path2cnt = load_vocab('no_dups_X', 'quickload_paths')\n",
    "tv2idx, tv2cnt = load_vocab('no_dups_X', 'quickload_tvs')\n",
    "idx2tv = {v:k for k,v in tv2idx.items()}\n",
    "idx2path ={v:k for k,v in path2idx.items()}\n",
    "RAW_TEST_DATA = no_dups_X_data().test\n",
    "sess, nn, data_tuple, step = LOADED"
   ]
  },
  {
   "cell_type": "code",
   "execution_count": 4,
   "metadata": {},
   "outputs": [],
   "source": [
    "import random\n",
    "import numpy as np\n",
    "from tqdm import tqdm \n",
    "from project.external.nmt import bleu\n",
    "\n",
    "\n",
    "def prep_samples(translations, sample_size, no_samples):\n",
    "    for n in range(no_samples):\n",
    "        yield  random.choices(translations, k=sample_size)\n",
    "        \n",
    "def get_translations(nn, data):\n",
    "    return nn.evaluate_bleu(sess, data, max_translations=10000)\n",
    "\n",
    "def get_bleu_bootstrap(translations, sample_size = 1000, no_samples = 1000):\n",
    "    bleu_bootstrap = []\n",
    "    total = []\n",
    "    for sample in prep_samples(translations, sample_size, no_samples):\n",
    "        all_references = [[t.description] for t in sample]\n",
    "        all_translations = [t.translation for t in sample ]\n",
    "        b = bleu.compute_bleu(all_references, all_translations, max_order=4, smooth=False)\n",
    "        bleu_bootstrap.append(b[0]*100)\n",
    "    return bleu_bootstrap\n",
    "    "
   ]
  },
  {
   "cell_type": "code",
   "execution_count": 5,
   "metadata": {
    "scrolled": false
   },
   "outputs": [],
   "source": [
    "from collections import defaultdict\n",
    "import numpy \n",
    "from matplotlib import pyplot as plt\n",
    "def translate_paths(paths, tvs):\n",
    "    return[\"{} : {}\".format(idx2path[p], idx2tv[t]) for p,t in zip(np.trim_zeros(paths), np.trim_zeros(tvs))]\n",
    "\n",
    "def translate_paths_latex(paths, tvs):\n",
    "    return[\"{} : \\mintinline[]{python}{{}}\".format(idx2path[p], idx2tv[t]) for p,t in zip(np.trim_zeros(paths), np.trim_zeros(tvs))]\n",
    "def gen_combined_dataset(data_tuple_test):\n",
    "    \n",
    "    combined= []\n",
    "    DESC_TO_D = defaultdict(list)\n",
    "    [DESC_TO_D[\"\".join(nltk_tok(f['arg_desc']))].append(f) for f in RAW_TEST_DATA]\n",
    "    \n",
    "    for i, d in enumerate(zip(*data_tuple_test)):\n",
    "        matches = []\n",
    "        for f in DESC_TO_D[\"\".join(d[-1])]:\n",
    "            arg_name = \"\".join(nn.translate(d[0], lookup=nn.idx2char, do_join=False))\n",
    "            src_tokens = [idx2tv[t] for t in d[3] if t not in [0,1]]\n",
    "            if arg_name.startswith(f['arg_name']) and all([str(s) in f['src'] for s in src_tokens]):\n",
    "                \n",
    "                matches.append((d,f, translate_paths(np.trim_zeros(d[2]),np.trim_zeros(d[3]))))\n",
    "            \n",
    "            if len(matches) > 1:\n",
    "                break\n",
    "        \n",
    "        if len(matches)==1:\n",
    "            combined.append(matches[0])\n",
    "    return combined\n",
    "        \n",
    "COMB = gen_combined_dataset(data_tuple.test) "
   ]
  },
  {
   "cell_type": "code",
   "execution_count": 6,
   "metadata": {},
   "outputs": [],
   "source": [
    "def stack_from_comb(comb,x):   \n",
    "    return [np.stack([d[i] for d, src,  p in comb][:x]) for i in range(4)] + [[d[-1] for d, src,  p in comb][:x]]\n",
    "INPUT_STACKED = stack_from_comb(COMB, 63)  \n",
    "nn._do_shuffle = False\n",
    "T300  = get_translations(nn, INPUT_STACKED)"
   ]
  },
  {
   "cell_type": "code",
   "execution_count": 7,
   "metadata": {},
   "outputs": [],
   "source": [
    "# import project.utils.code_tokenize as ct\n",
    "# for i,  (t,c) in enumerate(zip(T300[-1], COMB)):\n",
    "#     print(i, t)\n",
    "#     print()\n",
    "#     print(i, ct.get_pure_src(c[1]))\n",
    "    \n",
    "        "
   ]
  },
  {
   "cell_type": "code",
   "execution_count": 8,
   "metadata": {},
   "outputs": [],
   "source": [
    "def print_light_table(labels, ptvs):\n",
    "    # HACK\n",
    "    to_tex = lambda  s:s.replace(\"<U\", \"$<$U\").replace(\"K>\", \"K$>$\").replace(\"_\",\"\\\\_\").replace(\"<-\", \"$\\leftarrow$\").replace(\"->\", \"$\\\\rightarrow$\")\n",
    "    \n",
    "    reverse_this = []\n",
    "    reverse_this.append(\"\\end{tabular}\")\n",
    "    for l, p in zip(labels, ptvs):\n",
    "        reverse_this.append(to_tex(\"    {} & {} \\\\\\\\\".format(l, p)))\n",
    "    reverse_this.append(\"\\\\begin{tabular}{c l}\")\n",
    "    print(\"\\n\".join(reversed(reverse_this)))\n",
    "\n",
    "def translate_paths_latex(paths, tvs):\n",
    "    return[\"{} : \\mintinline[]{}{}\".format(idx2path[p], \"{python}\",\"{\"+idx2tv[t]+\"}\") for p,t in zip(np.trim_zeros(paths), np.trim_zeros(tvs))]\n",
    "    \n",
    "def plot_attention_single(attn, trans, paths, tvs, figsize=(10,5)):\n",
    "\n",
    "    fig, ax = plt.subplots(1,figsize=figsize )\n",
    "    ax = [ax]\n",
    "    j=0\n",
    "    \n",
    "    F=\"ABCDEFGHIJKLMNOPQRSTUVWXYZ\"\n",
    "    attention = [a for a in np.trim_zeros(attn)]\n",
    "    ptvs = translate_paths_latex(paths, tvs)\n",
    "    \n",
    "    attention, ptvs = zip(*sorted(zip(attention, ptvs), key=lambda x:x[0]))\n",
    "    labels = [\"Path {}\".format(F[i] if i < len(F) else i) for i in reversed(range(len(ptvs)))]\n",
    "    \n",
    "    \n",
    "    ax[j].barh(np.arange(len(attention)), attention)\n",
    "    \n",
    "    ax[j].set_title(\"Attention Scores per Path\".format(F[j]), fontsize=22) #loc=\"right\", fontsize=18)\n",
    "    ax[j].set_yticks(np.arange(len(labels)))\n",
    "    ax[j].set_yticklabels( labels, rotation=0,  fontsize=18)\n",
    "    ax[j].set_ylabel(\"Paths\", fontsize=22)\n",
    "    ax[j].set_xlabel(\"Attention Scores\", fontsize=22)\n",
    "    \n",
    "    print_light_table(labels,ptvs)\n",
    "#     plt.tight_layout()\n",
    "    plt.show()"
   ]
  },
  {
   "cell_type": "code",
   "execution_count": 9,
   "metadata": {},
   "outputs": [],
   "source": [
    "def latex_translation(t):\n",
    "    to_tex = lambda  s:s.replace(\"<\", \"$<$\").replace(\">\", \"$>$\").replace(\"_\",\"\\\\_\")\n",
    "    split = 25\n",
    "    n1 = t[0][:split]\n",
    "    n1 = \"\\\\textbf{Argument}: \\mintinline[]{python}{\" + to_tex(\"\".join(n1)) + \"}\"\n",
    "    if len(t[0]) > split:\n",
    "        n1 += \"...\\\\\\\\\\n...\\mintinline[]{python}{\"+to_tex(\" \".join(t[0][split:])) + \"}\"\n",
    "    n1 += \"\\\\\\\\\"\n",
    "    desc = \"\\\\textbf{D}: \" + to_tex(\" \".join(t[1])) + \"\\\\\\\\\"\n",
    "    pred = \"\\\\textbf{P}: \" + to_tex(\" \".join(t[3])) + \"\\\\\\\\\"\n",
    "    return \"\\n\".join([n1, desc, pred])\n",
    "\n",
    "    "
   ]
  },
  {
   "cell_type": "code",
   "execution_count": 10,
   "metadata": {},
   "outputs": [],
   "source": [
    "def save_graph(name, svg):\n",
    "    with open('./example_graphs/{}.svg'.format(name),'w') as f:\n",
    "        f.write(svg._data)\n",
    "        \n",
    "def src_to_latex(src):\n",
    "    return \"\"\"\\\\begin{listing}[h!]\n",
    "\\\\begin{minted}[]{python}\n",
    "\"\"\"+src+\"\"\"\n",
    "\\end{minted}\n",
    "\\end{listing}\n",
    "\"\"\""
   ]
  },
  {
   "cell_type": "code",
   "execution_count": 11,
   "metadata": {},
   "outputs": [],
   "source": [
    "def get_settings(**kwargs):\n",
    "    settings = dict(\n",
    "        # Styling options:\n",
    "        scale=2,\n",
    "        font='courier',\n",
    "        shape='none',\n",
    "        terminal_color='#008040',\n",
    "        nonterminal_color='#004080',\n",
    "        fontsize='22',\n",
    "\n",
    "        # AST display options:\n",
    "        omit_module=True,\n",
    "        omit_docstrings=True,\n",
    "\n",
    "        # Rendering engine is expected to expose \"render\" function\n",
    "        renderer=showastfork.Renderers.graphviz,\n",
    "\n",
    "        ignore_nodes=[\"Load\",\"Store\", \"arguments\"],\n",
    "    )\n",
    "    settings.update(kwargs)\n",
    "    return settings"
   ]
  },
  {
   "cell_type": "code",
   "execution_count": 12,
   "metadata": {},
   "outputs": [],
   "source": [
    "import pickle\n",
    "def load_examples(name):\n",
    "    with open(\"examples/{}.eg.pkl\".format(name), 'rb') as f:\n",
    "         examples = pickle.load(f)\n",
    "    return examples\n",
    "\n",
    "def save_examples(name, good_data_tuple):\n",
    "    with open(\"examples/{}.eg.pkl\".format(name), 'wb') as f:\n",
    "        pickle.dump(good_data_tuple, f)\n"
   ]
  },
  {
   "cell_type": "code",
   "execution_count": 13,
   "metadata": {},
   "outputs": [],
   "source": [
    "# save_examples(\"COMBINED_FAVES_REPORT\",comb_faves)"
   ]
  },
  {
   "cell_type": "code",
   "execution_count": 14,
   "metadata": {
    "scrolled": false
   },
   "outputs": [
    {
     "name": "stdout",
     "output_type": "stream",
     "text": [
      "\\begin{tabular}{c l}\n",
      "    Path A & $<$UNK$>$ : \\mintinline[]{python}{color\\_palette} \\\\\n",
      "    Path B & Name $\\leftarrow$ comprehension $\\leftarrow$ ListComp $\\leftarrow$ Assign $\\leftarrow$ FunctionDef $\\rightarrow$ Assign $\\rightarrow$ ListComp $\\rightarrow$ comprehension : \\mintinline[]{python}{$<$UNK$>$} \\\\\n",
      "    Path C & $<$UNK$>$ : \\mintinline[]{python}{palette} \\\\\n",
      "    Path D & $<$UNK$>$ : \\mintinline[]{python}{palette} \\\\\n",
      "    Path E & Name $\\leftarrow$ comprehension $\\leftarrow$ ListComp $\\leftarrow$ Assign $\\rightarrow$ Name : \\mintinline[]{python}{palette} \\\\\n",
      "    Path F & $<$UNK$>$ : \\mintinline[]{python}{len} \\\\\n",
      "    Path G & $<$UNK$>$ : \\mintinline[]{python}{$<$UNK$>$} \\\\\n",
      "    Path H & Name $\\leftarrow$ comprehension $\\rightarrow$ Name : \\mintinline[]{python}{name} \\\\\n",
      "    Path I & $<$UNK$>$ : \\mintinline[]{python}{name} \\\\\n",
      "\\end{tabular}\n"
     ]
    },
    {
     "data": {
      "image/png": "[encoded data removed]",
      "text/plain": [
       "<Figure size 720x360 with 1 Axes>"
      ]
     },
     "metadata": {},
     "output_type": "display_data"
    },
    {
     "name": "stdout",
     "output_type": "stream",
     "text": [
      "\\textbf{Argument}: \\mintinline[]{python}{colors$<$END$>$}\\\\\n",
      "\\textbf{D}: list of keys in the `` seaborn.xkcd\\_rgb `` dictionary .\\\\\n",
      "\\textbf{P}: $<$UNK$>$ colors of the $<$UNK$>$ colors in the cycle .\\\\\n",
      "\\begin{listing}[h!]\n",
      "\\begin{minted}[]{python}\n",
      "def xkcd_palette(colors):\n",
      "    \"\"\"\n",
      "\n",
      "    \"\"\"\n",
      "    palette = [xkcd_rgb[name] for name in colors]\n",
      "    return color_palette(palette, len(palette))\n",
      "\n",
      "\\end{minted}\n",
      "\\end{listing}\n",
      "\n"
     ]
    },
    {
     "data": {
      "image/svg+xml": [
       "<svg height=\"476pt\" viewBox=\"0.00 0.00 1162.00 476.00\" width=\"1162pt\" xmlns=\"http://www.w3.org/2000/svg\" xmlns:xlink=\"http://www.w3.org/1999/xlink\">\n",
       "<g class=\"graph\" id=\"graph1\" transform=\"scale(1 1) rotate(0) translate(4 472)\">\n",
       "<title>_anonymous_0</title>\n",
       "<polygon fill=\"white\" points=\"-4,5 -4,-472 1159,-472 1159,5 -4,5\" stroke=\"white\"/>\n",
       "<!-- 0 -->\n",
       "<g class=\"node\" id=\"node1\"><title>0</title>\n",
       "<text fill=\"#004080\" font-family=\"Courier,monospace\" font-size=\"22.00\" text-anchor=\"start\" x=\"280.5\" y=\"-445.367\">FunctionDef</text>\n",
       "</g>\n",
       "<!-- 1 -->\n",
       "<g class=\"node\" id=\"node2\"><title>1</title>\n",
       "<text fill=\"#008040\" font-family=\"Courier,monospace\" font-size=\"22.00\" text-anchor=\"middle\" x=\"185\" y=\"-371.2\">&quot;xkcd_palette&quot;</text>\n",
       "</g>\n",
       "<!-- 0&#45;&#45;1 -->\n",
       "<g class=\"edge\" id=\"edge2\"><title>0--1</title>\n",
       "<path d=\"M355,-432C355,-432 291.467,-411.819 242.08,-396.131\" fill=\"none\" stroke=\"black\"/>\n",
       "</g>\n",
       "<!-- 3 -->\n",
       "<g class=\"node\" id=\"node4\"><title>3</title>\n",
       "<text fill=\"#004080\" font-family=\"Courier,monospace\" font-size=\"22.00\" text-anchor=\"start\" x=\"314\" y=\"-373.367\">Assign</text>\n",
       "</g>\n",
       "<!-- 0&#45;&#45;3 -->\n",
       "<g class=\"edge\" id=\"edge4\"><title>0--3</title>\n",
       "<path d=\"M355,-432C355,-432 355,-411.948 355,-396.282\" fill=\"none\" stroke=\"black\"/>\n",
       "</g>\n",
       "<!-- 25 -->\n",
       "<g class=\"node\" id=\"node36\"><title>25</title>\n",
       "<text fill=\"#004080\" font-family=\"Courier,monospace\" font-size=\"22.00\" text-anchor=\"start\" x=\"502\" y=\"-373.367\">Return</text>\n",
       "</g>\n",
       "<!-- 0&#45;&#45;25 -->\n",
       "<g class=\"edge\" id=\"edge36\"><title>0--25</title>\n",
       "<path d=\"M355,-432C355,-432 437.904,-408.187 493.605,-392.188\" fill=\"none\" stroke=\"black\"/>\n",
       "</g>\n",
       "<!-- 4 -->\n",
       "<g class=\"node\" id=\"node6\"><title>4</title>\n",
       "<text fill=\"#004080\" font-family=\"Courier,monospace\" font-size=\"22.00\" text-anchor=\"start\" x=\"98.5\" y=\"-301.367\">Name</text>\n",
       "</g>\n",
       "<!-- 3&#45;&#45;4 -->\n",
       "<g class=\"edge\" id=\"edge6\"><title>3--4</title>\n",
       "<path d=\"M342,-360C342,-360 223.643,-330.411 162.154,-315.038\" fill=\"none\" stroke=\"black\"/>\n",
       "</g>\n",
       "<!-- 7 -->\n",
       "<g class=\"node\" id=\"node10\"><title>7</title>\n",
       "<text fill=\"#004080\" font-family=\"Courier,monospace\" font-size=\"22.00\" text-anchor=\"start\" x=\"300.5\" y=\"-301.367\">ListComp</text>\n",
       "</g>\n",
       "<!-- 3&#45;&#45;7 -->\n",
       "<g class=\"edge\" id=\"edge10\"><title>3--7</title>\n",
       "<path d=\"M342,-360C342,-360 346.827,-339.948 350.599,-324.282\" fill=\"none\" stroke=\"black\"/>\n",
       "</g>\n",
       "<!-- 5 -->\n",
       "<g class=\"node\" id=\"node8\"><title>5</title>\n",
       "<text fill=\"#008040\" font-family=\"Courier,monospace\" font-size=\"22.00\" text-anchor=\"middle\" x=\"69\" y=\"-227.2\">&quot;palette&quot;</text>\n",
       "</g>\n",
       "<!-- 4&#45;&#45;5 -->\n",
       "<g class=\"edge\" id=\"edge8\"><title>4--5</title>\n",
       "<path d=\"M111.616,-287.831C103.042,-277 92.186,-263.288 83.5772,-252.413\" fill=\"none\" stroke=\"black\"/>\n",
       "</g>\n",
       "<!-- 8 -->\n",
       "<g class=\"node\" id=\"node12\"><title>8</title>\n",
       "<text fill=\"#004080\" font-family=\"Courier,monospace\" font-size=\"22.00\" text-anchor=\"start\" x=\"164\" y=\"-229.367\">Subscript</text>\n",
       "</g>\n",
       "<!-- 7&#45;&#45;8 -->\n",
       "<g class=\"edge\" id=\"edge12\"><title>7--8</title>\n",
       "<path d=\"M351,-288C351,-288 303.911,-267.819 267.307,-252.131\" fill=\"none\" stroke=\"black\"/>\n",
       "</g>\n",
       "<!-- 17 -->\n",
       "<g class=\"node\" id=\"node24\"><title>17</title>\n",
       "<text fill=\"#004080\" font-family=\"Courier,monospace\" font-size=\"22.00\" text-anchor=\"start\" x=\"323\" y=\"-229.367\">comprehension</text>\n",
       "</g>\n",
       "<!-- 7&#45;&#45;17 -->\n",
       "<g class=\"edge\" id=\"edge24\"><title>7--17</title>\n",
       "<path d=\"M351,-288C351,-288 373.28,-267.948 390.687,-252.282\" fill=\"none\" stroke=\"black\"/>\n",
       "</g>\n",
       "<!-- 9 -->\n",
       "<g class=\"node\" id=\"node14\"><title>9</title>\n",
       "<text fill=\"#004080\" font-family=\"Courier,monospace\" font-size=\"22.00\" text-anchor=\"start\" x=\"82.5\" y=\"-157.367\">Name</text>\n",
       "</g>\n",
       "<!-- 8&#45;&#45;9 -->\n",
       "<g class=\"edge\" id=\"edge14\"><title>8--9</title>\n",
       "<path d=\"M215,-216C215,-216 175.759,-195.819 145.256,-180.131\" fill=\"none\" stroke=\"black\"/>\n",
       "</g>\n",
       "<!-- 12 -->\n",
       "<g class=\"node\" id=\"node18\"><title>12</title>\n",
       "<text fill=\"#004080\" font-family=\"Courier,monospace\" font-size=\"22.00\" text-anchor=\"start\" x=\"189\" y=\"-157.367\">Index</text>\n",
       "</g>\n",
       "<!-- 8&#45;&#45;12 -->\n",
       "<g class=\"edge\" id=\"edge18\"><title>8--12</title>\n",
       "<path d=\"M215,-216C215,-216 217.971,-195.948 220.292,-180.282\" fill=\"none\" stroke=\"black\"/>\n",
       "</g>\n",
       "<!-- 10 -->\n",
       "<g class=\"node\" id=\"node16\"><title>10</title>\n",
       "<text fill=\"#008040\" font-family=\"Courier,monospace\" font-size=\"22.00\" text-anchor=\"middle\" x=\"91\" y=\"-83.2\">&quot;xkcd_rgb&quot;</text>\n",
       "</g>\n",
       "<!-- 9&#45;&#45;10 -->\n",
       "<g class=\"edge\" id=\"edge16\"><title>9--10</title>\n",
       "<path d=\"M105.205,-143.831C102.347,-133 98.7287,-119.288 95.8591,-108.413\" fill=\"none\" stroke=\"black\"/>\n",
       "</g>\n",
       "<!-- 13 -->\n",
       "<g class=\"node\" id=\"node20\"><title>13</title>\n",
       "<text fill=\"#004080\" font-family=\"Courier,monospace\" font-size=\"22.00\" text-anchor=\"start\" x=\"193.5\" y=\"-85.3667\">Name</text>\n",
       "</g>\n",
       "<!-- 12&#45;&#45;13 -->\n",
       "<g class=\"edge\" id=\"edge20\"><title>12--13</title>\n",
       "<path d=\"M222.495,-143.831C222.194,-133 221.814,-119.288 221.511,-108.413\" fill=\"none\" stroke=\"black\"/>\n",
       "</g>\n",
       "<!-- 14 -->\n",
       "<g class=\"node\" id=\"node22\"><title>14</title>\n",
       "<text fill=\"#008040\" font-family=\"Courier,monospace\" font-size=\"22.00\" text-anchor=\"middle\" x=\"221\" y=\"-11.2\">&quot;name&quot;</text>\n",
       "</g>\n",
       "<!-- 13&#45;&#45;14 -->\n",
       "<g class=\"edge\" id=\"edge22\"><title>13--14</title>\n",
       "<path d=\"M221,-71.8314C221,-61 221,-47.2876 221,-36.4133\" fill=\"none\" stroke=\"black\"/>\n",
       "</g>\n",
       "<!-- 18 -->\n",
       "<g class=\"node\" id=\"node26\"><title>18</title>\n",
       "<text fill=\"#004080\" font-family=\"Courier,monospace\" font-size=\"22.00\" text-anchor=\"start\" x=\"294.5\" y=\"-157.367\">Name</text>\n",
       "</g>\n",
       "<!-- 17&#45;&#45;18 -->\n",
       "<g class=\"edge\" id=\"edge26\"><title>17--18</title>\n",
       "<path d=\"M411,-216C411,-216 377.951,-195.948 352.131,-180.282\" fill=\"none\" stroke=\"black\"/>\n",
       "</g>\n",
       "<!-- 21 -->\n",
       "<g class=\"node\" id=\"node30\"><title>21</title>\n",
       "<text fill=\"#004080\" font-family=\"Courier,monospace\" font-size=\"22.00\" text-anchor=\"start\" x=\"384.5\" y=\"-157.367\">Name</text>\n",
       "</g>\n",
       "<!-- 17&#45;&#45;21 -->\n",
       "<g class=\"edge\" id=\"edge30\"><title>17--21</title>\n",
       "<path d=\"M411,-216C411,-216 411.371,-195.948 411.661,-180.282\" fill=\"none\" stroke=\"black\"/>\n",
       "</g>\n",
       "<!-- 24 -->\n",
       "<g class=\"node\" id=\"node34\"><title>24</title>\n",
       "<text fill=\"#008040\" font-family=\"Courier,monospace\" font-size=\"22.00\" text-anchor=\"middle\" x=\"493\" y=\"-155.2\">0</text>\n",
       "</g>\n",
       "<!-- 17&#45;&#45;24 -->\n",
       "<g class=\"edge\" id=\"edge34\"><title>17--24</title>\n",
       "<path d=\"M411,-216C411,-216 441.841,-195.69 465.695,-179.981\" fill=\"none\" stroke=\"black\"/>\n",
       "</g>\n",
       "<!-- 19 -->\n",
       "<g class=\"node\" id=\"node28\"><title>19</title>\n",
       "<text fill=\"#008040\" font-family=\"Courier,monospace\" font-size=\"22.00\" text-anchor=\"middle\" x=\"324\" y=\"-83.2\">&quot;name&quot;</text>\n",
       "</g>\n",
       "<!-- 18&#45;&#45;19 -->\n",
       "<g class=\"edge\" id=\"edge28\"><title>18--19</title>\n",
       "<path d=\"M322.505,-143.831C322.806,-133 323.186,-119.288 323.489,-108.413\" fill=\"none\" stroke=\"black\"/>\n",
       "</g>\n",
       "<!-- 22 -->\n",
       "<g class=\"node\" id=\"node32\"><title>22</title>\n",
       "<text fill=\"#008040\" font-family=\"Courier,monospace\" font-size=\"22.00\" text-anchor=\"middle\" x=\"453\" y=\"-83.2\">&quot;colors&quot;</text>\n",
       "</g>\n",
       "<!-- 21&#45;&#45;22 -->\n",
       "<g class=\"edge\" id=\"edge32\"><title>21--22</title>\n",
       "<path d=\"M422.346,-143.831C428.514,-133 436.322,-119.288 442.515,-108.413\" fill=\"none\" stroke=\"black\"/>\n",
       "</g>\n",
       "<!-- 26 -->\n",
       "<g class=\"node\" id=\"node38\"><title>26</title>\n",
       "<text fill=\"#004080\" font-family=\"Courier,monospace\" font-size=\"22.00\" text-anchor=\"start\" x=\"703.5\" y=\"-301.367\">Call</text>\n",
       "</g>\n",
       "<!-- 25&#45;&#45;26 -->\n",
       "<g class=\"edge\" id=\"edge38\"><title>25--26</title>\n",
       "<path d=\"M590.44,-359.831C622.856,-347.417 665.154,-331.218 694.849,-319.845\" fill=\"none\" stroke=\"black\"/>\n",
       "</g>\n",
       "<!-- 27 -->\n",
       "<g class=\"node\" id=\"node40\"><title>27</title>\n",
       "<text fill=\"#004080\" font-family=\"Courier,monospace\" font-size=\"22.00\" text-anchor=\"start\" x=\"645.5\" y=\"-229.367\">Name</text>\n",
       "</g>\n",
       "<!-- 26&#45;&#45;27 -->\n",
       "<g class=\"edge\" id=\"edge40\"><title>26--27</title>\n",
       "<path d=\"M741,-288C741,-288 715.749,-267.948 696.022,-252.282\" fill=\"none\" stroke=\"black\"/>\n",
       "</g>\n",
       "<!-- 30 -->\n",
       "<g class=\"node\" id=\"node44\"><title>30</title>\n",
       "<text fill=\"#004080\" font-family=\"Courier,monospace\" font-size=\"22.00\" text-anchor=\"start\" x=\"762.5\" y=\"-229.367\">Name</text>\n",
       "</g>\n",
       "<!-- 26&#45;&#45;30 -->\n",
       "<g class=\"edge\" id=\"edge44\"><title>26--30</title>\n",
       "<path d=\"M741,-288C741,-288 759.196,-267.948 773.411,-252.282\" fill=\"none\" stroke=\"black\"/>\n",
       "</g>\n",
       "<!-- 33 -->\n",
       "<g class=\"node\" id=\"node48\"><title>33</title>\n",
       "<text fill=\"#004080\" font-family=\"Courier,monospace\" font-size=\"22.00\" text-anchor=\"start\" x=\"938.5\" y=\"-229.367\">Call</text>\n",
       "</g>\n",
       "<!-- 26&#45;&#45;33 -->\n",
       "<g class=\"edge\" id=\"edge48\"><title>26--33</title>\n",
       "<path d=\"M741,-288C741,-288 866.248,-257.941 929.85,-242.676\" fill=\"none\" stroke=\"black\"/>\n",
       "</g>\n",
       "<!-- 28 -->\n",
       "<g class=\"node\" id=\"node42\"><title>28</title>\n",
       "<text fill=\"#008040\" font-family=\"Courier,monospace\" font-size=\"22.00\" text-anchor=\"middle\" x=\"647\" y=\"-155.2\">&quot;color_palette&quot;</text>\n",
       "</g>\n",
       "<!-- 27&#45;&#45;28 -->\n",
       "<g class=\"edge\" id=\"edge42\"><title>27--28</title>\n",
       "<path d=\"M666.439,-215.831C662.528,-205 657.576,-191.288 653.649,-180.413\" fill=\"none\" stroke=\"black\"/>\n",
       "</g>\n",
       "<!-- 31 -->\n",
       "<g class=\"node\" id=\"node46\"><title>31</title>\n",
       "<text fill=\"#008040\" font-family=\"Courier,monospace\" font-size=\"22.00\" text-anchor=\"middle\" x=\"843\" y=\"-155.2\">&quot;palette&quot;</text>\n",
       "</g>\n",
       "<!-- 30&#45;&#45;31 -->\n",
       "<g class=\"edge\" id=\"edge46\"><title>30--31</title>\n",
       "<path d=\"M803.374,-215.831C811.347,-205 821.441,-191.288 829.446,-180.413\" fill=\"none\" stroke=\"black\"/>\n",
       "</g>\n",
       "<!-- 34 -->\n",
       "<g class=\"node\" id=\"node50\"><title>34</title>\n",
       "<text fill=\"#004080\" font-family=\"Courier,monospace\" font-size=\"22.00\" text-anchor=\"start\" x=\"938.5\" y=\"-157.367\">Name</text>\n",
       "</g>\n",
       "<!-- 33&#45;&#45;34 -->\n",
       "<g class=\"edge\" id=\"edge50\"><title>33--34</title>\n",
       "<path d=\"M975,-216C975,-216 971.658,-195.948 969.047,-180.282\" fill=\"none\" stroke=\"black\"/>\n",
       "</g>\n",
       "<!-- 37 -->\n",
       "<g class=\"node\" id=\"node54\"><title>37</title>\n",
       "<text fill=\"#004080\" font-family=\"Courier,monospace\" font-size=\"22.00\" text-anchor=\"start\" x=\"1038.5\" y=\"-157.367\">Name</text>\n",
       "</g>\n",
       "<!-- 33&#45;&#45;37 -->\n",
       "<g class=\"edge\" id=\"edge54\"><title>33--37</title>\n",
       "<path d=\"M975,-216C975,-216 1009.01,-195.819 1035.45,-180.131\" fill=\"none\" stroke=\"black\"/>\n",
       "</g>\n",
       "<!-- 35 -->\n",
       "<g class=\"node\" id=\"node52\"><title>35</title>\n",
       "<text fill=\"#008040\" font-family=\"Courier,monospace\" font-size=\"22.00\" text-anchor=\"middle\" x=\"956\" y=\"-83.2\">&quot;len&quot;</text>\n",
       "</g>\n",
       "<!-- 34&#45;&#45;35 -->\n",
       "<g class=\"edge\" id=\"edge52\"><title>34--35</title>\n",
       "<path d=\"M963.477,-143.831C961.972,-133 960.068,-119.288 958.557,-108.413\" fill=\"none\" stroke=\"black\"/>\n",
       "</g>\n",
       "<!-- 38 -->\n",
       "<g class=\"node\" id=\"node56\"><title>38</title>\n",
       "<text fill=\"#008040\" font-family=\"Courier,monospace\" font-size=\"22.00\" text-anchor=\"middle\" x=\"1085\" y=\"-83.2\">&quot;palette&quot;</text>\n",
       "</g>\n",
       "<!-- 37&#45;&#45;38 -->\n",
       "<g class=\"edge\" id=\"edge56\"><title>37--38</title>\n",
       "<path d=\"M1070.79,-143.831C1073.65,-133 1077.27,-119.288 1080.14,-108.413\" fill=\"none\" stroke=\"black\"/>\n",
       "</g>\n",
       "</g>\n",
       "</svg>"
      ],
      "text/plain": [
       "<IPython.core.display.SVG object>"
      ]
     },
     "metadata": {},
     "output_type": "display_data"
    }
   ],
   "source": [
    "import showastfork\n",
    "import importlib\n",
    "importlib.reload(showastfork)\n",
    "import project.utils.code_tokenize as ct\n",
    "\n",
    "\n",
    "def get_attn_translation(nn, sess, data):\n",
    "    [attn] =  nn._feed_fwd(sess, data, [nn.attention_scores] )\n",
    "    trans = get_translations(nn, data)\n",
    "    return zip(attn, trans[-1], data[2], data[3])\n",
    "\n",
    "def generate_reports_GRAPH_TABLE_TREE_CODE(comb_faves, data_input, max_no, nn, sess):\n",
    "    x = []\n",
    "    i = 0 \n",
    "    for (attn, trans, paths, tvs), comb in zip(get_attn_translation(nn,sess, data_input), comb_faves):\n",
    "        plot_attention_single(attn, trans, paths, tvs)\n",
    "        print(latex_translation(trans))\n",
    "        print(src_to_latex(ct.get_pure_src(comb[1])) )\n",
    "        x.append(showastfork.show_ast(ct.get_ast(comb[1]), get_settings(), True))\n",
    "        i += 1\n",
    "        if i == max_no:\n",
    "            break\n",
    "    # save_graph('xkcd_palette_strip', x[0])\n",
    "\n",
    "comb_faves = load_examples(\"COMBINED_FAVES_REPORT\")\n",
    "data_input = stack_from_comb(comb_faves, 10)\n",
    "generate_reports_GRAPH_TABLE_TREE_CODE(comb_faves, data_input, 1, nn, sess)"
   ]
  },
  {
   "cell_type": "code",
   "execution_count": 15,
   "metadata": {},
   "outputs": [],
   "source": [
    "# import os\n",
    "# os.environ[\"CUDA_VISIBLE_DEVICES\"] = \"0\""
   ]
  },
  {
   "cell_type": "code",
   "execution_count": 16,
   "metadata": {},
   "outputs": [],
   "source": [
    "def get_all_attention_weights(nn, data):\n",
    "    nn._do_shuffle = False\n",
    "    attention, translation = [], []\n",
    "    for i, mb in nn._to_batch(data):\n",
    "        [attn, trans] =  nn._feed_fwd(sess, mb, [nn.attention_scores, nn.inference_id])\n",
    "        attention.append(attn)\n",
    "        translation.append(trans)\n",
    "    return attention, translation, data\n",
    "\n",
    "    \n"
   ]
  },
  {
   "cell_type": "code",
   "execution_count": 17,
   "metadata": {},
   "outputs": [],
   "source": [
    "attn, trans, data = get_all_attention_weights(nn, data_tuple.valid)\n"
   ]
  },
  {
   "cell_type": "code",
   "execution_count": 18,
   "metadata": {},
   "outputs": [],
   "source": [
    "def plot_hist(data_and_labels):\n",
    "    fig, ax = plt.subplots(1, figsize=(16,8))\n",
    "    for x,l,a in data_and_labels:\n",
    "        ax.hist(x, density=True , bins=50, alpha=a, label=l)\n",
    "    ax.set_title(\"Histogram of Attention Entropy for Code2Vec Decoder Model\", fontsize=22)\n",
    "#     yt = ax.get_yticks()\n",
    "#     set \n",
    "#     yt = [\"{:.2f}%\".format(y)  for y in  100*yt/len(x)]\n",
    "#     ax.set_yticklabels( yt, rotation=0,  fontsize=18)\n",
    "    for tick in ax.xaxis.get_major_ticks():\n",
    "        tick.label.set_fontsize(18) \n",
    "    for tick in ax.yaxis.get_major_ticks():\n",
    "        tick.label.set_fontsize(18) \n",
    "    ax.set_ylabel(\"Frequency (%)\", fontsize=22)\n",
    "    ax.set_xlabel(\"Attention Entropies\", fontsize=22)\n",
    "    ax.legend(fontsize = 'xx-large')\n",
    "    plt.show()"
   ]
  },
  {
   "cell_type": "code",
   "execution_count": 19,
   "metadata": {},
   "outputs": [],
   "source": [
    "(attn_weights_c2v, all_trans_c2v, entropies_c2v) = load_examples( \"FOURTH_FIFTH_attn_weight_entropies_CODE2VEC_SOLO\",  )\n",
    "(attn_weights_c2v_margs, all_trans_c2v_margs, entropies_c2v_margs) = load_examples( \"FOURTH_FIFTH_attn_weight_entropies_CODE2VEC_MASK_ARGS\",  )\n",
    "(attn_weights_c2v_mall, all_trans_c2v_mall, entropies_c2v_mall) = load_examples( \"FOURTH_FIFTH_attn_weight_entropies_CODE2VEC_MASK_ALL\",  )\n",
    "(attn_weights_c2v_enc, all_trans_c2v_enc, entropies_c2v_enc) = load_examples( \"SIXTH_attn_weight_entropies_CODE2VEC_ENC\",  )\n",
    "rows = [np.trim_zeros(row) for array in attn for row in array]\n",
    "\n",
    "entropies = [-np.sum(r * np.log(r)) for r in rows]\n",
    "uniform_entropies = [-np.log(1./len(r)) for r in rows]"
   ]
  },
  {
   "cell_type": "code",
   "execution_count": null,
   "metadata": {},
   "outputs": [],
   "source": []
  },
  {
   "cell_type": "code",
   "execution_count": 20,
   "metadata": {
    "scrolled": false
   },
   "outputs": [
    {
     "data": {
      "image/png": "[encoded data removed]",
      "text/plain": [
       "<Figure size 1152x576 with 1 Axes>"
      ]
     },
     "metadata": {},
     "output_type": "display_data"
    },
    {
     "data": {
      "image/png": "[encoded data removed]",
      "text/plain": [
       "<Figure size 1152x576 with 1 Axes>"
      ]
     },
     "metadata": {},
     "output_type": "display_data"
    },
    {
     "data": {
      "image/png": "[encoded data removed]",
      "text/plain": [
       "<Figure size 1152x576 with 1 Axes>"
      ]
     },
     "metadata": {},
     "output_type": "display_data"
    },
    {
     "data": {
      "image/png": "[encoded data removed]",
      "text/plain": [
       "<Figure size 1152x576 with 1 Axes>"
      ]
     },
     "metadata": {},
     "output_type": "display_data"
    }
   ],
   "source": [
    "plot_hist([\n",
    "    (entropies_c2v,'Code2Vec Model Original', 0.5),\n",
    "    (uniform_entropies,'Uniform Categorical Distribution', 0.5), \n",
    "])\n",
    "\n",
    "plot_hist([\n",
    "    (entropies_c2v,'Code2Vec Model Original', 0.3),\n",
    "    (uniform_entropies,'Uniform Categorical Distribution', 0.3), \n",
    "    (entropies_c2v_margs,'Code2Vec Model Mask Args', 0.5),\n",
    "])\n",
    "\n",
    "plot_hist([\n",
    "    (entropies_c2v,'Code2Vec Model Original', 0.3),\n",
    "    (uniform_entropies,'Uniform Categorical Distribution', 0.3), \n",
    "    (entropies_c2v_mall,'Code2Vec Model Mask All', 0.5)\n",
    "])\n",
    "\n",
    "plot_hist([\n",
    "    (entropies_c2v,'Code2Vec Model Original', 0.3),\n",
    "    (uniform_entropies,'Uniform Categorical Distribution', 0.3), \n",
    "    (entropies_c2v_enc,'Code2Vec Encoder', 0.5)\n",
    "])\n",
    "# sorted(uniform_entropies)"
   ]
  },
  {
   "cell_type": "code",
   "execution_count": 22,
   "metadata": {},
   "outputs": [],
   "source": [
    "from project.models.hashtable_baseline import HashtableBaseline, _run_model\n",
    "# reload(hashtable_baseline)\n",
    "# HashtableBaseline = hashtable_baseline.HashtableBaseline\n",
    "# _run_model = hashtable_baseline._run_model\n",
    "\n",
    "# HB.train(data_tuple.train)\n",
    "\n",
    "def load_baseline(load_dir,mode):\n",
    "    with open(load_dir['logdir']+'/args.pkl', 'rb') as f:\n",
    "        args = pickle.load(f)\n",
    "        args['code_mode'] = [mode]\n",
    "        args['n_times'] = 1\n",
    "        args['logfile'] = load_dir['logdir']+'/hashtable_main'\n",
    "    return _run_model(**args)"
   ]
  },
  {
   "cell_type": "code",
   "execution_count": null,
   "metadata": {},
   "outputs": [],
   "source": [
    "HB, data = load_baseline(load_dir,\"code_only_hardest\")"
   ]
  },
  {
   "cell_type": "code",
   "execution_count": null,
   "metadata": {},
   "outputs": [],
   "source": []
  },
  {
   "cell_type": "code",
   "execution_count": null,
   "metadata": {},
   "outputs": [],
   "source": [
    "hb_trans = HB.test(d[1])"
   ]
  },
  {
   "cell_type": "code",
   "execution_count": null,
   "metadata": {},
   "outputs": [],
   "source": [
    "from nltk.translate.bleu_score import sentence_bleu\n",
    "def get_bleu_from_translation(HB, hb_trans):\n",
    "    bleu_scores = [sent_bleu([t.description], t.translation[1:-1]) for t in hb_trans]\n",
    "    return bleu_scores\n",
    "\n",
    "def get_sentence_samples(bleu_scores, translations, max_no):\n",
    "    bleu_points = [0,0,0,1,3,5,7,9,10,10,]\n",
    "    \n",
    "    print(\"\\\\begin{table}\\n\\\\begin{center}\\n\\\\begin{tabular}{l}\\n\")\n",
    "    print(\"\\nA Random Sample of Bleu Scores \\\\\\\\ \\n\\n \")\n",
    "    \n",
    "    for i, b, h in zip(range(max_no),bleu_scores, translations):\n",
    "        print(\"\\\\textbf{B}:\"+\" {:.3f}\".format(b))\n",
    "        print(\"\\\\textbf{C}:\"+ \" {:.1f}%  \\\\\\\\\".format(100/h.choices))\n",
    "        print(latex_translation(h))\n",
    "        print(\"\\\\\\\\\")\n",
    "    \n",
    "    print(\"\\\\hline\\\\\\\\\\\\\\\\\")\n",
    "    greater_than_point5 = [(b,t) for b,t in zip(bleu_scores, translations) if b>0.001]\n",
    "    \n",
    "    print(\"\\n\\nA Random Sample of Bleu Scores $>0.5$ \\\\\\\\\\\\\\\\ \\n\\n\")\n",
    "    for i, (b, h )in zip(range(3),greater_than_point5):\n",
    "        print(\"\\\\textbf{B}:\"+\" {:.3f}\".format(b))\n",
    "        print(\"\\\\textbf{C}:\"+ \" {:.1f}%  \\\\\\\\\".format(100/h.choices))\n",
    "        print(latex_translation(h))\n",
    "        print()\n",
    "    \n",
    "    print(\"\\end{tabular}\\n\\end{center}\\n\\end{table}\\n\")\n",
    "    "
   ]
  },
  {
   "cell_type": "code",
   "execution_count": null,
   "metadata": {
    "scrolled": false
   },
   "outputs": [],
   "source": [
    "hb_trans = HB.test(d[1])\n",
    "get_sentence_samples(bs_rl,hb_trans, 4)\n",
    "bs_rl  = get_bleu_from_translation(HB, hb_trans)\n",
    "rote_lerner_entropies = [-np.log(1.0/t.choices) for t in hb_trans]"
   ]
  },
  {
   "cell_type": "code",
   "execution_count": null,
   "metadata": {},
   "outputs": [],
   "source": [
    "from project.external.nmt import bleu\n",
    "from nltk.translate.bleu_score import sentence_bleu\n",
    "def sent_bleu(r, t):\n",
    "    return sentence_bleu(r, t, weights=(0.25,0.25,0.25,0.25))\n",
    "\n",
    "def score_bleu_individually(all_trans, all_attn, references, nn):\n",
    "    flat_trans = [row for m in all_trans for row in m]\n",
    "    flat_attn = [row for m in all_attn for row in m]\n",
    "\n",
    "    flat_full_translations = [nn.translate(i, do_join=False, prepend_tok=nn.word2idx[\"<START>\"])[1:-1] \n",
    "                              for i in flat_trans]\n",
    "    bleu_scores = [sent_bleu([r], t) for r,t in zip(references, flat_full_translations)]\n",
    "    return bleu_scores\n",
    "\n",
    "bsc2v = score_bleu_individually(all_trans_c2v, attn_weights_c2v, data_tuple.valid[-1], nn)\n",
    "bsc2v_margs = score_bleu_individually(all_trans_c2v_margs, attn_weights_c2v, data_tuple.valid[-1], nn)\n",
    "bsc2v_mall = score_bleu_individually(all_trans_c2v_mall, attn_weights_c2v, data_tuple.valid[-1], nn)\n",
    "bsc2e = score_bleu_individually(all_trans_c2v_enc, attn_weights_c2v, data_tuple.valid[-1], nn)\n",
    "\n"
   ]
  },
  {
   "cell_type": "code",
   "execution_count": null,
   "metadata": {},
   "outputs": [],
   "source": [
    "def plot_hist_2(data_and_labels):\n",
    "    fig, ax = plt.subplots(1, figsize=(10,5))\n",
    "    for x,l,a in data_and_labels:\n",
    "        ax.hist(x, bins=50, alpha=a, label=l)\n",
    "    ax.set_title(\"Histogram of Sentence Level Bleu Scores on Validation Set\", fontsize=20)\n",
    "    for tick in ax.xaxis.get_major_ticks():\n",
    "        tick.label.set_fontsize(14) \n",
    "    for tick in ax.yaxis.get_major_ticks():\n",
    "        tick.label.set_fontsize(14) \n",
    "    ax.set_ylabel(\"Counts\", fontsize=18)\n",
    "    ax.set_xlabel(\"Sentence Bleu Score\", fontsize=16)\n",
    "    ax.legend(fontsize = 'xx-large')\n",
    "    plt.yscale('log')\n",
    "    plt.show()"
   ]
  },
  {
   "cell_type": "code",
   "execution_count": null,
   "metadata": {},
   "outputs": [],
   "source": [
    "plot_hist_2([\n",
    "    (bsc2v,'Code2Vec', 0.5), \n",
    "    (bs_rl,'Rote Learner (Hardest Code Only)', 0.5),\n",
    "])\n",
    "\n",
    "# HB_combined, d_combined = load_baseline(load_dir,\"hardest\")\n",
    "# hb_trans_combined = HB_combined.test(d_combined[1])\n",
    "# bs_rl_comb  = get_bleu_from_translation(HB_combined, hb_trans_combined)\n",
    "# rote_comb_lerner_entropies = [-np.log(1.0/t.choices) for t in hb_trans_combined]\n",
    "plot_hist_2([\n",
    "    (bsc2e,'Code2Vec Encoder', 0.5), \n",
    "    (bs_rl_comb,'Rote Learner (Combined)', 0.5),\n",
    "    \n",
    "])\n",
    "\n",
    "\n",
    "# ax.hist(bs_rl, alpha=0.5, bins=50, label='Rote Learner')\n",
    "# ax.hist(bsc2v, alpha=0.5, bins=50, label='Code2Vec')\n",
    "# ax.hist(bsc2v_mall, alpha=0.5, bins=50, label='Code2Vec Mask All')\n",
    "# ax.hist(bsc2v_margs, alpha=0.5, bins=50, label='Code2Vec mask Args')\n",
    "# # ax.hist(bsc2e, alpha=0.5, bins=50, label='Code2Vec Encoder')\n",
    "# ax.legend()\n",
    "# plt.yscale('log')\n",
    "# plt.show()\n",
    "# print(np.mean(bs_rl))\n",
    "# print(np.mean(bsc2v))\n",
    "# print(np.mean(bsc2v_mall))\n",
    "# print(np.mean(bsc2v_margs))\n",
    "# print(np.mean(bsc2e))\n",
    "\n",
    "# def plot"
   ]
  },
  {
   "cell_type": "code",
   "execution_count": 53,
   "metadata": {},
   "outputs": [
    {
     "name": "stdout",
     "output_type": "stream",
     "text": [
      "0.2315648\n"
     ]
    },
    {
     "data": {
      "image/png": "[encoded data removed]",
      "text/plain": [
       "<Figure size 720x360 with 1 Axes>"
      ]
     },
     "metadata": {},
     "output_type": "display_data"
    }
   ],
   "source": [
    "def get_weights():\n",
    "    W = nn.get_scope_variable(sess, \"code2vec_vector\", \"MLP_W\")[0]\n",
    "    B = nn.get_scope_variable(sess, \"code2vec_vector\", \"MLP_B\")[0]\n",
    "#     print(B)\n",
    "    fig, ax = plt.subplots(1,figsize=(10,5) )\n",
    "    \n",
    "    ax.matshow(W[0])\n",
    "#     ax[1].bar(len(B[0]),B[0])\n",
    "    \n",
    "\n",
    "def get_weights_code2vec_encoder():\n",
    "    W = nn.get_scope_variable(sess, \"code2vec_concat\", \"ConcatMLP_W\")[0]\n",
    "    B = nn.get_scope_variable(sess, \"code2vec_concat\", \"ConcatMLP_B\")[0]\n",
    "    fig, ax = plt.subplots(1,figsize=(10,5) )\n",
    "    \n",
    "    name = W[:600,:]\n",
    "    code = W[600:,:]\n",
    "    n_flat = [n for row in name for n in row]\n",
    "    c_flat = [c for row in code for c in row]\n",
    "    ax.hist(n_flat, density=True, alpha=0.7, bins = 200)\n",
    "    ax.hist(c_flat, density=True, alpha=0.7, bins = 200)\n",
    "\n",
    "#     name = B[:600]\n",
    "#     code = B[600:]\n",
    "#     n_flat = [n for n in name ]\n",
    "#     c_flat = [c for n in code ]\n",
    "#     ax.hist(n_flat, density=True, alpha=0.7, bins = 50)\n",
    "#     ax.hist(c_flat, density=True, alpha=0.7, bins = 50)\n",
    "    \n",
    "    print(np.std(W[0]))\n",
    "    return W\n",
    "    \n",
    "    pass\n",
    "\n",
    "\n",
    "# get_weights()\n",
    "W = get_weights_code2vec_encoder()"
   ]
  },
  {
   "cell_type": "code",
   "execution_count": 37,
   "metadata": {},
   "outputs": [
    {
     "data": {
      "text/plain": [
       "array([ 2.4340424e-01, -3.0817316e+00,  2.4857781e+00, -2.3948364e+00,\n",
       "       -1.6393955e+00, -3.1161895e+00,  1.3211688e+00, -4.3344808e+00,\n",
       "       -1.1780260e+01,  2.6462710e+00, -3.4803698e+00,  2.3028100e+00,\n",
       "        3.7196323e-01,  4.8722754e+00, -2.9989510e+00, -3.4335673e+00,\n",
       "        4.3912745e+00, -1.5023068e+00, -6.9271654e-01,  6.0583959e+00,\n",
       "       -4.8717890e+00, -2.2225435e+00, -5.8738256e+00,  8.4241796e-01,\n",
       "       -2.2923439e+00,  2.8526838e+00,  3.5073533e+00, -4.2789407e+00,\n",
       "        3.9147100e-01, -1.5713254e+00,  1.6301819e+00, -2.8806768e-02,\n",
       "        3.6292796e+00,  3.7091839e+00, -2.1160150e+00,  2.9368389e+00,\n",
       "       -5.6030402e+00,  2.0170979e+00,  1.6484008e+00,  9.3793458e-01,\n",
       "       -2.1220269e+00,  1.9440322e+00, -4.7458506e+00, -6.0298696e+00,\n",
       "       -5.1081738e+00,  3.5913056e-01, -3.4404621e+00, -5.4995756e+00,\n",
       "        9.1043973e-01,  1.8415317e-01,  3.0720419e-01,  4.0883045e+00,\n",
       "        6.3184099e+00, -4.1909270e+00,  8.6169386e+00,  2.1241195e+00,\n",
       "       -1.4895579e+00,  7.4501425e-01,  9.0246840e+00, -2.1918209e+00,\n",
       "        4.0201545e-03, -5.4557741e-01,  3.7240644e+00, -3.4446698e-01,\n",
       "        2.0792289e+00,  3.4112101e+00, -7.5988498e+00,  1.6553195e+00,\n",
       "        3.0750711e+00, -4.6282325e+00,  2.1669693e+00, -6.2111402e-01,\n",
       "       -1.8590318e+00,  2.7615702e+00, -5.5550494e+00,  3.1629639e+00,\n",
       "        7.1542943e-01, -3.0238883e+00, -2.3497581e-01,  2.8045692e+00,\n",
       "        4.7694087e+00, -3.2461493e+00,  1.9505165e+00,  4.1715369e+00,\n",
       "        8.8845897e-01,  2.3723316e+00,  4.3211207e+00,  3.1869929e+00,\n",
       "       -1.2292773e+00, -5.6397974e-02, -7.3330598e+00, -3.9691317e+00,\n",
       "       -2.9442484e+00, -2.7194567e+00, -4.0335493e+00,  2.5355666e+00,\n",
       "       -2.1502101e+00, -5.9525337e+00, -6.4789071e+00, -1.8559088e+00,\n",
       "        3.3484006e+00, -1.1807472e+00,  3.0832939e+00,  7.6813251e-01,\n",
       "        2.7657568e+00,  4.1919070e-01, -2.2575202e+00, -8.2183015e-01,\n",
       "       -9.0757811e-01, -2.5754707e+00,  4.4744625e+00, -4.4702964e+00,\n",
       "       -3.2275465e+00,  2.3759737e+00,  4.2195497e+00, -2.7374272e+00,\n",
       "       -3.3117170e+00,  1.3414299e-01,  3.1970620e+00, -1.4795403e+00,\n",
       "       -2.4659679e+00, -3.5840616e+00,  2.7162793e+00,  3.3781546e-01,\n",
       "        1.8785225e+00,  2.9040928e+00, -1.6567087e+00, -4.8558125e+00,\n",
       "        2.0735345e+00,  6.6488261e+00,  3.0572894e+00, -1.3208737e+00,\n",
       "        4.9677024e+00, -5.3985757e-01,  9.3884954e+00,  7.5430012e+00,\n",
       "       -1.2846645e+00, -6.5753260e+00,  5.5335693e+00,  7.3942322e-01,\n",
       "       -7.8603625e-04,  6.7104073e+00, -2.9472804e-01,  2.2125890e+00,\n",
       "       -4.2331246e-01,  2.0583074e+00,  7.0020187e-01, -1.5091778e+00,\n",
       "       -1.3620672e+00,  3.7236044e+00,  2.6310186e+00,  3.2779715e+00,\n",
       "       -2.1829526e+00, -5.5769587e+00, -3.4005839e-01, -5.3481007e+00,\n",
       "        3.6471276e+00,  1.6250772e+00,  5.4916185e-01, -2.5306773e+00,\n",
       "       -1.4733429e+00,  1.6314240e+00,  7.2240674e-01, -3.9207945e+00,\n",
       "       -6.1197157e+00, -2.4450569e+00,  1.7599319e+00,  2.9675002e+00,\n",
       "       -1.4203739e+00, -1.9831555e+00, -1.9725018e+00,  4.1208806e+00,\n",
       "       -2.5133429e+00, -2.7902780e+00,  2.2964926e+00,  7.0341384e-01,\n",
       "       -2.7433543e+00, -6.2409401e-01,  8.5195217e+00, -1.4156756e+00,\n",
       "        9.0652883e-01,  1.9048673e+00, -1.2435870e+00, -3.6126060e+00,\n",
       "       -6.1470139e-01, -6.8274393e+00,  6.3974154e-01, -6.8553801e+00,\n",
       "       -3.0253217e+00, -2.2410119e-01, -5.5944574e-01, -7.9383640e+00,\n",
       "        1.9866306e+00,  1.9005719e+00, -1.2669888e+00, -4.3547282e+00,\n",
       "        1.5837743e+00,  5.6081915e+00, -9.1046089e-01, -7.8209538e+00,\n",
       "        3.7019105e+00, -3.1559417e+00,  3.0758245e+00, -1.2575264e+00,\n",
       "       -1.5968744e+00,  4.4868791e-01,  7.4656091e+00, -5.3508897e+00,\n",
       "       -1.0481825e+00, -3.5687981e+00,  8.7359464e-01, -1.0443778e+00,\n",
       "       -3.5095122e+00,  3.8185019e+00, -5.2037477e+00,  5.9022665e+00,\n",
       "        6.6194763e+00,  6.2744036e+00,  8.1263632e-02, -3.1210098e+00,\n",
       "        4.2605076e+00, -3.2918344e+00, -3.0402730e+00,  5.2494854e-01,\n",
       "        1.8093114e+00,  4.7144580e+00,  8.8106894e-01, -3.3951056e-01,\n",
       "       -2.0904651e+00,  5.9047431e-01, -1.4021279e+00,  2.9254107e+00,\n",
       "        8.6295223e-01, -2.1217120e+00, -3.2790859e+00, -6.2535286e+00,\n",
       "        3.8336378e-01, -4.1477323e+00, -7.4020541e-01,  1.2394675e+00,\n",
       "        2.1635916e-02,  5.5302987e+00, -8.6767042e-01,  5.7381427e-01,\n",
       "       -9.1534726e-02,  1.3657237e+00,  4.2897992e+00, -4.5079393e+00,\n",
       "        2.9532087e+00, -4.1689796e+00, -2.3124595e+00,  7.8031526e+00,\n",
       "       -3.2593181e+00,  4.4404483e+00,  2.6378412e+00,  8.5792029e-01,\n",
       "       -3.2754788e+00, -2.6151309e+00, -4.6725426e+00, -2.2304206e+00,\n",
       "        3.9667976e+00, -8.1999028e-01,  5.3958863e-01,  9.6680659e-01,\n",
       "        3.9066195e+00, -6.6973476e+00,  7.6456966e+00, -5.7773242e+00,\n",
       "       -2.3428316e+00,  2.3261973e-01,  1.2135936e+00,  2.6956654e+00,\n",
       "        3.2433386e+00, -2.2394531e+00, -1.2103088e+00,  1.0395723e+01,\n",
       "        3.2740989e+00, -8.9771996e+00, -1.7832212e+00,  1.7592345e+00,\n",
       "       -1.6165087e-01,  3.2041192e-01,  7.4904485e+00,  7.2313023e+00,\n",
       "        2.8266642e+00, -2.0523634e+00, -3.5954533e+00,  4.0704327e+00,\n",
       "       -5.9967752e+00, -4.1545086e+00,  4.0546656e-01, -1.6671462e-01,\n",
       "        1.7692020e+00,  1.3989140e+00,  6.5060979e-01,  3.2189450e+00,\n",
       "       -4.3489122e+00, -3.1078963e+00,  7.4519265e-01,  2.7971926e+00],\n",
       "      dtype=float32)"
      ]
     },
     "execution_count": 37,
     "metadata": {},
     "output_type": "execute_result"
    }
   ],
   "source": [
    "np.sum(W[0:600, :], axis=0) \n",
    "np.sum(W[600:, :], axis=0) "
   ]
  },
  {
   "cell_type": "code",
   "execution_count": null,
   "metadata": {},
   "outputs": [],
   "source": [
    "y = [(i, d) for i, d in enumerate(zip(*data_tuple.test))]\n",
    "y[0]\n",
    "RAW_TEST_DATA[0]\n",
    "data_tuple.test[-1][0]"
   ]
  },
  {
   "cell_type": "code",
   "execution_count": null,
   "metadata": {},
   "outputs": [],
   "source": [
    "# bleu_bootstrap = get_bleu_bootstrap(T[-1], sample_size=1000, no_samples=1000)"
   ]
  },
  {
   "cell_type": "code",
   "execution_count": null,
   "metadata": {},
   "outputs": [],
   "source": [
    "# print(\"{:.5f}, {:.5f}\".format(np.mean(bleu_bootstrap), np.std(bleu_bootstrap)))\n",
    "\n",
    "# print(\"{:.5f}, {:.5f}\".format(np.mean(sorted(bleu_bootstrap)[25:-25]), np.std(sorted(bleu_bootstrap)[25:-25])))"
   ]
  },
  {
   "cell_type": "code",
   "execution_count": null,
   "metadata": {},
   "outputs": [],
   "source": [
    "import pickle\n",
    "from collections import namedtuple\n",
    "\n",
    "Examples = namedtuple(\"Examples\", [\"translations\", \"data_tuple\"])\n",
    "def find_examples(translations, data_tuple):\n",
    "    return_index = []\n",
    "    return_data = [[] for  _ in data_tuple.test]\n",
    "    for t in translations:\n",
    "        for i,d in enumerate(data_tuple.test[-1]):\n",
    "            arg_name = \"\".join(nn.translate(data_tuple.test[0][i], lookup=nn.idx2char, do_join=False))\n",
    "            if d == t.description and arg_name == t.name:\n",
    "                return_index.append(i)\n",
    "    \n",
    "    for j in return_index:\n",
    "        for k, d in enumerate(return_data):\n",
    "            d.append(data_tuple.test[k][j])\n",
    "    \n",
    "    return [np.stack(x) for x in return_data[:-1]] + [return_data[-1]]\n",
    "\n",
    "def load_examples(name):\n",
    "    with open(\"examples/{}.eg.pkl\".format(name), 'rb') as f:\n",
    "         examples = pickle.load(f)\n",
    "    return examples\n",
    "\n",
    "def save_examples(name, good_data_tuple):\n",
    "    with open(\"examples/{}.eg.pkl\".format(name), 'wb') as f:\n",
    "        pickle.dump(good_data_tuple, f)\n"
   ]
  },
  {
   "cell_type": "markdown",
   "metadata": {},
   "source": [
    "### 2 Funcname Otherargs"
   ]
  },
  {
   "cell_type": "code",
   "execution_count": null,
   "metadata": {},
   "outputs": [],
   "source": [
    "# good_examples = [T[3][i] for i in [10, 12, 23, 83, 192, 213, 237, 240, 247, 263]]\n",
    "# data_examples = find_examples(good_examples, data_tuple)        \n",
    "# egs = Examples(good_examples,data_examples )\n",
    "# egs = load_examples('second_exp_funcname_otherargs')"
   ]
  },
  {
   "cell_type": "code",
   "execution_count": null,
   "metadata": {
    "scrolled": false
   },
   "outputs": [],
   "source": [
    "from project.data.preprocessed import load_vocab\n",
    "path2idx, path2cnt = load_vocab('no_dups_X', 'quickload_paths')\n",
    "tv2idx, tv2cnt = load_vocab('no_dups_X', 'quickload_tvs')\n",
    "idx2tv = {v:k for k,v in tv2idx.items()}\n",
    "idx2path ={v:k for k,v in path2idx.items()}\n",
    "\n",
    "def translate_paths(paths, tvs):\n",
    "    return[\"{} : {}\".format(idx2path[p], idx2tv[t]) for p,t in zip(np.trim_zeros(paths), np.trim_zeros(tvs))]"
   ]
  },
  {
   "cell_type": "code",
   "execution_count": null,
   "metadata": {},
   "outputs": [],
   "source": [
    "\n",
    "        "
   ]
  },
  {
   "cell_type": "code",
   "execution_count": null,
   "metadata": {},
   "outputs": [],
   "source": [
    "# import tensorflow as tf\n",
    "from matplotlib import pyplot as plt\n",
    "j = 132\n",
    "just_one = [ i[j:j+1] for i in data_tuple.test ]\n",
    "paths = np.trim_zeros(just_one[2][0])\n",
    "tvs = np.trim_zeros(just_one[3][0])\n",
    "ptvs = translate_paths(paths, tvs)\n",
    "\n",
    "\n",
    "path2idx, path2cnt = load_vocab('no_dups_1', 'quickload_paths')\n",
    "tv2idx, tv2cnt = load_vocab('no_dups_1', 'quickload_tvs')\n",
    "attention, translate = nn._feed_fwd(sess, just_one, [nn.attention_scores, nn.inference_id] )\n",
    "# char_input = nn.translate(just_one[0][0], lookup=nn.idx2char, do_join=False)\n",
    "\n",
    "\n",
    "word_output = nn.translate(translate[0], do_join=False)\n",
    "print(word_output)\n",
    "# # print(np.trim_zeros(just_one[0][0]).shape)\n",
    "\n",
    "attn = np.trim_zeros(attention[0])\n",
    "plt.figure(figsize=(8,8))\n",
    "_, c = attention.shape\n",
    "plt.bar(np.arange(len(attn)), attn)\n",
    "plt.xticks(np.arange(len(ptvs)), ptvs, rotation=90)\n",
    "# plt.yticks(np.arange(len(word_output)), word_output)\n",
    "# print(moved.shape)\n",
    "plt.show()\n"
   ]
  },
  {
   "cell_type": "code",
   "execution_count": null,
   "metadata": {},
   "outputs": [],
   "source": []
  },
  {
   "cell_type": "code",
   "execution_count": null,
   "metadata": {},
   "outputs": [],
   "source": []
  },
  {
   "cell_type": "code",
   "execution_count": null,
   "metadata": {},
   "outputs": [],
   "source": [
    "# 10, 12, 23, 83, 192, 213, 237, 240, 247, 263, \n",
    "for i, t in enumerate(good_examples):\n",
    "    print(i,t)"
   ]
  },
  {
   "cell_type": "code",
   "execution_count": null,
   "metadata": {},
   "outputs": [],
   "source": [
    "char_embeddings = nn.get_scope_variable(sess, 'embed_vars', 'char_embed')"
   ]
  },
  {
   "cell_type": "code",
   "execution_count": null,
   "metadata": {},
   "outputs": [],
   "source": [
    "len(data_tuple.test[-1])\n"
   ]
  },
  {
   "cell_type": "code",
   "execution_count": null,
   "metadata": {
    "scrolled": false
   },
   "outputs": [],
   "source": [
    "#\"\\n\".join(\"\\t\".join([str(j) for j in i]) for i in char_embeddings[0]) \n",
    "print(\"\\n\".join([\"Char\"] + [nn.idx2char[i] for i in sorted(nn.idx2char.keys())]))\n"
   ]
  },
  {
   "cell_type": "code",
   "execution_count": null,
   "metadata": {},
   "outputs": [],
   "source": []
  }
 ],
 "metadata": {
  "kernelspec": {
   "display_name": "Python 3",
   "language": "python",
   "name": "python3"
  },
  "language_info": {
   "codemirror_mode": {
    "name": "ipython",
    "version": 3
   },
   "file_extension": ".py",
   "mimetype": "text/x-python",
   "name": "python",
   "nbconvert_exporter": "python",
   "pygments_lexer": "ipython3",
   "version": "3.6.5"
  }
 },
 "nbformat": 4,
 "nbformat_minor": 2
}
