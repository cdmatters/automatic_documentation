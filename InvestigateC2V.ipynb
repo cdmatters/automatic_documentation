{
 "cells": [
  {
   "cell_type": "code",
   "execution_count": 1,
   "metadata": {},
   "outputs": [
    {
     "name": "stderr",
     "output_type": "stream",
     "text": [
      "/home/ehambro/anaconda3/lib/python3.6/site-packages/h5py/__init__.py:36: FutureWarning: Conversion of the second argument of issubdtype from `float` to `np.floating` is deprecated. In future, it will be treated as `np.float64 == np.dtype(float).type`.\n",
      "  from ._conv import register_converters as _register_converters\n"
     ]
    }
   ],
   "source": [
    "from project.models.char_baseline import CharSeqBaseline\n",
    "from project.models.code2vec_solo import Code2VecSolo\n",
    "from project.models.code2vec_encoder import Code2VecEncoder\n",
    "from project.models.base_model import _run_model\n"
   ]
  },
  {
   "cell_type": "code",
   "execution_count": 2,
   "metadata": {},
   "outputs": [
    {
     "name": "stderr",
     "output_type": "stream",
     "text": [
      "LOADING FROM: logs/new_attention_fourfive_c2v_solo_canond0.1/best_bleu, overwriting kwargs\n"
     ]
    },
    {
     "name": "stdout",
     "output_type": "stream",
     "text": [
      "Loading GloVe weights and word to index lookup table\n"
     ]
    },
    {
     "name": "stderr",
     "output_type": "stream",
     "text": [
      "400000it [00:07, 53444.73it/s]\n"
     ]
    },
    {
     "name": "stdout",
     "output_type": "stream",
     "text": [
      "Creating char to index look up table\n",
      "Tokenizing the word descriptions and characters\n",
      "Tokenizing the src code\n",
      "Extracting tensors train and test\n",
      "INFO:tensorflow:Restoring parameters from logs/new_attention_fourfive_c2v_solo_canond0.1/best_bleu/BasicModel.ckpt-36005\n"
     ]
    },
    {
     "name": "stderr",
     "output_type": "stream",
     "text": [
      "0821_23:06 WARNING - Loaded from logs/new_attention_fourfive_c2v_solo_canond0.1/best_bleu: Global Step 36005\n"
     ]
    }
   ],
   "source": [
    "load_dir = {\"logdir\":\"logs/new_attention_fourfive_c2v_solo_canond0.1/best_bleu\", \"mode\":\"RETURN\"}\n",
    "LOADED = _run_model(Code2VecSolo, **load_dir)"
   ]
  },
  {
   "cell_type": "code",
   "execution_count": 3,
   "metadata": {},
   "outputs": [],
   "source": [
    "from project.data.preprocessed.no_dups_X import no_dups_X_data\n",
    "\n",
    "\n",
    "from project.data.preprocessed import load_vocab\n",
    "\n",
    "from project.utils.tokenize import nltk_tok\n",
    "from tqdm import tqdm\n",
    "\n",
    "\n",
    "path2idx, path2cnt = load_vocab('no_dups_X', 'quickload_paths')\n",
    "tv2idx, tv2cnt = load_vocab('no_dups_X', 'quickload_tvs')\n",
    "idx2tv = {v:k for k,v in tv2idx.items()}\n",
    "idx2path ={v:k for k,v in path2idx.items()}\n",
    "RAW_TEST_DATA = no_dups_X_data().test\n",
    "sess, nn, data_tuple, step = LOADED"
   ]
  },
  {
   "cell_type": "code",
   "execution_count": 4,
   "metadata": {},
   "outputs": [],
   "source": [
    "import random\n",
    "import numpy as np\n",
    "from tqdm import tqdm \n",
    "from project.external.nmt import bleu\n",
    "\n",
    "\n",
    "def prep_samples(translations, sample_size, no_samples):\n",
    "    for n in range(no_samples):\n",
    "        yield  random.choices(translations, k=sample_size)\n",
    "        \n",
    "def get_translations(nn, data):\n",
    "    return nn.evaluate_bleu(sess, data, max_translations=10000)\n",
    "\n",
    "def get_bleu_bootstrap(translations, sample_size = 1000, no_samples = 1000):\n",
    "    bleu_bootstrap = []\n",
    "    total = []\n",
    "    for sample in prep_samples(translations, sample_size, no_samples):\n",
    "        all_references = [[t.description] for t in sample]\n",
    "        all_translations = [t.translation for t in sample ]\n",
    "        b = bleu.compute_bleu(all_references, all_translations, max_order=4, smooth=False)\n",
    "        bleu_bootstrap.append(b[0]*100)\n",
    "    return bleu_bootstrap\n",
    "    "
   ]
  },
  {
   "cell_type": "code",
   "execution_count": 5,
   "metadata": {
    "scrolled": false
   },
   "outputs": [],
   "source": [
    "from collections import defaultdict\n",
    "import numpy \n",
    "from matplotlib import pyplot as plt\n",
    "def translate_paths(paths, tvs):\n",
    "    return[\"{} : {}\".format(idx2path[p], idx2tv[t]) for p,t in zip(np.trim_zeros(paths), np.trim_zeros(tvs))]\n",
    "\n",
    "def translate_paths_latex(paths, tvs):\n",
    "    return[\"{} : \\mintinline[]{python}{{}}\".format(idx2path[p], idx2tv[t]) for p,t in zip(np.trim_zeros(paths), np.trim_zeros(tvs))]\n",
    "def gen_combined_dataset(data_tuple_test):\n",
    "    \n",
    "    combined= []\n",
    "    DESC_TO_D = defaultdict(list)\n",
    "    [DESC_TO_D[\"\".join(nltk_tok(f['arg_desc']))].append(f) for f in RAW_TEST_DATA]\n",
    "    \n",
    "    for i, d in enumerate(zip(*data_tuple_test)):\n",
    "        matches = []\n",
    "        for f in DESC_TO_D[\"\".join(d[-1])]:\n",
    "            arg_name = \"\".join(nn.translate(d[0], lookup=nn.idx2char, do_join=False))\n",
    "            src_tokens = [idx2tv[t] for t in d[3] if t not in [0,1]]\n",
    "            if arg_name.startswith(f['arg_name']) and all([str(s) in f['src'] for s in src_tokens]):\n",
    "                \n",
    "                matches.append((d,f, translate_paths(np.trim_zeros(d[2]),np.trim_zeros(d[3]))))\n",
    "            \n",
    "            if len(matches) > 1:\n",
    "                break\n",
    "        \n",
    "        if len(matches)==1:\n",
    "            combined.append(matches[0])\n",
    "    return combined\n",
    "        \n",
    "COMB = gen_combined_dataset(data_tuple.test) "
   ]
  },
  {
   "cell_type": "code",
   "execution_count": 6,
   "metadata": {},
   "outputs": [],
   "source": [
    "def stack_from_comb(comb,x):   \n",
    "    return [np.stack([d[i] for d, src,  p in comb][:x]) for i in range(4)] + [[d[-1] for d, src,  p in comb][:x]]\n",
    "INPUT_STACKED = stack_from_comb(COMB, 63)  \n",
    "nn._do_shuffle = False\n",
    "T300  = get_translations(nn, INPUT_STACKED)"
   ]
  },
  {
   "cell_type": "code",
   "execution_count": 7,
   "metadata": {},
   "outputs": [],
   "source": [
    "# import project.utils.code_tokenize as ct\n",
    "# for i,  (t,c) in enumerate(zip(T300[-1], COMB)):\n",
    "#     print(i, t)\n",
    "#     print()\n",
    "#     print(i, ct.get_pure_src(c[1]))\n",
    "    \n",
    "        "
   ]
  },
  {
   "cell_type": "code",
   "execution_count": 8,
   "metadata": {},
   "outputs": [],
   "source": [
    "def print_light_table(labels, ptvs):\n",
    "    # HACK\n",
    "    to_tex = lambda  s:s.replace(\"<U\", \"$<$U\").replace(\"K>\", \"K$>$\").replace(\"_\",\"\\\\_\").replace(\"<-\", \"$\\leftarrow$\").replace(\"->\", \"$\\\\rightarrow$\")\n",
    "    \n",
    "    reverse_this = []\n",
    "    reverse_this.append(\"\\end{tabular}\")\n",
    "    for l, p in zip(labels, ptvs):\n",
    "        reverse_this.append(to_tex(\"    {} & {} \\\\\\\\\".format(l, p)))\n",
    "    reverse_this.append(\"\\\\begin{tabular}{c l}\")\n",
    "    print(\"\\n\".join(reversed(reverse_this)))\n",
    "\n",
    "def translate_paths_latex(paths, tvs):\n",
    "    return[\"{} : \\mintinline[]{}{}\".format(idx2path[p], \"{python}\",\"{\"+idx2tv[t]+\"}\") for p,t in zip(np.trim_zeros(paths), np.trim_zeros(tvs))]\n",
    "    \n",
    "def plot_attention_single(attn, trans, paths, tvs, figsize=(10,5)):\n",
    "\n",
    "    fig, ax = plt.subplots(1,figsize=figsize )\n",
    "    ax = [ax]\n",
    "    j=0\n",
    "    \n",
    "    F=\"ABCDEFGHIJKLMNOPQRSTUVWXYZ\"\n",
    "    attention = [a for a in np.trim_zeros(attn)]\n",
    "    ptvs = translate_paths_latex(paths, tvs)\n",
    "    \n",
    "    attention, ptvs = zip(*sorted(zip(attention, ptvs), key=lambda x:x[0]))\n",
    "    labels = [\"Path {}\".format(F[i] if i < len(F) else i) for i in reversed(range(len(ptvs)))]\n",
    "    \n",
    "    \n",
    "    ax[j].barh(np.arange(len(attention)), attention)\n",
    "    \n",
    "    ax[j].set_title(\"Attention Scores per Path\".format(F[j]), fontsize=22) #loc=\"right\", fontsize=18)\n",
    "    ax[j].set_yticks(np.arange(len(labels)))\n",
    "    ax[j].set_yticklabels( labels, rotation=0,  fontsize=18)\n",
    "    ax[j].set_ylabel(\"Paths\", fontsize=22)\n",
    "    ax[j].set_xlabel(\"Attention Scores\", fontsize=22)\n",
    "    \n",
    "    print_light_table(labels,ptvs)\n",
    "#     plt.tight_layout()\n",
    "    plt.show()"
   ]
  },
  {
   "cell_type": "code",
   "execution_count": 9,
   "metadata": {},
   "outputs": [],
   "source": [
    "def latex_translation(t):\n",
    "    to_tex = lambda  s:s.replace(\"<\", \"$<$\").replace(\">\", \"$>$\").replace(\"_\",\"\\\\_\")\n",
    "    split = 25\n",
    "    n1 = t[0][:split]\n",
    "    n1 = \"\\\\textbf{Argument}: \\mintinline[]{python}{\" + to_tex(\"\".join(n1)) + \"}\"\n",
    "    if len(t[0]) > split:\n",
    "        n1 += \"...\\\\\\\\\\n...\\mintinline[]{python}{\"+to_tex(\" \".join(t[0][split:])) + \"}\"\n",
    "    n1 += \"\\\\\\\\\"\n",
    "    desc = \"\\\\textbf{D}: \" + to_tex(\" \".join(t[1])) + \"\\\\\\\\\"\n",
    "    pred = \"\\\\textbf{P}: \" + to_tex(\" \".join(t[3])) + \"\\\\\\\\\"\n",
    "    return \"\\n\".join([n1, desc, pred])\n",
    "\n",
    "    "
   ]
  },
  {
   "cell_type": "code",
   "execution_count": 10,
   "metadata": {},
   "outputs": [],
   "source": [
    "def save_graph(name, svg):\n",
    "    with open('./example_graphs/{}.svg'.format(name),'w') as f:\n",
    "        f.write(svg._data)\n",
    "        \n",
    "def src_to_latex(src):\n",
    "    return \"\"\"\\\\begin{listing}[h!]\n",
    "\\\\begin{minted}[]{python}\n",
    "\"\"\"+src+\"\"\"\n",
    "\\end{minted}\n",
    "\\end{listing}\n",
    "\"\"\""
   ]
  },
  {
   "cell_type": "code",
   "execution_count": 11,
   "metadata": {},
   "outputs": [],
   "source": [
    "def get_settings(**kwargs):\n",
    "    settings = dict(\n",
    "        # Styling options:\n",
    "        scale=2,\n",
    "        font='courier',\n",
    "        shape='none',\n",
    "        terminal_color='#008040',\n",
    "        nonterminal_color='#004080',\n",
    "        fontsize='40',\n",
    "\n",
    "        # AST display options:\n",
    "        omit_module=True,\n",
    "        omit_docstrings=True,\n",
    "\n",
    "        # Rendering engine is expected to expose \"render\" function\n",
    "        renderer=showastfork.Renderers.graphviz,\n",
    "\n",
    "        ignore_nodes=[\"Load\",\"Store\", \"arguments\"],\n",
    "    )\n",
    "    settings.update(kwargs)\n",
    "    return settings"
   ]
  },
  {
   "cell_type": "code",
   "execution_count": 12,
   "metadata": {},
   "outputs": [],
   "source": [
    "import pickle\n",
    "def load_examples(name):\n",
    "    with open(\"examples/{}.eg.pkl\".format(name), 'rb') as f:\n",
    "         examples = pickle.load(f)\n",
    "    return examples\n",
    "\n",
    "def save_examples(name, good_data_tuple):\n",
    "    with open(\"examples/{}.eg.pkl\".format(name), 'wb') as f:\n",
    "        pickle.dump(good_data_tuple, f)\n"
   ]
  },
  {
   "cell_type": "code",
   "execution_count": 13,
   "metadata": {},
   "outputs": [],
   "source": [
    "# save_examples(\"COMBINED_FAVES_REPORT\",comb_faves)"
   ]
  },
  {
   "cell_type": "code",
   "execution_count": 14,
   "metadata": {
    "scrolled": false
   },
   "outputs": [
    {
     "name": "stdout",
     "output_type": "stream",
     "text": [
      "\\begin{tabular}{c l}\n",
      "    Path A & Name $\\leftarrow$ comprehension $\\leftarrow$ ListComp $\\leftarrow$ Assign $\\rightarrow$ Name : \\mintinline[]{python}{palette} \\\\\n",
      "    Path B & Name $\\leftarrow$ comprehension $\\leftarrow$ ListComp $\\leftarrow$ Assign $\\leftarrow$ FunctionDef $\\rightarrow$ Assign $\\rightarrow$ ListComp $\\rightarrow$ comprehension : \\mintinline[]{python}{$<$UNK$>$} \\\\\n",
      "    Path C & $<$UNK$>$ : \\mintinline[]{python}{color\\_palette} \\\\\n",
      "    Path D & Name $\\leftarrow$ comprehension $\\rightarrow$ Name : \\mintinline[]{python}{name} \\\\\n",
      "    Path E & $<$UNK$>$ : \\mintinline[]{python}{palette} \\\\\n",
      "    Path F & $<$UNK$>$ : \\mintinline[]{python}{palette} \\\\\n",
      "    Path G & $<$UNK$>$ : \\mintinline[]{python}{len} \\\\\n",
      "    Path H & $<$UNK$>$ : \\mintinline[]{python}{name} \\\\\n",
      "    Path I & $<$UNK$>$ : \\mintinline[]{python}{$<$UNK$>$} \\\\\n",
      "\\end{tabular}\n"
     ]
    },
    {
     "data": {
      "image/png": "[encoded data removed]",
      "text/plain": [
       "<Figure size 720x360 with 1 Axes>"
      ]
     },
     "metadata": {},
     "output_type": "display_data"
    },
    {
     "name": "stdout",
     "output_type": "stream",
     "text": [
      "\\textbf{Argument}: \\mintinline[]{python}{colors$<$END$>$}\\\\\n",
      "\\textbf{D}: list of keys in the `` seaborn.xkcd\\_rgb `` dictionary .\\\\\n",
      "\\textbf{P}: a list of data to read . if none , all other the first will be returned .\\\\\n",
      "\\begin{listing}[h!]\n",
      "\\begin{minted}[]{python}\n",
      "def xkcd_palette(colors):\n",
      "    \"\"\"\n",
      "\n",
      "    \"\"\"\n",
      "    palette = [xkcd_rgb[name] for name in colors]\n",
      "    return color_palette(palette, len(palette))\n",
      "\n",
      "\\end{minted}\n",
      "\\end{listing}\n",
      "\n"
     ]
    },
    {
     "data": {
      "image/svg+xml": [
       "<svg height=\"594pt\" viewBox=\"0.00 0.00 1822.00 594.00\" width=\"1822pt\" xmlns=\"http://www.w3.org/2000/svg\" xmlns:xlink=\"http://www.w3.org/1999/xlink\">\n",
       "<g class=\"graph\" id=\"graph1\" transform=\"scale(1 1) rotate(0) translate(4 590)\">\n",
       "<title>_anonymous_0</title>\n",
       "<polygon fill=\"white\" points=\"-4,5 -4,-590 1819,-590 1819,5 -4,5\" stroke=\"white\"/>\n",
       "<!-- 0 -->\n",
       "<g class=\"node\" id=\"node1\"><title>0</title>\n",
       "<text fill=\"#004080\" font-family=\"Courier,monospace\" font-size=\"40.00\" text-anchor=\"start\" x=\"384.5\" y=\"-552.167\">FunctionDef</text>\n",
       "</g>\n",
       "<!-- 1 -->\n",
       "<g class=\"node\" id=\"node2\"><title>1</title>\n",
       "<text fill=\"#008040\" font-family=\"Courier,monospace\" font-size=\"40.00\" text-anchor=\"middle\" x=\"242\" y=\"-459.5\">&quot;xkcd_palette&quot;</text>\n",
       "</g>\n",
       "<!-- 0&#45;&#45;1 -->\n",
       "<g class=\"edge\" id=\"edge2\"><title>0--1</title>\n",
       "<path d=\"M517,-536C517,-536 432.983,-516.753 357.828,-499.535\" fill=\"none\" stroke=\"black\"/>\n",
       "</g>\n",
       "<!-- 3 -->\n",
       "<g class=\"node\" id=\"node4\"><title>3</title>\n",
       "<text fill=\"#004080\" font-family=\"Courier,monospace\" font-size=\"40.00\" text-anchor=\"start\" x=\"444.5\" y=\"-464.167\">Assign</text>\n",
       "</g>\n",
       "<!-- 0&#45;&#45;3 -->\n",
       "<g class=\"edge\" id=\"edge4\"><title>0--3</title>\n",
       "<path d=\"M517,-536C517,-536 517,-515.227 517,-497.538\" fill=\"none\" stroke=\"black\"/>\n",
       "</g>\n",
       "<!-- 25 -->\n",
       "<g class=\"node\" id=\"node36\"><title>25</title>\n",
       "<text fill=\"#004080\" font-family=\"Courier,monospace\" font-size=\"40.00\" text-anchor=\"start\" x=\"874.5\" y=\"-464.167\">Return</text>\n",
       "</g>\n",
       "<!-- 0&#45;&#45;25 -->\n",
       "<g class=\"edge\" id=\"edge36\"><title>0--25</title>\n",
       "<path d=\"M517,-536C517,-536 741.256,-503.144 865.868,-484.887\" fill=\"none\" stroke=\"black\"/>\n",
       "</g>\n",
       "<!-- 4 -->\n",
       "<g class=\"node\" id=\"node6\"><title>4</title>\n",
       "<text fill=\"#004080\" font-family=\"Courier,monospace\" font-size=\"40.00\" text-anchor=\"start\" x=\"253.5\" y=\"-376.167\">Name</text>\n",
       "</g>\n",
       "<!-- 3&#45;&#45;4 -->\n",
       "<g class=\"edge\" id=\"edge6\"><title>3--4</title>\n",
       "<path d=\"M500,-448C500,-448 417.497,-421.749 359.004,-403.138\" fill=\"none\" stroke=\"black\"/>\n",
       "</g>\n",
       "<!-- 7 -->\n",
       "<g class=\"node\" id=\"node10\"><title>7</title>\n",
       "<text fill=\"#004080\" font-family=\"Courier,monospace\" font-size=\"40.00\" text-anchor=\"start\" x=\"420.5\" y=\"-376.167\">ListComp</text>\n",
       "</g>\n",
       "<!-- 3&#45;&#45;7 -->\n",
       "<g class=\"edge\" id=\"edge10\"><title>3--7</title>\n",
       "<path d=\"M500,-448C500,-448 505.605,-427.227 510.379,-409.538\" fill=\"none\" stroke=\"black\"/>\n",
       "</g>\n",
       "<!-- 5 -->\n",
       "<g class=\"node\" id=\"node8\"><title>5</title>\n",
       "<text fill=\"#008040\" font-family=\"Courier,monospace\" font-size=\"40.00\" text-anchor=\"middle\" x=\"116\" y=\"-283.5\">&quot;palette&quot;</text>\n",
       "</g>\n",
       "<!-- 4&#45;&#45;5 -->\n",
       "<g class=\"edge\" id=\"edge8\"><title>4--5</title>\n",
       "<path d=\"M250.189,-360.487C225.895,-348.994 196.903,-335.277 172.094,-323.539\" fill=\"none\" stroke=\"black\"/>\n",
       "</g>\n",
       "<!-- 8 -->\n",
       "<g class=\"node\" id=\"node12\"><title>8</title>\n",
       "<text fill=\"#004080\" font-family=\"Courier,monospace\" font-size=\"40.00\" text-anchor=\"start\" x=\"258.5\" y=\"-288.167\">Subscript</text>\n",
       "</g>\n",
       "<!-- 7&#45;&#45;8 -->\n",
       "<g class=\"edge\" id=\"edge12\"><title>7--8</title>\n",
       "<path d=\"M517,-360C517,-360 467.541,-339.227 425.423,-321.538\" fill=\"none\" stroke=\"black\"/>\n",
       "</g>\n",
       "<!-- 17 -->\n",
       "<g class=\"node\" id=\"node24\"><title>17</title>\n",
       "<text fill=\"#004080\" font-family=\"Courier,monospace\" font-size=\"40.00\" text-anchor=\"start\" x=\"510.5\" y=\"-288.167\">comprehension</text>\n",
       "</g>\n",
       "<!-- 7&#45;&#45;17 -->\n",
       "<g class=\"edge\" id=\"edge24\"><title>7--17</title>\n",
       "<path d=\"M517,-360C517,-360 566.459,-339.227 608.577,-321.538\" fill=\"none\" stroke=\"black\"/>\n",
       "</g>\n",
       "<!-- 9 -->\n",
       "<g class=\"node\" id=\"node14\"><title>9</title>\n",
       "<text fill=\"#004080\" font-family=\"Courier,monospace\" font-size=\"40.00\" text-anchor=\"start\" x=\"146.5\" y=\"-198.167\">Name</text>\n",
       "</g>\n",
       "<!-- 8&#45;&#45;9 -->\n",
       "<g class=\"edge\" id=\"edge14\"><title>8--9</title>\n",
       "<path d=\"M352,-272C352,-272 297.015,-249.235 252.125,-230.65\" fill=\"none\" stroke=\"black\"/>\n",
       "</g>\n",
       "<!-- 12 -->\n",
       "<g class=\"node\" id=\"node18\"><title>12</title>\n",
       "<text fill=\"#004080\" font-family=\"Courier,monospace\" font-size=\"40.00\" text-anchor=\"start\" x=\"306.5\" y=\"-198.167\">Index</text>\n",
       "</g>\n",
       "<!-- 8&#45;&#45;12 -->\n",
       "<g class=\"edge\" id=\"edge18\"><title>8--12</title>\n",
       "<path d=\"M352,-272C352,-272 357.081,-249.981 361.329,-231.574\" fill=\"none\" stroke=\"black\"/>\n",
       "</g>\n",
       "<!-- 10 -->\n",
       "<g class=\"node\" id=\"node16\"><title>10</title>\n",
       "<text fill=\"#008040\" font-family=\"Courier,monospace\" font-size=\"40.00\" text-anchor=\"middle\" x=\"167\" y=\"-103.5\">&quot;xkcd_rgb&quot;</text>\n",
       "</g>\n",
       "<!-- 9&#45;&#45;10 -->\n",
       "<g class=\"edge\" id=\"edge16\"><title>9--10</title>\n",
       "<path d=\"M187.349,-182.407C183.625,-170.437 179.14,-156.022 175.33,-143.775\" fill=\"none\" stroke=\"black\"/>\n",
       "</g>\n",
       "<!-- 13 -->\n",
       "<g class=\"node\" id=\"node20\"><title>13</title>\n",
       "<text fill=\"#004080\" font-family=\"Courier,monospace\" font-size=\"40.00\" text-anchor=\"start\" x=\"321.5\" y=\"-108.167\">Name</text>\n",
       "</g>\n",
       "<!-- 12&#45;&#45;13 -->\n",
       "<g class=\"edge\" id=\"edge20\"><title>12--13</title>\n",
       "<path d=\"M367.82,-182.407C368.243,-169.708 368.758,-154.258 369.181,-141.563\" fill=\"none\" stroke=\"black\"/>\n",
       "</g>\n",
       "<!-- 14 -->\n",
       "<g class=\"node\" id=\"node22\"><title>14</title>\n",
       "<text fill=\"#008040\" font-family=\"Courier,monospace\" font-size=\"40.00\" text-anchor=\"middle\" x=\"370\" y=\"-13.5\">&quot;name&quot;</text>\n",
       "</g>\n",
       "<!-- 13&#45;&#45;14 -->\n",
       "<g class=\"edge\" id=\"edge22\"><title>13--14</title>\n",
       "<path d=\"M370,-92.4071C370,-80.4366 370,-66.0219 370,-53.7745\" fill=\"none\" stroke=\"black\"/>\n",
       "</g>\n",
       "<!-- 18 -->\n",
       "<g class=\"node\" id=\"node26\"><title>18</title>\n",
       "<text fill=\"#004080\" font-family=\"Courier,monospace\" font-size=\"40.00\" text-anchor=\"start\" x=\"483.5\" y=\"-198.167\">Name</text>\n",
       "</g>\n",
       "<!-- 17&#45;&#45;18 -->\n",
       "<g class=\"edge\" id=\"edge26\"><title>17--18</title>\n",
       "<path d=\"M666,-272C666,-272 620.606,-249.981 582.66,-231.574\" fill=\"none\" stroke=\"black\"/>\n",
       "</g>\n",
       "<!-- 21 -->\n",
       "<g class=\"node\" id=\"node30\"><title>21</title>\n",
       "<text fill=\"#004080\" font-family=\"Courier,monospace\" font-size=\"40.00\" text-anchor=\"start\" x=\"617.5\" y=\"-198.167\">Name</text>\n",
       "</g>\n",
       "<!-- 17&#45;&#45;21 -->\n",
       "<g class=\"edge\" id=\"edge30\"><title>17--21</title>\n",
       "<path d=\"M666,-272C666,-272 666,-249.981 666,-231.574\" fill=\"none\" stroke=\"black\"/>\n",
       "</g>\n",
       "<!-- 24 -->\n",
       "<g class=\"node\" id=\"node34\"><title>24</title>\n",
       "<text fill=\"#008040\" font-family=\"Courier,monospace\" font-size=\"40.00\" text-anchor=\"middle\" x=\"768\" y=\"-193.5\">0</text>\n",
       "</g>\n",
       "<!-- 17&#45;&#45;24 -->\n",
       "<g class=\"edge\" id=\"edge34\"><title>17--24</title>\n",
       "<path d=\"M666,-272C666,-272 703.742,-252.633 732,-234 734.87,-232.108 737.817,-230.068 740.729,-227.988\" fill=\"none\" stroke=\"black\"/>\n",
       "</g>\n",
       "<!-- 19 -->\n",
       "<g class=\"node\" id=\"node28\"><title>19</title>\n",
       "<text fill=\"#008040\" font-family=\"Courier,monospace\" font-size=\"40.00\" text-anchor=\"middle\" x=\"531\" y=\"-103.5\">&quot;name&quot;</text>\n",
       "</g>\n",
       "<!-- 18&#45;&#45;19 -->\n",
       "<g class=\"edge\" id=\"edge28\"><title>18--19</title>\n",
       "<path d=\"M531.727,-182.407C531.594,-170.437 531.434,-156.022 531.297,-143.775\" fill=\"none\" stroke=\"black\"/>\n",
       "</g>\n",
       "<!-- 22 -->\n",
       "<g class=\"node\" id=\"node32\"><title>22</title>\n",
       "<text fill=\"#008040\" font-family=\"Courier,monospace\" font-size=\"40.00\" text-anchor=\"middle\" x=\"733\" y=\"-103.5\">&quot;colors&quot;</text>\n",
       "</g>\n",
       "<!-- 21&#45;&#45;22 -->\n",
       "<g class=\"edge\" id=\"edge32\"><title>21--22</title>\n",
       "<path d=\"M684.308,-182.407C693.219,-170.437 703.95,-156.022 713.068,-143.775\" fill=\"none\" stroke=\"black\"/>\n",
       "</g>\n",
       "<!-- 26 -->\n",
       "<g class=\"node\" id=\"node38\"><title>26</title>\n",
       "<text fill=\"#004080\" font-family=\"Courier,monospace\" font-size=\"40.00\" text-anchor=\"start\" x=\"1089.5\" y=\"-376.167\">Call</text>\n",
       "</g>\n",
       "<!-- 25&#45;&#45;26 -->\n",
       "<g class=\"edge\" id=\"edge38\"><title>25--26</title>\n",
       "<path d=\"M1000.2,-448.487C1026.59,-436.332 1058.36,-421.691 1084.75,-409.534\" fill=\"none\" stroke=\"black\"/>\n",
       "</g>\n",
       "<!-- 27 -->\n",
       "<g class=\"node\" id=\"node40\"><title>27</title>\n",
       "<text fill=\"#004080\" font-family=\"Courier,monospace\" font-size=\"40.00\" text-anchor=\"start\" x=\"1000.5\" y=\"-288.167\">Name</text>\n",
       "</g>\n",
       "<!-- 26&#45;&#45;27 -->\n",
       "<g class=\"edge\" id=\"edge40\"><title>26--27</title>\n",
       "<path d=\"M1153,-360C1153,-360 1118.71,-339.227 1089.51,-321.538\" fill=\"none\" stroke=\"black\"/>\n",
       "</g>\n",
       "<!-- 30 -->\n",
       "<g class=\"node\" id=\"node44\"><title>30</title>\n",
       "<text fill=\"#004080\" font-family=\"Courier,monospace\" font-size=\"40.00\" text-anchor=\"start\" x=\"1179.5\" y=\"-288.167\">Name</text>\n",
       "</g>\n",
       "<!-- 26&#45;&#45;30 -->\n",
       "<g class=\"edge\" id=\"edge44\"><title>26--30</title>\n",
       "<path d=\"M1153,-360C1153,-360 1177.73,-339.227 1198.79,-321.538\" fill=\"none\" stroke=\"black\"/>\n",
       "</g>\n",
       "<!-- 33 -->\n",
       "<g class=\"node\" id=\"node48\"><title>33</title>\n",
       "<text fill=\"#004080\" font-family=\"Courier,monospace\" font-size=\"40.00\" text-anchor=\"start\" x=\"1465.5\" y=\"-288.167\">Call</text>\n",
       "</g>\n",
       "<!-- 26&#45;&#45;33 -->\n",
       "<g class=\"edge\" id=\"edge48\"><title>26--33</title>\n",
       "<path d=\"M1153,-360C1153,-360 1355.01,-324.747 1456.8,-306.983\" fill=\"none\" stroke=\"black\"/>\n",
       "</g>\n",
       "<!-- 28 -->\n",
       "<g class=\"node\" id=\"node42\"><title>28</title>\n",
       "<text fill=\"#008040\" font-family=\"Courier,monospace\" font-size=\"40.00\" text-anchor=\"middle\" x=\"1001\" y=\"-193.5\">&quot;color_palette&quot;</text>\n",
       "</g>\n",
       "<!-- 27&#45;&#45;28 -->\n",
       "<g class=\"edge\" id=\"edge42\"><title>27--28</title>\n",
       "<path d=\"M1035.88,-272.407C1029.5,-260.437 1021.81,-246.022 1015.28,-233.775\" fill=\"none\" stroke=\"black\"/>\n",
       "</g>\n",
       "<!-- 31 -->\n",
       "<g class=\"node\" id=\"node46\"><title>31</title>\n",
       "<text fill=\"#008040\" font-family=\"Courier,monospace\" font-size=\"40.00\" text-anchor=\"middle\" x=\"1323\" y=\"-193.5\">&quot;palette&quot;</text>\n",
       "</g>\n",
       "<!-- 30&#45;&#45;31 -->\n",
       "<g class=\"edge\" id=\"edge46\"><title>30--31</title>\n",
       "<path d=\"M1253.96,-272.407C1266.59,-260.437 1281.81,-246.022 1294.74,-233.775\" fill=\"none\" stroke=\"black\"/>\n",
       "</g>\n",
       "<!-- 34 -->\n",
       "<g class=\"node\" id=\"node50\"><title>34</title>\n",
       "<text fill=\"#004080\" font-family=\"Courier,monospace\" font-size=\"40.00\" text-anchor=\"start\" x=\"1465.5\" y=\"-198.167\">Name</text>\n",
       "</g>\n",
       "<!-- 33&#45;&#45;34 -->\n",
       "<g class=\"edge\" id=\"edge50\"><title>33--34</title>\n",
       "<path d=\"M1528,-272C1528,-272 1523.26,-249.981 1519.29,-231.574\" fill=\"none\" stroke=\"black\"/>\n",
       "</g>\n",
       "<!-- 37 -->\n",
       "<g class=\"node\" id=\"node54\"><title>37</title>\n",
       "<text fill=\"#004080\" font-family=\"Courier,monospace\" font-size=\"40.00\" text-anchor=\"start\" x=\"1614.5\" y=\"-198.167\">Name</text>\n",
       "</g>\n",
       "<!-- 33&#45;&#45;37 -->\n",
       "<g class=\"edge\" id=\"edge54\"><title>33--37</title>\n",
       "<path d=\"M1528,-272C1528,-272 1573.73,-249.981 1611.96,-231.574\" fill=\"none\" stroke=\"black\"/>\n",
       "</g>\n",
       "<!-- 35 -->\n",
       "<g class=\"node\" id=\"node52\"><title>35</title>\n",
       "<text fill=\"#008040\" font-family=\"Courier,monospace\" font-size=\"40.00\" text-anchor=\"middle\" x=\"1496\" y=\"-103.5\">&quot;len&quot;</text>\n",
       "</g>\n",
       "<!-- 34&#45;&#45;35 -->\n",
       "<g class=\"edge\" id=\"edge52\"><title>34--35</title>\n",
       "<path d=\"M1509.08,-182.407C1506.69,-170.437 1503.8,-156.022 1501.35,-143.775\" fill=\"none\" stroke=\"black\"/>\n",
       "</g>\n",
       "<!-- 38 -->\n",
       "<g class=\"node\" id=\"node56\"><title>38</title>\n",
       "<text fill=\"#008040\" font-family=\"Courier,monospace\" font-size=\"40.00\" text-anchor=\"middle\" x=\"1698\" y=\"-103.5\">&quot;palette&quot;</text>\n",
       "</g>\n",
       "<!-- 37&#45;&#45;38 -->\n",
       "<g class=\"edge\" id=\"edge56\"><title>37--38</title>\n",
       "<path d=\"M1672.56,-182.407C1677.22,-170.437 1682.82,-156.022 1687.59,-143.775\" fill=\"none\" stroke=\"black\"/>\n",
       "</g>\n",
       "</g>\n",
       "</svg>"
      ],
      "text/plain": [
       "<IPython.core.display.SVG object>"
      ]
     },
     "metadata": {},
     "output_type": "display_data"
    }
   ],
   "source": [
    "import showastfork\n",
    "import importlib\n",
    "importlib.reload(showastfork)\n",
    "import project.utils.code_tokenize as ct\n",
    "\n",
    "\n",
    "def get_attn_translation(nn, sess, data):\n",
    "    [attn] =  nn._feed_fwd(sess, data, [nn.attention_scores] )\n",
    "    trans = get_translations(nn, data)\n",
    "    return zip(attn, trans[-1], data[2], data[3])\n",
    "\n",
    "def generate_reports_GRAPH_TABLE_TREE_CODE(comb_faves, data_input, max_no, nn, sess):\n",
    "    x = []\n",
    "    i = 0 \n",
    "    for (attn, trans, paths, tvs), comb in zip(get_attn_translation(nn,sess, data_input), comb_faves):\n",
    "        plot_attention_single(attn, trans, paths, tvs)\n",
    "        print(latex_translation(trans))\n",
    "        print(src_to_latex(ct.get_pure_src(comb[1])) )\n",
    "        x.append(showastfork.show_ast(ct.get_ast(comb[1]), get_settings(), True))\n",
    "        i += 1\n",
    "        if i == max_no:\n",
    "            break\n",
    "    # save_graph('xkcd_palette_strip', x[0])\n",
    "\n",
    "comb_faves = load_examples(\"COMBINED_FAVES_REPORT\")\n",
    "data_input = stack_from_comb(comb_faves, 10)\n",
    "generate_reports_GRAPH_TABLE_TREE_CODE(comb_faves, data_input, 1, nn, sess)"
   ]
  },
  {
   "cell_type": "code",
   "execution_count": 15,
   "metadata": {},
   "outputs": [],
   "source": [
    "import os\n",
    "os.environ[\"CUDA_VISIBLE_DEVICES\"] = \"0\""
   ]
  },
  {
   "cell_type": "code",
   "execution_count": 17,
   "metadata": {},
   "outputs": [],
   "source": [
    "def get_all_attention_weights(nn, data):\n",
    "    nn._do_shuffle = False\n",
    "    attention, translation = [], []\n",
    "    for i, mb in nn._to_batch(data):\n",
    "        [attn, trans] =  nn._feed_fwd(sess, mb, [nn.attention_scores, nn.inference_id])\n",
    "        attention.append(attn)\n",
    "        translation.append(trans)\n",
    "    return attention, translation, data\n",
    "\n",
    "    \n",
    "attn_weights, all_trans, data = get_all_attention_weights(nn, data_tuple.valid)\n"
   ]
  },
  {
   "cell_type": "code",
   "execution_count": 80,
   "metadata": {},
   "outputs": [],
   "source": []
  },
  {
   "cell_type": "code",
   "execution_count": 150,
   "metadata": {},
   "outputs": [],
   "source": [
    "def plot_hist(x, y):\n",
    "    fig, ax = plt.subplots(1, figsize=(16,8))\n",
    "    \n",
    "    ax.hist(x, density=True , bins=50, alpha=0.5, label='Code2Vec Model')\n",
    "    ax.hist(y, density=True, bins=50, alpha=0.5, label='Uniform Categorical Distribution')\n",
    "    ax.set_title(\"Histogram of Attention Entropy for Code2Vec Decoder Model\", fontsize=22)\n",
    "#     yt = ax.get_yticks()\n",
    "#     set \n",
    "#     yt = [\"{:.2f}%\".format(y)  for y in  100*yt/len(x)]\n",
    "#     ax.set_yticklabels( yt, rotation=0,  fontsize=18)\n",
    "    for tick in ax.xaxis.get_major_ticks():\n",
    "        tick.label.set_fontsize(18) \n",
    "    for tick in ax.yaxis.get_major_ticks():\n",
    "        tick.label.set_fontsize(18) \n",
    "    ax.set_ylabel(\"Frequency (%)\", fontsize=22)\n",
    "    ax.set_xlabel(\"Attention Entropies\", fontsize=22)\n",
    "    ax.legend(fontsize = 'xx-large')\n",
    "    plt.show()"
   ]
  },
  {
   "cell_type": "code",
   "execution_count": 154,
   "metadata": {},
   "outputs": [
    {
     "data": {
      "image/png": "[encoded data removed]",
      "text/plain": [
       "<Figure size 1152x576 with 1 Axes>"
      ]
     },
     "metadata": {},
     "output_type": "display_data"
    }
   ],
   "source": [
    "(attn_weights_c2v, all_trans_c2v, entropiesc2v) = load_examples( \"FOURTH_FIFTH_attn_weight_entropies_CODE2VEC_SOLO\",  )\n",
    "rows = [np.trim_zeros(row) for array in attn_weights for row in array]\n",
    "\n",
    "entropies = [-np.sum(r * np.log(r)) for r in rows]\n",
    "uniform_entropies = [-np.log(1./len(r)) for r in rows]\n",
    "\n",
    "plot_hist(entropies,uniform_entropies)\n",
    "# sorted(uniform_entropies)"
   ]
  },
  {
   "cell_type": "code",
   "execution_count": null,
   "metadata": {},
   "outputs": [],
   "source": [
    "for i, c in zip(range(5), comb):\n",
    "    print(c[1]['src'])"
   ]
  },
  {
   "cell_type": "code",
   "execution_count": null,
   "metadata": {},
   "outputs": [],
   "source": [
    "y = [(i, d) for i, d in enumerate(zip(*data_tuple.test))]\n",
    "y[0]\n",
    "RAW_TEST_DATA[0]\n",
    "data_tuple.test[-1][0]"
   ]
  },
  {
   "cell_type": "code",
   "execution_count": null,
   "metadata": {},
   "outputs": [],
   "source": [
    "# bleu_bootstrap = get_bleu_bootstrap(T[-1], sample_size=1000, no_samples=1000)"
   ]
  },
  {
   "cell_type": "code",
   "execution_count": null,
   "metadata": {},
   "outputs": [],
   "source": [
    "# print(\"{:.5f}, {:.5f}\".format(np.mean(bleu_bootstrap), np.std(bleu_bootstrap)))\n",
    "\n",
    "# print(\"{:.5f}, {:.5f}\".format(np.mean(sorted(bleu_bootstrap)[25:-25]), np.std(sorted(bleu_bootstrap)[25:-25])))"
   ]
  },
  {
   "cell_type": "code",
   "execution_count": null,
   "metadata": {},
   "outputs": [],
   "source": [
    "\n",
    "def find_egs()"
   ]
  },
  {
   "cell_type": "code",
   "execution_count": null,
   "metadata": {},
   "outputs": [],
   "source": [
    "import pickle\n",
    "from collections import namedtuple\n",
    "\n",
    "Examples = namedtuple(\"Examples\", [\"translations\", \"data_tuple\"])\n",
    "def find_examples(translations, data_tuple):\n",
    "    return_index = []\n",
    "    return_data = [[] for  _ in data_tuple.test]\n",
    "    for t in translations:\n",
    "        for i,d in enumerate(data_tuple.test[-1]):\n",
    "            arg_name = \"\".join(nn.translate(data_tuple.test[0][i], lookup=nn.idx2char, do_join=False))\n",
    "            if d == t.description and arg_name == t.name:\n",
    "                return_index.append(i)\n",
    "    \n",
    "    for j in return_index:\n",
    "        for k, d in enumerate(return_data):\n",
    "            d.append(data_tuple.test[k][j])\n",
    "    \n",
    "    return [np.stack(x) for x in return_data[:-1]] + [return_data[-1]]\n",
    "\n",
    "def load_examples(name):\n",
    "    with open(\"examples/{}.eg.pkl\".format(name), 'rb') as f:\n",
    "         examples = pickle.load(f)\n",
    "    return examples\n",
    "\n",
    "def save_examples(name, good_data_tuple):\n",
    "    with open(\"examples/{}.eg.pkl\".format(name), 'wb') as f:\n",
    "        pickle.dump(good_data_tuple, f)\n"
   ]
  },
  {
   "cell_type": "markdown",
   "metadata": {},
   "source": [
    "### 2 Funcname Otherargs"
   ]
  },
  {
   "cell_type": "code",
   "execution_count": null,
   "metadata": {},
   "outputs": [],
   "source": [
    "# good_examples = [T[3][i] for i in [10, 12, 23, 83, 192, 213, 237, 240, 247, 263]]\n",
    "# data_examples = find_examples(good_examples, data_tuple)        \n",
    "# egs = Examples(good_examples,data_examples )\n",
    "# egs = load_examples('second_exp_funcname_otherargs')"
   ]
  },
  {
   "cell_type": "code",
   "execution_count": null,
   "metadata": {
    "scrolled": false
   },
   "outputs": [],
   "source": [
    "from project.data.preprocessed import load_vocab\n",
    "path2idx, path2cnt = load_vocab('no_dups_X', 'quickload_paths')\n",
    "tv2idx, tv2cnt = load_vocab('no_dups_X', 'quickload_tvs')\n",
    "idx2tv = {v:k for k,v in tv2idx.items()}\n",
    "idx2path ={v:k for k,v in path2idx.items()}\n",
    "\n",
    "def translate_paths(paths, tvs):\n",
    "    return[\"{} : {}\".format(idx2path[p], idx2tv[t]) for p,t in zip(np.trim_zeros(paths), np.trim_zeros(tvs))]"
   ]
  },
  {
   "cell_type": "code",
   "execution_count": null,
   "metadata": {},
   "outputs": [],
   "source": [
    "\n",
    "        "
   ]
  },
  {
   "cell_type": "code",
   "execution_count": null,
   "metadata": {},
   "outputs": [],
   "source": [
    "# import tensorflow as tf\n",
    "from matplotlib import pyplot as plt\n",
    "j = 132\n",
    "just_one = [ i[j:j+1] for i in data_tuple.test ]\n",
    "paths = np.trim_zeros(just_one[2][0])\n",
    "tvs = np.trim_zeros(just_one[3][0])\n",
    "ptvs = translate_paths(paths, tvs)\n",
    "\n",
    "\n",
    "path2idx, path2cnt = load_vocab('no_dups_1', 'quickload_paths')\n",
    "tv2idx, tv2cnt = load_vocab('no_dups_1', 'quickload_tvs')\n",
    "attention, translate = nn._feed_fwd(sess, just_one, [nn.attention_scores, nn.inference_id] )\n",
    "# char_input = nn.translate(just_one[0][0], lookup=nn.idx2char, do_join=False)\n",
    "\n",
    "\n",
    "word_output = nn.translate(translate[0], do_join=False)\n",
    "print(word_output)\n",
    "# # print(np.trim_zeros(just_one[0][0]).shape)\n",
    "\n",
    "attn = np.trim_zeros(attention[0])\n",
    "plt.figure(figsize=(8,8))\n",
    "_, c = attention.shape\n",
    "plt.bar(np.arange(len(attn)), attn)\n",
    "plt.xticks(np.arange(len(ptvs)), ptvs, rotation=90)\n",
    "# plt.yticks(np.arange(len(word_output)), word_output)\n",
    "# print(moved.shape)\n",
    "plt.show()\n"
   ]
  },
  {
   "cell_type": "code",
   "execution_count": null,
   "metadata": {},
   "outputs": [],
   "source": []
  },
  {
   "cell_type": "code",
   "execution_count": null,
   "metadata": {},
   "outputs": [],
   "source": []
  },
  {
   "cell_type": "code",
   "execution_count": null,
   "metadata": {},
   "outputs": [],
   "source": [
    "# 10, 12, 23, 83, 192, 213, 237, 240, 247, 263, \n",
    "for i, t in enumerate(good_examples):\n",
    "    print(i,t)"
   ]
  },
  {
   "cell_type": "code",
   "execution_count": null,
   "metadata": {},
   "outputs": [],
   "source": [
    "char_embeddings = nn.get_scope_variable(sess, 'embed_vars', 'char_embed')"
   ]
  },
  {
   "cell_type": "code",
   "execution_count": null,
   "metadata": {},
   "outputs": [],
   "source": [
    "len(data_tuple.test[-1])\n"
   ]
  },
  {
   "cell_type": "code",
   "execution_count": null,
   "metadata": {
    "scrolled": false
   },
   "outputs": [],
   "source": [
    "#\"\\n\".join(\"\\t\".join([str(j) for j in i]) for i in char_embeddings[0]) \n",
    "print(\"\\n\".join([\"Char\"] + [nn.idx2char[i] for i in sorted(nn.idx2char.keys())]))\n"
   ]
  },
  {
   "cell_type": "code",
   "execution_count": null,
   "metadata": {},
   "outputs": [],
   "source": []
  }
 ],
 "metadata": {
  "kernelspec": {
   "display_name": "Python 3",
   "language": "python",
   "name": "python3"
  },
  "language_info": {
   "codemirror_mode": {
    "name": "ipython",
    "version": 3
   },
   "file_extension": ".py",
   "mimetype": "text/x-python",
   "name": "python",
   "nbconvert_exporter": "python",
   "pygments_lexer": "ipython3",
   "version": "3.6.5"
  }
 },
 "nbformat": 4,
 "nbformat_minor": 2
}
