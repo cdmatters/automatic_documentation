{
 "cells": [
  {
   "cell_type": "code",
   "execution_count": 1,
   "metadata": {},
   "outputs": [
    {
     "name": "stderr",
     "output_type": "stream",
     "text": [
      "/home/ehambro/anaconda3/lib/python3.6/site-packages/h5py/__init__.py:36: FutureWarning: Conversion of the second argument of issubdtype from `float` to `np.floating` is deprecated. In future, it will be treated as `np.float64 == np.dtype(float).type`.\n",
      "  from ._conv import register_converters as _register_converters\n"
     ]
    }
   ],
   "source": [
    "from project.models.char_baseline import CharSeqBaseline\n",
    "from project.models.code2vec_solo import Code2VecSolo\n",
    "from project.models.code2vec_encoder import Code2VecEncoder\n",
    "from project.models.base_model import _run_model\n"
   ]
  },
  {
   "cell_type": "code",
   "execution_count": 2,
   "metadata": {},
   "outputs": [
    {
     "name": "stderr",
     "output_type": "stream",
     "text": [
      "LOADING FROM: logs/new_attention_second_experiment__var_otherargs_1808_200101/best_bleu, overwriting kwargs\n"
     ]
    },
    {
     "name": "stdout",
     "output_type": "stream",
     "text": [
      "Loading GloVe weights and word to index lookup table\n"
     ]
    },
    {
     "name": "stderr",
     "output_type": "stream",
     "text": [
      "400000it [00:07, 53778.02it/s]\n"
     ]
    },
    {
     "name": "stdout",
     "output_type": "stream",
     "text": [
      "Creating char to index look up table\n",
      "Tokenizing the word descriptions and characters\n",
      "Tokenizing the src code\n",
      "Extracting tensors train and test\n",
      "INFO:tensorflow:Restoring parameters from logs/new_attention_second_experiment__var_otherargs_1808_200101/best_bleu/BasicModel.ckpt-17589\n"
     ]
    },
    {
     "name": "stderr",
     "output_type": "stream",
     "text": [
      "0820_23:52 WARNING - Loaded from logs/new_attention_second_experiment__var_otherargs_1808_200101/best_bleu: Global Step 17589\n"
     ]
    }
   ],
   "source": [
    "# load_dir = {\"logdir\":\"logs/BIG_X_new_attention_second_experiment__var_otherargs_2008_102707/best_bleu\", \"mode\":\"RETURN\"}\n",
    "load_dir = {\"logdir\":\"logs/new_attention_second_experiment__var_otherargs_1808_200101/best_bleu\", \"mode\":\"RETURN\"}\n",
    "LOADED = _run_model(CharSeqBaseline, **load_dir)\n"
   ]
  },
  {
   "cell_type": "code",
   "execution_count": 3,
   "metadata": {},
   "outputs": [],
   "source": [
    "sess, nn, data_tuple, step = LOADED"
   ]
  },
  {
   "cell_type": "code",
   "execution_count": 4,
   "metadata": {},
   "outputs": [],
   "source": [
    "# RESULTS = nn.evaluate_bleu(sess, data_tuple.test, max_translations=10000)"
   ]
  },
  {
   "cell_type": "code",
   "execution_count": 5,
   "metadata": {
    "scrolled": false
   },
   "outputs": [],
   "source": [
    "import random\n",
    "import numpy as np\n",
    "from tqdm import tqdm \n",
    "from project.external.nmt import bleu\n",
    "\n",
    "\n",
    "def prep_samples(translations, sample_size, no_samples):\n",
    "    for n in range(no_samples):\n",
    "        yield  random.choices(translations, k=sample_size)\n",
    "        \n",
    "def get_translations(nn, data):\n",
    "    return nn.evaluate_bleu(sess, data, max_translations=10000)\n",
    "\n",
    "def get_bleu_bootstrap(translations, sample_size = 1000, no_samples = 1000):\n",
    "    bleu_bootstrap = []\n",
    "    total = []\n",
    "    for sample in prep_samples(translations, sample_size, no_samples):\n",
    "        all_references = [[t.description] for t in sample]\n",
    "        all_translations = [t.translation for t in sample ]\n",
    "        b = bleu.compute_bleu(all_references, all_translations, max_order=4, smooth=False)\n",
    "        bleu_bootstrap.append(b[0]*100)\n",
    "    return bleu_bootstrap\n",
    "    "
   ]
  },
  {
   "cell_type": "code",
   "execution_count": 9,
   "metadata": {},
   "outputs": [],
   "source": [
    "import pickle\n",
    "from collections import namedtuple\n",
    "from  matplotlib import pyplot as plt \n",
    "\n",
    "Examples = namedtuple(\"Examples\", [\"translations\", \"data_tuple\"])\n",
    "\n",
    "def find_examples(translations, data_tuple):\n",
    "    return_index = []\n",
    "    return_data = [[] for  _ in data_tuple.test]\n",
    "    for t in translations:\n",
    "        for i,d in enumerate(data_tuple.test[-1]):\n",
    "            arg_name = \"\".join(nn.translate(data_tuple.test[0][i], lookup=nn.idx2char, do_join=False))\n",
    "            if d == t.description and arg_name == t.name:\n",
    "                return_index.append(i)\n",
    "    \n",
    "    for j in return_index:\n",
    "        for k, d in enumerate(return_data):\n",
    "            d.append(data_tuple.test[k][j])\n",
    "    \n",
    "    return [np.stack(x) for x in return_data[:-1]] + [return_data[-1]]\n",
    "\n",
    "def load_examples(name):\n",
    "    with open(\"examples/{}.eg.pkl\".format(name), 'rb') as f:\n",
    "         examples = pickle.load(f)\n",
    "    return examples\n",
    "\n",
    "def save_examples(name, good_data_tuple):\n",
    "    with open(\"examples/{}.eg.pkl\".format(name), 'wb') as f:\n",
    "        pickle.dump(good_data_tuple, f)\n"
   ]
  },
  {
   "cell_type": "code",
   "execution_count": 7,
   "metadata": {},
   "outputs": [],
   "source": [
    "# T200  = get_translations(nn, data_tuple.test[:200])\n",
    "# find_in_train(\"binary image\", data_tuple, nn)\n",
    "# selected_data = pickout_data(T200, [47,48], data_tuple)\n",
    "# for i, t in enumerate(T200[-1]):\n",
    "#     print(i,t)\n",
    "#     print(latex_translation(t))"
   ]
  },
  {
   "cell_type": "code",
   "execution_count": 10,
   "metadata": {
    "scrolled": false
   },
   "outputs": [
    {
     "name": "stdout",
     "output_type": "stream",
     "text": [
      "-----\n",
      "\\textbf{I}: \\textit{i n p u t $<$SEP-1$>$ s t r u c t u r e $<$SEP-2$>$ m a s k $<$SEP-2$>$ o u t p}...\\\\\n",
      "...\\textit{u t $<$SEP-2$>$ b o r d e r \\_ v a l u e $<$SEP-2$>$ o r i g i n $<$SEP-2$>$ $<$END$>$}\\\\\n",
      "\\textbf{D}: binary image to be propagated inside ` mask ` .\\\\\n",
      "\\textbf{P}: binary image where a element is provided and a structuring element . $<$END$>$\\\\\n",
      "\\\\\\hline\\\\\n",
      "\n",
      "\\textbf{I}: \\textit{i n p u t $<$SEP-1$>$ n a m e $<$SEP-2$>$ $<$END$>$}\\\\\n",
      "\\textbf{D}: a ` tensor ` of type ` complex64 ` . a complex64 tensor .\\\\\n",
      "\\textbf{P}: ` $<$UNK$>$ ` , ` $<$UNK$>$ ` . shape is ` [ ... , m , m ] ` . $<$END$>$\\\\\n",
      "\\\\\\hline\\\\\n",
      "\n",
      "\\textbf{I}: \\textit{e n c o d i n g \\_ t y p e $<$SEP-1$>$ s e l f $<$SEP-2$>$ d o c u m e}...\\\\\n",
      "...\\textit{n t $<$SEP-2$>$ r e t r y $<$SEP-2$>$ t i m e o u t $<$SEP-2$>$ $<$END$>$}\\\\\n",
      "\\textbf{D}: the encoding type used by the api to calculate offsets .\\\\\n",
      "\\textbf{P}: the encoding type used by the api to calculate sentence offsets . $<$END$>$\\\\\n",
      "\\\\\\hline\\\\\n",
      "\n"
     ]
    },
    {
     "data": {
      "image/png": "[encoded data removed]",
      "text/plain": [
       "<Figure size 720x1080 with 2 Axes>"
      ]
     },
     "metadata": {},
     "output_type": "display_data"
    },
    {
     "name": "stdout",
     "output_type": "stream",
     "text": [
      "\\textbf{I}: \\textit{i n p u t $<$SEP-1$>$ s t r u c t u r e 1 $<$SEP-2$>$ s t r u c t u r}...\\\\\n",
      "...\\textit{e 2 $<$SEP-2$>$ o u t p u t $<$SEP-2$>$ o r i g i n 1 $<$SEP-2$>$ o r i g i n 2 $<$SEP-2$>$ $<$END$>$}\\\\\n",
      "\\textbf{D}: binary image where a pattern is to be detected .\\\\\n",
      "\\textbf{P}: \\\\\n",
      "\\textbf{I}: \\textit{i n p u t $<$SEP-1$>$ s t r u c t u r e $<$SEP-2$>$ i t e r a t i o n}...\\\\\n",
      "...\\textit{s $<$SEP-2$>$ o u t p u t $<$SEP-2$>$ o r i g i n $<$SEP-2$>$ m a s k $<$SEP-2$>$ b o r d e r \\_ v a l u e $<$SEP-2$>$ b r u t e \\_ f o r c e $<$SEP-2$>$ $<$END$>$}\\\\\n",
      "\\textbf{D}: binary array\\_like to be closed . non-zero ( true ) elements form the subset to be closed .\\\\\n",
      "\\textbf{P}: \\\\\n",
      "\\textbf{I}: \\textit{i n p u t $<$SEP-1$>$ s t r u c t u r e $<$SEP-2$>$ o u t p u t $<$SEP-2$>$ o r}...\\\\\n",
      "...\\textit{i g i n $<$SEP-2$>$ $<$END$>$}\\\\\n",
      "\\textbf{D}: n-dimensional binary array with holes to be filled\\\\\n",
      "\\textbf{P}: \\\\\n",
      "\\textbf{I}: \\textit{i n p u t $<$SEP-1$>$ s t r u c t u r e $<$SEP-2$>$ o u t p u t $<$SEP-2$>$ $<$END$>$}\\\\\n",
      "\\textbf{D}: an array-like object to be labeled . any non-zero values in ` input ` are counted as features and zero values are considered the background .\\\\\n",
      "\\textbf{P}: \\\\\n",
      "\\textbf{I}: \\textit{i n p u t $<$SEP-1$>$ s t r u c t u r e $<$SEP-2$>$ i t e r a t i o n}...\\\\\n",
      "...\\textit{s $<$SEP-2$>$ m a s k $<$SEP-2$>$ o u t p u t $<$SEP-2$>$ b o r d e r \\_ v a l u e $<$SEP-2$>$ o r i g i n $<$SEP-2$>$ b r u t e \\_ f o r c e $<$SEP-2$>$ $<$END$>$}\\\\\n",
      "\\textbf{D}: binary image to be eroded . non-zero ( true ) elements form the subset to be eroded .\\\\\n",
      "\\textbf{P}: \\\\\n",
      "\\textbf{I}: \\textit{i n p u t $<$SEP-1$>$ s t r u c t u r e $<$SEP-2$>$ i t e r a t i o n}...\\\\\n",
      "...\\textit{s $<$SEP-2$>$ m a s k $<$SEP-2$>$ o u t p u t $<$SEP-2$>$ b o r d e r \\_ v a l u e $<$SEP-2$>$ o r i g i n $<$SEP-2$>$ b r u t e \\_ f o r c e $<$SEP-2$>$ $<$END$>$}\\\\\n",
      "\\textbf{D}: binary array\\_like to be dilated . non-zero ( true ) elements form the subset to be dilated .\\\\\n",
      "\\textbf{P}: \\\\\n"
     ]
    }
   ],
   "source": [
    "def plot_attentions(dataset, max_p=None):\n",
    "    if max_p is None:\n",
    "        max_p =  len(dataset[-1])\n",
    "     \n",
    "    fig, ax = plt.subplots(max_p, figsize=(10,15))\n",
    "    F=\"ABCDEFG\"\n",
    "    \n",
    "    for j, desc in enumerate(dataset[-1]):\n",
    "\n",
    "        just_one = [ i[j:j+1] for i in dataset ]\n",
    "        \n",
    "        trim = len(np.trim_zeros(just_one[0][0])) \n",
    "        alignments, translate = nn._feed_fwd(sess, just_one, [nn.inf_state.alignment_history.stack(), nn.inference_id] )\n",
    "        char_input1 = nn.translate(just_one[0][0], lookup=nn.idx2char, do_join=False)\n",
    "        \n",
    "        c_input = \" \".join(char_input1)\n",
    "        \n",
    "        \n",
    "        char_input = [c.replace(\"<SEP-\", \"   <S-\") for c in char_input1]\n",
    "        char_input = [c.replace(\"<END\", \"   <END\") for c in char_input1]\n",
    "        \n",
    "        word_output = nn.translate(translate[0], do_join=False)\n",
    "        \n",
    "        print(latex_translation([char_input1, desc, word_output ]))\n",
    "        print(\"\\\\\\\\\\\\hline\\\\\\\\\")\n",
    "        print()\n",
    "        if j == max_p:\n",
    "            break\n",
    "        moved = np.squeeze(alignments)\n",
    "        moved = np.stack([i[:trim] for i in moved])\n",
    "        moved[:,trim:] = 0.5\n",
    "        \n",
    "        \n",
    "        ax[j].set_title(\"Fig {})\\n\\n\\n\\n\".format(F[j]), loc=\"right\", fontsize=18)\n",
    "        ax[j].matshow(moved, aspect=\"auto\")\n",
    "#        \n",
    "        ax[j].set_xticks(np.arange(len(char_input)))\n",
    "        ax[j].set_xticklabels( char_input, rotation=30,  fontsize=18)\n",
    "        ax[j].set_yticks(np.arange(len(word_output)))\n",
    "        ax[j].set_yticklabels(word_output, fontsize=18)\n",
    "        ax[j].set_ylabel(\"Output\", fontsize=22)\n",
    "        ax[j].set_xlabel(\"Input\", fontsize=22)\n",
    "        ax[j].xaxis.set_label_position('top') \n",
    "    \n",
    "    plt.tight_layout()\n",
    "    plt.show()\n",
    "\n",
    "def latex_translation(t):\n",
    "    to_tex = lambda  s:s.replace(\"<\", \"$<$\").replace(\">\", \"$>$\").replace(\"_\",\"\\\\_\")\n",
    "    split = 25\n",
    "    n1 = t[0][:split]\n",
    "    n1 = \"\\\\textbf{I}: \\\\textit{\" + to_tex(\" \".join(n1)) + \"}\"\n",
    "    if len(t[0]) > split:\n",
    "        n1 += \"...\\\\\\\\\\n...\\\\textit{\"+to_tex(\" \".join(t[0][split:])) + \"}\"\n",
    "    n1 += \"\\\\\\\\\"\n",
    "    desc = \"\\\\textbf{D}: \" + to_tex(\" \".join(t[1])) + \"\\\\\\\\\"\n",
    "    pred = \"\\\\textbf{P}: \" + to_tex(\" \".join(t[2])) + \"\\\\\\\\\"\n",
    "    return \"\\n\".join([n1, desc, pred])\n",
    "\n",
    "    \n",
    "    \n",
    "def find_in_train(desc, data_tuple, nn):\n",
    "    for i,t in enumerate(data_tuple.train[-1]):\n",
    "#         print(t)\n",
    "        if desc in \" \".join(t):\n",
    "            chars = nn.translate(data_tuple.train[0][i], lookup=nn.idx2char, do_join=False)\n",
    "            print(latex_translation([chars, t, [\"\"]]))\n",
    "            print(\"\\n\")\n",
    "            \n",
    "def pickout_data(translations, indices, data_tuple):\n",
    "    trans = [translations[-1][i] for i in indices] \n",
    "    return find_examples(trans, data_tuple)\n",
    "\n",
    "def find_char_starts_with_TRAIN(array):\n",
    "    input_egs_idx = []\n",
    "    for i, r in enumerate(data_tuple.train[0]):\n",
    "        if np.array_equal(r[:len(array)], array):\n",
    "            input_egs_idx.append(i)\n",
    "    input_egs = []\n",
    "    for d in data_tuple.train[:-1]:\n",
    "    \n",
    "        input_egs.append(np.stack([d[i] for i in input_egs_idx]))\n",
    "    input_egs.append([data_tuple.train[-1][i] for i in input_egs_idx])\n",
    "    for i,r in enumerate(input_egs[0]):\n",
    "        print(latex_translation([nn.translate(r, lookup=nn.idx2char, do_join=False), input_egs[-1][i], \"\"]))\n",
    "    \n",
    "\n",
    "print(\"-----\")\n",
    "REPORT_PLOT_DATA = load_examples('SECOND_EXPERIMENT_otherargs___REPORT_binary_input_enc')\n",
    "plot_attentions(REPORT_PLOT_DATA, 2)\n",
    "\n",
    "\n",
    "\n",
    "def find_starting__input_SEP_structure():\n",
    "    return find_char_starts_with_TRAIN(np.array([9, 14, 16, 21, 20, 65, 19, 20, 18, 21,  3, 20 ,21, 18,  5]))\n",
    "\n",
    "find_starting__input_SEP_structure()"
   ]
  },
  {
   "cell_type": "code",
   "execution_count": null,
   "metadata": {},
   "outputs": [],
   "source": [
    "# bleu_bootstrap = get_bleu_bootstrap(T[-1], sample_size=1000, no_samples=1000)"
   ]
  },
  {
   "cell_type": "code",
   "execution_count": null,
   "metadata": {},
   "outputs": [],
   "source": [
    "# print(\"{:.5f}, {:.5f}\".format(np.mean(bleu_bootstrap), np.std(bleu_bootstrap)))\n",
    "\n",
    "# print(\"{:.5f}, {:.5f}\".format(np.mean(sorted(bleu_bootstrap)[25:-25]), np.std(sorted(bleu_bootstrap)[25:-25])))"
   ]
  },
  {
   "cell_type": "code",
   "execution_count": null,
   "metadata": {
    "scrolled": true
   },
   "outputs": [],
   "source": [
    "# [print(i, t) for i, t in enumerate(T[-1])]"
   ]
  },
  {
   "cell_type": "markdown",
   "metadata": {},
   "source": [
    "### Other Stuff"
   ]
  },
  {
   "cell_type": "code",
   "execution_count": null,
   "metadata": {},
   "outputs": [],
   "source": [
    "egs = load_examples('input_otherargs')\n",
    "egs2 = load_examples('new_attn_otherargs')\n",
    "\n",
    "T2  = get_translations(nn, egs2)"
   ]
  },
  {
   "cell_type": "code",
   "execution_count": null,
   "metadata": {},
   "outputs": [],
   "source": [
    "\n",
    "#     print(\"\\\\\\\\\\n\\\\hline\\n\\\\\\\\\")\n",
    "    print(\"--------------\")"
   ]
  },
  {
   "cell_type": "code",
   "execution_count": null,
   "metadata": {},
   "outputs": [],
   "source": [
    "char_embeddings = nn.get_scope_variable(sess, 'embed_vars', 'char_embed')"
   ]
  },
  {
   "cell_type": "code",
   "execution_count": null,
   "metadata": {},
   "outputs": [],
   "source": [
    "len(data_tuple.test[-1])\n"
   ]
  },
  {
   "cell_type": "code",
   "execution_count": null,
   "metadata": {
    "scrolled": false
   },
   "outputs": [],
   "source": [
    "#\"\\n\".join(\"\\t\".join([str(j) for j in i]) for i in char_embeddings[0]) \n",
    "print(\"\\n\".join([\"Char\"] + [nn.idx2char[i] for i in sorted(nn.idx2char.keys())]))\n"
   ]
  },
  {
   "cell_type": "code",
   "execution_count": null,
   "metadata": {},
   "outputs": [],
   "source": []
  }
 ],
 "metadata": {
  "kernelspec": {
   "display_name": "Python 3",
   "language": "python",
   "name": "python3"
  },
  "language_info": {
   "codemirror_mode": {
    "name": "ipython",
    "version": 3
   },
   "file_extension": ".py",
   "mimetype": "text/x-python",
   "name": "python",
   "nbconvert_exporter": "python",
   "pygments_lexer": "ipython3",
   "version": "3.6.5"
  }
 },
 "nbformat": 4,
 "nbformat_minor": 2
}
