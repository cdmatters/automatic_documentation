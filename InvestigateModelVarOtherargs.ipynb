{
 "cells": [
  {
   "cell_type": "code",
   "execution_count": 1,
   "metadata": {},
   "outputs": [
    {
     "name": "stderr",
     "output_type": "stream",
     "text": [
      "/home/ehambro/anaconda3/lib/python3.6/site-packages/h5py/__init__.py:36: FutureWarning: Conversion of the second argument of issubdtype from `float` to `np.floating` is deprecated. In future, it will be treated as `np.float64 == np.dtype(float).type`.\n",
      "  from ._conv import register_converters as _register_converters\n"
     ]
    }
   ],
   "source": [
    "from project.models.char_baseline import CharSeqBaseline\n",
    "from project.models.code2vec_solo import Code2VecSolo\n",
    "from project.models.code2vec_encoder import Code2VecEncoder\n",
    "from project.models.base_model import _run_model\n"
   ]
  },
  {
   "cell_type": "code",
   "execution_count": 2,
   "metadata": {},
   "outputs": [
    {
     "name": "stderr",
     "output_type": "stream",
     "text": [
      "LOADING FROM: logs/reboot_second_var_only, overwriting kwargs\n"
     ]
    },
    {
     "name": "stdout",
     "output_type": "stream",
     "text": [
      "Loading GloVe weights and word to index lookup table\n"
     ]
    },
    {
     "name": "stderr",
     "output_type": "stream",
     "text": [
      "400000it [00:07, 52611.14it/s]\n"
     ]
    },
    {
     "name": "stdout",
     "output_type": "stream",
     "text": [
      "Creating char to index look up table\n",
      "Tokenizing the word descriptions and characters\n",
      "Tokenizing the src code\n",
      "Extracting tensors train and test\n",
      "INFO:tensorflow:Restoring parameters from logs/reboot_second_var_only/BasicModel.ckpt-17097\n"
     ]
    },
    {
     "name": "stderr",
     "output_type": "stream",
     "text": [
      "0822_21:05 WARNING - Loaded from logs/reboot_second_var_only: Global Step 17097\n"
     ]
    }
   ],
   "source": [
    "# load_dir = {\"logdir\":\"logs/BIG_X_new_attention_second_experiment__var_otherargs_2008_102707/best_bleu\", \"mode\":\"RETURN\"}\n",
    "# load_dir = {\"logdir\":\"logs/new_attention_second_experiment__var_otherargs_1808_200101/best_bleu\", \"mode\":\"RETURN\"}\n",
    "# load_dir = {\"logdir\":\"logs/SMALL_lstm_otherargs_cross_ent\", \"mode\":\"RETURN\"}\n",
    "load_dir = {\"logdir\":\"logs/reboot_second_var_only\", \"mode\":\"RETURN\"}\n",
    "LOADED = _run_model(CharSeqBaseline, **load_dir)\n"
   ]
  },
  {
   "cell_type": "code",
   "execution_count": 3,
   "metadata": {},
   "outputs": [],
   "source": [
    "sess, nn, data_tuple, step = LOADED"
   ]
  },
  {
   "cell_type": "code",
   "execution_count": 4,
   "metadata": {},
   "outputs": [],
   "source": [
    "# RESULTS = nn.evaluate_bleu(sess, data_tuple.test, max_translations=10000)"
   ]
  },
  {
   "cell_type": "code",
   "execution_count": 5,
   "metadata": {
    "scrolled": false
   },
   "outputs": [],
   "source": [
    "import random\n",
    "import numpy as np\n",
    "from tqdm import tqdm \n",
    "from project.external.nmt import bleu\n",
    "\n",
    "\n",
    "def prep_samples(translations, sample_size, no_samples):\n",
    "    for n in range(no_samples):\n",
    "        yield  random.choices(translations, k=sample_size)\n",
    "        \n",
    "def get_translations(nn, data):\n",
    "    return nn.evaluate_bleu(sess, data, max_translations=10000)\n",
    "\n",
    "def get_bleu_bootstrap(translations, sample_size = 1000, no_samples = 1000):\n",
    "    bleu_bootstrap = []\n",
    "    total = []\n",
    "    for sample in prep_samples(translations, sample_size, no_samples):\n",
    "        all_references = [[t.description] for t in sample]\n",
    "        all_translations = [t.translation for t in sample ]\n",
    "        b = bleu.compute_bleu(all_references, all_translations, max_order=4, smooth=False)\n",
    "        bleu_bootstrap.append(b[0]*100)\n",
    "    return bleu_bootstrap\n",
    "    "
   ]
  },
  {
   "cell_type": "code",
   "execution_count": 6,
   "metadata": {},
   "outputs": [],
   "source": [
    "import pickle\n",
    "from collections import namedtuple\n",
    "from  matplotlib import pyplot as plt \n",
    "\n",
    "Examples = namedtuple(\"Examples\", [\"translations\", \"data_tuple\"])\n",
    "\n",
    "def find_examples(translations, data_tuple):\n",
    "    return_index = []\n",
    "    return_data = [[] for  _ in data_tuple.test]\n",
    "    for t in translations:\n",
    "        for i,d in enumerate(data_tuple.test[-1]):\n",
    "            arg_name = \"\".join(nn.translate(data_tuple.test[0][i], lookup=nn.idx2char, do_join=False))\n",
    "            if d == t.description and arg_name == t.name:\n",
    "                return_index.append(i)\n",
    "    \n",
    "    for j in return_index:\n",
    "        for k, d in enumerate(return_data):\n",
    "            d.append(data_tuple.test[k][j])\n",
    "    \n",
    "    return [np.stack(x) for x in return_data[:-1]] + [return_data[-1]]\n",
    "\n",
    "def load_examples(name):\n",
    "    with open(\"examples/{}.eg.pkl\".format(name), 'rb') as f:\n",
    "         examples = pickle.load(f)\n",
    "    return examples\n",
    "\n",
    "def save_examples(name, good_data_tuple):\n",
    "    with open(\"examples/{}.eg.pkl\".format(name), 'wb') as f:\n",
    "        pickle.dump(good_data_tuple, f)\n"
   ]
  },
  {
   "cell_type": "code",
   "execution_count": 7,
   "metadata": {},
   "outputs": [],
   "source": [
    "# T200  = get_translations(nn, data_tuple.test[:200])\n",
    "# find_in_train(\"binary image\", data_tuple, nn)\n",
    "# selected_data = pickout_data(T200, [47,48], data_tuple)\n",
    "# for i, t in enumerate(T200[-1]):\n",
    "#     print(i,t)\n",
    "#     print(latex_translation(t))"
   ]
  },
  {
   "cell_type": "code",
   "execution_count": 8,
   "metadata": {
    "scrolled": false
   },
   "outputs": [
    {
     "name": "stdout",
     "output_type": "stream",
     "text": [
      "-----\n",
      "\\textbf{I}: \\mintinline[]{python}{i n p u t $<$SEP-1$>$ s t r u c t u r e $<$SEP-2$>$ m a s k $<$SEP-2$>$ o u t p}...\\\\\n",
      "...\\mintinline[]{python}{u t $<$SEP-2$>$ b o r d e r \\_ v a l u e $<$SEP-2$>$ o r i g i n $<$SEP-2$>$ $<$END$>$}\\\\\n",
      "\\textbf{D}: binary image to be propagated inside ` mask ` .\\\\\n",
      "\\textbf{P}: if not ` none ` , compute the input to the $<$UNK$>$ of the $<$UNK$>$ convolution . $<$END$>$\\\\\n",
      "\\\\\\hline\\\\\n",
      "\n",
      "\\textbf{I}: \\mintinline[]{python}{i n p u t $<$SEP-1$>$ n a m e $<$SEP-2$>$ $<$END$>$}\\\\\n",
      "\\textbf{D}: a ` tensor ` of type ` complex64 ` . a complex64 tensor .\\\\\n",
      "\\textbf{P}: name of the input node to be used as the model . $<$END$>$\\\\\n",
      "\\\\\\hline\\\\\n",
      "\n",
      "\\textbf{I}: \\mintinline[]{python}{e n c o d i n g \\_ t y p e $<$SEP-1$>$ s e l f $<$SEP-2$>$ d o c u m e}...\\\\\n",
      "...\\mintinline[]{python}{n t $<$SEP-2$>$ r e t r y $<$SEP-2$>$ t i m e o u t $<$SEP-2$>$ $<$END$>$}\\\\\n",
      "\\textbf{D}: the encoding type used by the api to calculate offsets .\\\\\n",
      "\\textbf{P}: a dictionary that maps the threads to be constructed . $<$END$>$\\\\\n",
      "\\\\\\hline\\\\\n",
      "\n"
     ]
    },
    {
     "data": {
      "image/png": "[encoded data removed]",
      "text/plain": [
       "<Figure size 720x1080 with 3 Axes>"
      ]
     },
     "metadata": {},
     "output_type": "display_data"
    },
    {
     "ename": "ValueError",
     "evalue": "need at least one array to stack",
     "output_type": "error",
     "traceback": [
      "\u001b[0;31m---------------------------------------------------------------------------\u001b[0m",
      "\u001b[0;31mValueError\u001b[0m                                Traceback (most recent call last)",
      "\u001b[0;32m<ipython-input-8-d56ab235ec9f>\u001b[0m in \u001b[0;36m<module>\u001b[0;34m()\u001b[0m\n\u001b[1;32m     97\u001b[0m     \u001b[0;32mreturn\u001b[0m \u001b[0mfind_char_starts_with_TRAIN\u001b[0m\u001b[0;34m(\u001b[0m\u001b[0mnp\u001b[0m\u001b[0;34m.\u001b[0m\u001b[0marray\u001b[0m\u001b[0;34m(\u001b[0m\u001b[0;34m[\u001b[0m\u001b[0;36m9\u001b[0m\u001b[0;34m,\u001b[0m \u001b[0;36m14\u001b[0m\u001b[0;34m,\u001b[0m \u001b[0;36m16\u001b[0m\u001b[0;34m,\u001b[0m \u001b[0;36m21\u001b[0m\u001b[0;34m,\u001b[0m \u001b[0;36m20\u001b[0m\u001b[0;34m,\u001b[0m \u001b[0;36m65\u001b[0m\u001b[0;34m,\u001b[0m \u001b[0;36m19\u001b[0m\u001b[0;34m,\u001b[0m \u001b[0;36m20\u001b[0m\u001b[0;34m,\u001b[0m \u001b[0;36m18\u001b[0m\u001b[0;34m,\u001b[0m \u001b[0;36m21\u001b[0m\u001b[0;34m,\u001b[0m  \u001b[0;36m3\u001b[0m\u001b[0;34m,\u001b[0m \u001b[0;36m20\u001b[0m \u001b[0;34m,\u001b[0m\u001b[0;36m21\u001b[0m\u001b[0;34m,\u001b[0m \u001b[0;36m18\u001b[0m\u001b[0;34m,\u001b[0m  \u001b[0;36m5\u001b[0m\u001b[0;34m]\u001b[0m\u001b[0;34m)\u001b[0m\u001b[0;34m)\u001b[0m\u001b[0;34m\u001b[0m\u001b[0m\n\u001b[1;32m     98\u001b[0m \u001b[0;34m\u001b[0m\u001b[0m\n\u001b[0;32m---> 99\u001b[0;31m \u001b[0mfind_starting__input_SEP_structure\u001b[0m\u001b[0;34m(\u001b[0m\u001b[0;34m)\u001b[0m\u001b[0;34m\u001b[0m\u001b[0m\n\u001b[0m",
      "\u001b[0;32m<ipython-input-8-d56ab235ec9f>\u001b[0m in \u001b[0;36mfind_starting__input_SEP_structure\u001b[0;34m()\u001b[0m\n\u001b[1;32m     95\u001b[0m \u001b[0;34m\u001b[0m\u001b[0m\n\u001b[1;32m     96\u001b[0m \u001b[0;32mdef\u001b[0m \u001b[0mfind_starting__input_SEP_structure\u001b[0m\u001b[0;34m(\u001b[0m\u001b[0;34m)\u001b[0m\u001b[0;34m:\u001b[0m\u001b[0;34m\u001b[0m\u001b[0m\n\u001b[0;32m---> 97\u001b[0;31m     \u001b[0;32mreturn\u001b[0m \u001b[0mfind_char_starts_with_TRAIN\u001b[0m\u001b[0;34m(\u001b[0m\u001b[0mnp\u001b[0m\u001b[0;34m.\u001b[0m\u001b[0marray\u001b[0m\u001b[0;34m(\u001b[0m\u001b[0;34m[\u001b[0m\u001b[0;36m9\u001b[0m\u001b[0;34m,\u001b[0m \u001b[0;36m14\u001b[0m\u001b[0;34m,\u001b[0m \u001b[0;36m16\u001b[0m\u001b[0;34m,\u001b[0m \u001b[0;36m21\u001b[0m\u001b[0;34m,\u001b[0m \u001b[0;36m20\u001b[0m\u001b[0;34m,\u001b[0m \u001b[0;36m65\u001b[0m\u001b[0;34m,\u001b[0m \u001b[0;36m19\u001b[0m\u001b[0;34m,\u001b[0m \u001b[0;36m20\u001b[0m\u001b[0;34m,\u001b[0m \u001b[0;36m18\u001b[0m\u001b[0;34m,\u001b[0m \u001b[0;36m21\u001b[0m\u001b[0;34m,\u001b[0m  \u001b[0;36m3\u001b[0m\u001b[0;34m,\u001b[0m \u001b[0;36m20\u001b[0m \u001b[0;34m,\u001b[0m\u001b[0;36m21\u001b[0m\u001b[0;34m,\u001b[0m \u001b[0;36m18\u001b[0m\u001b[0;34m,\u001b[0m  \u001b[0;36m5\u001b[0m\u001b[0;34m]\u001b[0m\u001b[0;34m)\u001b[0m\u001b[0;34m)\u001b[0m\u001b[0;34m\u001b[0m\u001b[0m\n\u001b[0m\u001b[1;32m     98\u001b[0m \u001b[0;34m\u001b[0m\u001b[0m\n\u001b[1;32m     99\u001b[0m \u001b[0mfind_starting__input_SEP_structure\u001b[0m\u001b[0;34m(\u001b[0m\u001b[0;34m)\u001b[0m\u001b[0;34m\u001b[0m\u001b[0m\n",
      "\u001b[0;32m<ipython-input-8-d56ab235ec9f>\u001b[0m in \u001b[0;36mfind_char_starts_with_TRAIN\u001b[0;34m(array)\u001b[0m\n\u001b[1;32m     82\u001b[0m     \u001b[0;32mfor\u001b[0m \u001b[0md\u001b[0m \u001b[0;32min\u001b[0m \u001b[0mdata_tuple\u001b[0m\u001b[0;34m.\u001b[0m\u001b[0mtrain\u001b[0m\u001b[0;34m[\u001b[0m\u001b[0;34m:\u001b[0m\u001b[0;34m-\u001b[0m\u001b[0;36m1\u001b[0m\u001b[0;34m]\u001b[0m\u001b[0;34m:\u001b[0m\u001b[0;34m\u001b[0m\u001b[0m\n\u001b[1;32m     83\u001b[0m \u001b[0;34m\u001b[0m\u001b[0m\n\u001b[0;32m---> 84\u001b[0;31m         \u001b[0minput_egs\u001b[0m\u001b[0;34m.\u001b[0m\u001b[0mappend\u001b[0m\u001b[0;34m(\u001b[0m\u001b[0mnp\u001b[0m\u001b[0;34m.\u001b[0m\u001b[0mstack\u001b[0m\u001b[0;34m(\u001b[0m\u001b[0;34m[\u001b[0m\u001b[0md\u001b[0m\u001b[0;34m[\u001b[0m\u001b[0mi\u001b[0m\u001b[0;34m]\u001b[0m \u001b[0;32mfor\u001b[0m \u001b[0mi\u001b[0m \u001b[0;32min\u001b[0m \u001b[0minput_egs_idx\u001b[0m\u001b[0;34m]\u001b[0m\u001b[0;34m)\u001b[0m\u001b[0;34m)\u001b[0m\u001b[0;34m\u001b[0m\u001b[0m\n\u001b[0m\u001b[1;32m     85\u001b[0m     \u001b[0minput_egs\u001b[0m\u001b[0;34m.\u001b[0m\u001b[0mappend\u001b[0m\u001b[0;34m(\u001b[0m\u001b[0;34m[\u001b[0m\u001b[0mdata_tuple\u001b[0m\u001b[0;34m.\u001b[0m\u001b[0mtrain\u001b[0m\u001b[0;34m[\u001b[0m\u001b[0;34m-\u001b[0m\u001b[0;36m1\u001b[0m\u001b[0;34m]\u001b[0m\u001b[0;34m[\u001b[0m\u001b[0mi\u001b[0m\u001b[0;34m]\u001b[0m \u001b[0;32mfor\u001b[0m \u001b[0mi\u001b[0m \u001b[0;32min\u001b[0m \u001b[0minput_egs_idx\u001b[0m\u001b[0;34m]\u001b[0m\u001b[0;34m)\u001b[0m\u001b[0;34m\u001b[0m\u001b[0m\n\u001b[1;32m     86\u001b[0m     \u001b[0;32mfor\u001b[0m \u001b[0mi\u001b[0m\u001b[0;34m,\u001b[0m\u001b[0mr\u001b[0m \u001b[0;32min\u001b[0m \u001b[0menumerate\u001b[0m\u001b[0;34m(\u001b[0m\u001b[0minput_egs\u001b[0m\u001b[0;34m[\u001b[0m\u001b[0;36m0\u001b[0m\u001b[0;34m]\u001b[0m\u001b[0;34m)\u001b[0m\u001b[0;34m:\u001b[0m\u001b[0;34m\u001b[0m\u001b[0m\n",
      "\u001b[0;32m~/anaconda3/lib/python3.6/site-packages/numpy/core/shape_base.py\u001b[0m in \u001b[0;36mstack\u001b[0;34m(arrays, axis, out)\u001b[0m\n\u001b[1;32m    347\u001b[0m     \u001b[0marrays\u001b[0m \u001b[0;34m=\u001b[0m \u001b[0;34m[\u001b[0m\u001b[0masanyarray\u001b[0m\u001b[0;34m(\u001b[0m\u001b[0marr\u001b[0m\u001b[0;34m)\u001b[0m \u001b[0;32mfor\u001b[0m \u001b[0marr\u001b[0m \u001b[0;32min\u001b[0m \u001b[0marrays\u001b[0m\u001b[0;34m]\u001b[0m\u001b[0;34m\u001b[0m\u001b[0m\n\u001b[1;32m    348\u001b[0m     \u001b[0;32mif\u001b[0m \u001b[0;32mnot\u001b[0m \u001b[0marrays\u001b[0m\u001b[0;34m:\u001b[0m\u001b[0;34m\u001b[0m\u001b[0m\n\u001b[0;32m--> 349\u001b[0;31m         \u001b[0;32mraise\u001b[0m \u001b[0mValueError\u001b[0m\u001b[0;34m(\u001b[0m\u001b[0;34m'need at least one array to stack'\u001b[0m\u001b[0;34m)\u001b[0m\u001b[0;34m\u001b[0m\u001b[0m\n\u001b[0m\u001b[1;32m    350\u001b[0m \u001b[0;34m\u001b[0m\u001b[0m\n\u001b[1;32m    351\u001b[0m     \u001b[0mshapes\u001b[0m \u001b[0;34m=\u001b[0m \u001b[0mset\u001b[0m\u001b[0;34m(\u001b[0m\u001b[0marr\u001b[0m\u001b[0;34m.\u001b[0m\u001b[0mshape\u001b[0m \u001b[0;32mfor\u001b[0m \u001b[0marr\u001b[0m \u001b[0;32min\u001b[0m \u001b[0marrays\u001b[0m\u001b[0;34m)\u001b[0m\u001b[0;34m\u001b[0m\u001b[0m\n",
      "\u001b[0;31mValueError\u001b[0m: need at least one array to stack"
     ]
    }
   ],
   "source": [
    "def plot_attentions(dataset, max_p=None, figsize=(10,15)):\n",
    "    if max_p is None:\n",
    "        max_p =  len(dataset[-1])\n",
    "     \n",
    "    fig, ax = plt.subplots(max_p,figsize=figsize )\n",
    "    F=\"ABCDEFG\"\n",
    "    \n",
    "    if max_p == 1:\n",
    "        ax = [ax]\n",
    "    for j, desc in enumerate(dataset[-1]):\n",
    "\n",
    "        just_one = [ i[j:j+1] for i in dataset ]\n",
    "        \n",
    "        trim = len(np.trim_zeros(just_one[0][0])) \n",
    "        alignments, translate = nn._feed_fwd(sess, just_one, [nn.inf_state.alignment_history.stack(), nn.inference_id] )\n",
    "        char_input1 = nn.translate(just_one[0][0], lookup=nn.idx2char, do_join=False)\n",
    "        \n",
    "        c_input = \" \".join(char_input1)\n",
    "        \n",
    "        \n",
    "        char_input = [c.replace(\"<SEP-\", \"   <S-\") for c in char_input1]\n",
    "        char_input = [c.replace(\"<END\", \"   <END\") for c in char_input1]\n",
    "        \n",
    "        word_output = nn.translate(translate[0], do_join=False)\n",
    "        \n",
    "        print(latex_translation([char_input1, desc, word_output ]))\n",
    "        print(\"\\\\\\\\\\\\hline\\\\\\\\\")\n",
    "        print()\n",
    "        if j == max_p:\n",
    "            break\n",
    "        moved = np.squeeze(alignments)\n",
    "        moved = np.stack([i[:trim] for i in moved])\n",
    "        moved[:,trim:] = 0.5\n",
    "        \n",
    "        \n",
    "        ax[j].set_title(\"Fig {})\\n\\n\\n\\n\".format(F[j]), loc=\"right\", fontsize=18)\n",
    "        ax[j].matshow(moved, aspect=\"auto\")\n",
    "#        \n",
    "        ax[j].set_xticks(np.arange(len(char_input)))\n",
    "        ax[j].set_xticklabels( char_input, rotation=30,  fontsize=18)\n",
    "        ax[j].set_yticks(np.arange(len(word_output)))\n",
    "        ax[j].set_yticklabels(word_output, fontsize=18)\n",
    "        ax[j].set_ylabel(\"Output\", fontsize=22)\n",
    "        ax[j].set_xlabel(\"Input\", fontsize=22)\n",
    "        ax[j].xaxis.set_label_position('top') \n",
    "    \n",
    "    plt.tight_layout()\n",
    "    plt.show()\n",
    "\n",
    "def latex_translation(t):\n",
    "    to_tex = lambda  s:s.replace(\"<\", \"$<$\").replace(\">\", \"$>$\").replace(\"_\",\"\\\\_\")\n",
    "    split = 25\n",
    "    n1 = t[0][:split]\n",
    "    n1 = \"\\\\textbf{I}: \\mintinline[]{python}{\" + to_tex(\" \".join(n1)) + \"}\"\n",
    "    if len(t[0]) > split:\n",
    "        n1 += \"...\\\\\\\\\\n...\\mintinline[]{python}{\"+to_tex(\" \".join(t[0][split:])) + \"}\"\n",
    "    n1 += \"\\\\\\\\\"\n",
    "    desc = \"\\\\textbf{D}: \" + to_tex(\" \".join(t[1])) + \"\\\\\\\\\"\n",
    "    pred = \"\\\\textbf{P}: \" + to_tex(\" \".join(t[2])) + \"\\\\\\\\\"\n",
    "    return \"\\n\".join([n1, desc, pred])\n",
    "\n",
    "    \n",
    "    \n",
    "def find_in_train(desc, data_tuple, nn):\n",
    "    for i,t in enumerate(data_tuple.train[-1]):\n",
    "#         print(t)\n",
    "        if desc in \" \".join(t):\n",
    "            chars = nn.translate(data_tuple.train[0][i], lookup=nn.idx2char, do_join=False)\n",
    "            print(latex_translation([chars, t, [\"\"]]))\n",
    "            print(\"\\n\")\n",
    "            \n",
    "def pickout_data(translations, indices, data_tuple):\n",
    "    trans = [translations[-1][i] for i in indices] \n",
    "    return find_examples(trans, data_tuple)\n",
    "\n",
    "def find_char_starts_with_TRAIN(array):\n",
    "    input_egs_idx = []\n",
    "    for i, r in enumerate(data_tuple.train[0]):\n",
    "        if np.array_equal(r[:len(array)], array):\n",
    "            input_egs_idx.append(i)\n",
    "    input_egs = []\n",
    "    for d in data_tuple.train[:-1]:\n",
    "    \n",
    "        input_egs.append(np.stack([d[i] for i in input_egs_idx]))\n",
    "    input_egs.append([data_tuple.train[-1][i] for i in input_egs_idx])\n",
    "    for i,r in enumerate(input_egs[0]):\n",
    "        print(latex_translation([nn.translate(r, lookup=nn.idx2char, do_join=False), input_egs[-1][i], \"\"]))\n",
    "    \n",
    "\n",
    "print(\"-----\")\n",
    "REPORT_PLOT_DATA = load_examples('SECOND_EXPERIMENT_otherargs___REPORT_binary_input_enc')\n",
    "plot_attentions(REPORT_PLOT_DATA, 3)\n",
    "\n",
    "\n",
    "\n",
    "def find_starting__input_SEP_structure():\n",
    "    return find_char_starts_with_TRAIN(np.array([9, 14, 16, 21, 20, 65, 19, 20, 18, 21,  3, 20 ,21, 18,  5]))\n",
    "\n",
    "find_starting__input_SEP_structure()"
   ]
  },
  {
   "cell_type": "code",
   "execution_count": 53,
   "metadata": {},
   "outputs": [
    {
     "ename": "IndexError",
     "evalue": "list index out of range",
     "output_type": "error",
     "traceback": [
      "\u001b[0;31m---------------------------------------------------------------------------\u001b[0m",
      "\u001b[0;31mIndexError\u001b[0m                                Traceback (most recent call last)",
      "\u001b[0;32m<ipython-input-53-edc242d1c08f>\u001b[0m in \u001b[0;36m<module>\u001b[0;34m()\u001b[0m\n\u001b[0;32m----> 1\u001b[0;31m \u001b[0mplot_attentions\u001b[0m\u001b[0;34m(\u001b[0m\u001b[0;34m[\u001b[0m\u001b[0mi\u001b[0m\u001b[0;34m[\u001b[0m\u001b[0;36m2\u001b[0m\u001b[0;34m:\u001b[0m\u001b[0;36m3\u001b[0m\u001b[0;34m,\u001b[0m\u001b[0;34m:\u001b[0m\u001b[0;34m]\u001b[0m \u001b[0;32mfor\u001b[0m \u001b[0mi\u001b[0m \u001b[0;32min\u001b[0m \u001b[0mREPORT_PLOT_DATA\u001b[0m\u001b[0;34m[\u001b[0m\u001b[0;34m:\u001b[0m\u001b[0;34m-\u001b[0m\u001b[0;36m1\u001b[0m\u001b[0;34m]\u001b[0m\u001b[0;34m]\u001b[0m \u001b[0;34m+\u001b[0m \u001b[0;34m[\u001b[0m\u001b[0mREPORT_PLOT_DATA\u001b[0m\u001b[0;34m[\u001b[0m\u001b[0;34m-\u001b[0m\u001b[0;36m1\u001b[0m\u001b[0;34m]\u001b[0m\u001b[0;34m[\u001b[0m\u001b[0;36m2\u001b[0m\u001b[0;34m]\u001b[0m\u001b[0;34m]\u001b[0m\u001b[0;34m,\u001b[0m \u001b[0;36m1\u001b[0m\u001b[0;34m,\u001b[0m \u001b[0mfigsize\u001b[0m\u001b[0;34m=\u001b[0m\u001b[0;34m(\u001b[0m\u001b[0;36m10\u001b[0m\u001b[0;34m,\u001b[0m\u001b[0;36m5\u001b[0m\u001b[0;34m)\u001b[0m\u001b[0;34m)\u001b[0m\u001b[0;34m\u001b[0m\u001b[0m\n\u001b[0m\u001b[1;32m      2\u001b[0m \u001b[0;34m\u001b[0m\u001b[0m\n\u001b[1;32m      3\u001b[0m \u001b[0mHB\u001b[0m\u001b[0;34m\u001b[0m\u001b[0m\n",
      "\u001b[0;32m<ipython-input-8-d56ab235ec9f>\u001b[0m in \u001b[0;36mplot_attentions\u001b[0;34m(dataset, max_p, figsize)\u001b[0m\n\u001b[1;32m     24\u001b[0m         \u001b[0mword_output\u001b[0m \u001b[0;34m=\u001b[0m \u001b[0mnn\u001b[0m\u001b[0;34m.\u001b[0m\u001b[0mtranslate\u001b[0m\u001b[0;34m(\u001b[0m\u001b[0mtranslate\u001b[0m\u001b[0;34m[\u001b[0m\u001b[0;36m0\u001b[0m\u001b[0;34m]\u001b[0m\u001b[0;34m,\u001b[0m \u001b[0mdo_join\u001b[0m\u001b[0;34m=\u001b[0m\u001b[0;32mFalse\u001b[0m\u001b[0;34m)\u001b[0m\u001b[0;34m\u001b[0m\u001b[0m\n\u001b[1;32m     25\u001b[0m \u001b[0;34m\u001b[0m\u001b[0m\n\u001b[0;32m---> 26\u001b[0;31m         \u001b[0mprint\u001b[0m\u001b[0;34m(\u001b[0m\u001b[0mlatex_translation\u001b[0m\u001b[0;34m(\u001b[0m\u001b[0;34m[\u001b[0m\u001b[0mchar_input1\u001b[0m\u001b[0;34m,\u001b[0m \u001b[0mdesc\u001b[0m\u001b[0;34m,\u001b[0m \u001b[0mword_output\u001b[0m \u001b[0;34m]\u001b[0m\u001b[0;34m)\u001b[0m\u001b[0;34m)\u001b[0m\u001b[0;34m\u001b[0m\u001b[0m\n\u001b[0m\u001b[1;32m     27\u001b[0m         \u001b[0mprint\u001b[0m\u001b[0;34m(\u001b[0m\u001b[0;34m\"\\\\\\\\\\\\hline\\\\\\\\\"\u001b[0m\u001b[0;34m)\u001b[0m\u001b[0;34m\u001b[0m\u001b[0m\n\u001b[1;32m     28\u001b[0m         \u001b[0mprint\u001b[0m\u001b[0;34m(\u001b[0m\u001b[0;34m)\u001b[0m\u001b[0;34m\u001b[0m\u001b[0m\n",
      "\u001b[0;32m<ipython-input-9-a62cfd16edfb>\u001b[0m in \u001b[0;36mlatex_translation\u001b[0;34m(t)\u001b[0m\n\u001b[1;32m      9\u001b[0m     \u001b[0mn1\u001b[0m \u001b[0;34m+=\u001b[0m \u001b[0;34m\"\\\\\\\\\"\u001b[0m\u001b[0;34m\u001b[0m\u001b[0m\n\u001b[1;32m     10\u001b[0m     \u001b[0mdesc\u001b[0m \u001b[0;34m=\u001b[0m \u001b[0;34m\"\\\\textbf{D}: \"\u001b[0m \u001b[0;34m+\u001b[0m \u001b[0mto_tex\u001b[0m\u001b[0;34m(\u001b[0m\u001b[0;34m\" \"\u001b[0m\u001b[0;34m.\u001b[0m\u001b[0mjoin\u001b[0m\u001b[0;34m(\u001b[0m\u001b[0mt\u001b[0m\u001b[0;34m[\u001b[0m\u001b[0;36m1\u001b[0m\u001b[0;34m]\u001b[0m\u001b[0;34m)\u001b[0m\u001b[0;34m)\u001b[0m \u001b[0;34m+\u001b[0m \u001b[0;34m\"\\\\\\\\\"\u001b[0m\u001b[0;34m\u001b[0m\u001b[0m\n\u001b[0;32m---> 11\u001b[0;31m     \u001b[0mpred\u001b[0m \u001b[0;34m=\u001b[0m \u001b[0;34m\"\\\\textbf{P}: \"\u001b[0m \u001b[0;34m+\u001b[0m \u001b[0mto_tex\u001b[0m\u001b[0;34m(\u001b[0m\u001b[0;34m\" \"\u001b[0m\u001b[0;34m.\u001b[0m\u001b[0mjoin\u001b[0m\u001b[0;34m(\u001b[0m\u001b[0mt\u001b[0m\u001b[0;34m[\u001b[0m\u001b[0;36m3\u001b[0m\u001b[0;34m]\u001b[0m\u001b[0;34m)\u001b[0m\u001b[0;34m)\u001b[0m \u001b[0;34m+\u001b[0m \u001b[0;34m\"\\\\\\\\\"\u001b[0m\u001b[0;34m\u001b[0m\u001b[0m\n\u001b[0m\u001b[1;32m     12\u001b[0m     \u001b[0;32mreturn\u001b[0m \u001b[0;34m\"\\n\"\u001b[0m\u001b[0;34m.\u001b[0m\u001b[0mjoin\u001b[0m\u001b[0;34m(\u001b[0m\u001b[0;34m[\u001b[0m\u001b[0mn1\u001b[0m\u001b[0;34m,\u001b[0m \u001b[0mdesc\u001b[0m\u001b[0;34m,\u001b[0m \u001b[0mpred\u001b[0m\u001b[0;34m]\u001b[0m\u001b[0;34m)\u001b[0m\u001b[0;34m\u001b[0m\u001b[0m\n\u001b[1;32m     13\u001b[0m \u001b[0;34m\u001b[0m\u001b[0m\n",
      "\u001b[0;31mIndexError\u001b[0m: list index out of range"
     ]
    },
    {
     "data": {
      "image/png": "[encoded data removed]",
      "text/plain": [
       "<Figure size 720x360 with 1 Axes>"
      ]
     },
     "metadata": {},
     "output_type": "display_data"
    }
   ],
   "source": [
    "plot_attentions([i[2:3,:] for i in REPORT_PLOT_DATA[:-1]] + [REPORT_PLOT_DATA[-1][2]], 1, figsize=(10,5))\n"
   ]
  },
  {
   "cell_type": "markdown",
   "metadata": {},
   "source": [
    "# Rote Learner"
   ]
  },
  {
   "cell_type": "code",
   "execution_count": 9,
   "metadata": {},
   "outputs": [],
   "source": [
    "from nltk.translate.bleu_score import sentence_bleu\n",
    "def latex_translation(t):\n",
    "    to_tex = lambda  s:s.replace(\"<\", \"$<$\").replace(\">\", \"$>$\").replace(\"_\",\"\\\\_\")\n",
    "    split = 25\n",
    "    n1 = t[0][:split]\n",
    "    n1 = \"\\\\textbf{Argument}: \\mintinline[]{python}{\" + to_tex(\" \".join(n1)) + \"}\"\n",
    "    if len(t[0]) > split:\n",
    "        n1 += \"...\\\\\\\\\\n...\\mintinline[]{python}{\"+to_tex(\" \".join(t[0][split:])) + \"}\"\n",
    "    n1 += \"\\\\\\\\\"\n",
    "    desc = \"\\\\textbf{D}: \" + to_tex(\" \".join(t[1])) + \"\\\\\\\\\"\n",
    "    pred = \"\\\\textbf{P}: \" + to_tex(\" \".join(t[3])) + \"\\\\\\\\\"\n",
    "    return \"\\n\".join([n1, desc, pred])\n",
    "\n",
    "    \n",
    "def get_bleu_from_translation(HB, hb_trans, chop_tokens=True):\n",
    "    \n",
    "    if chop_tokens:\n",
    "        bleu_scores = [sent_bleu([t.description], t.translation[1:-1]) for t in hb_trans]\n",
    "    else:\n",
    "        bleu_scores = [sent_bleu([t.description], t.translation) for t in hb_trans]\n",
    "        \n",
    "    return bleu_scores\n",
    "\n",
    "def get_sentence_samples(bleu_scores, translations, max_no):\n",
    "    bleu_points = [0,0,0,1,3,5,7,9,10,10,]\n",
    "    \n",
    "    print(\"\\\\begin{table}\\n\\\\begin{center}\\n\\\\begin{tabular}{l}\\n\")\n",
    "    print(\"\\nA Random Sample of Bleu Scores \\\\\\\\ \\n\\n \")\n",
    "    \n",
    "    for i, b, h in zip(range(max_no),bleu_scores, translations):\n",
    "        print(\"\\\\textbf{B}:\"+\" {:.3f}\".format(b))\n",
    "        print(\"\\\\textbf{C}:\"+ \" {:.1f}%  \\\\\\\\\".format(100/h.choices))\n",
    "        print(latex_translation(h))\n",
    "        print(\"\\\\\\\\\")\n",
    "    \n",
    "    print(\"\\\\hline\\\\\\\\\\\\\\\\\")\n",
    "    greater_than_point5 = [(b,t) for b,t in zip(bleu_scores, translations) if b>0.001]\n",
    "    \n",
    "    print(\"\\n\\nA Random Sample of Bleu Scores $>0.5$ \\\\\\\\\\\\\\\\ \\n\\n\")\n",
    "    for i, (b, h )in zip(range(3),greater_than_point5):\n",
    "        print(\"\\\\textbf{B}:\"+\" {:.3f}\".format(b))\n",
    "        print(\"\\\\textbf{C}:\"+ \" {:.1f}%  \\\\\\\\\".format(100/h.choices))\n",
    "        print(latex_translation(h))\n",
    "        print()\n",
    "    \n",
    "    print(\"\\end{tabular}\\n\\end{center}\\n\\end{table}\\n\")\n",
    "    \n",
    "\n",
    "def sent_bleu(r, t):\n",
    "    return sentence_bleu(r, t, weights=(0.25,0.25,0.25,0.25))\n",
    "\n",
    "def score_bleu_individually(all_trans, all_attn, references, nn):\n",
    "    flat_trans = [row for m in all_trans for row in m]\n",
    "    flat_attn = [row for m in all_attn for row in m]\n",
    "\n",
    "    flat_full_translations = [nn.translate(i, do_join=False, prepend_tok=nn.word2idx[\"<START>\"])[1:-1] \n",
    "                              for i in flat_trans]\n",
    "    bleu_scores = [sent_bleu([r], t) for r,t in zip(references, flat_full_translations)]\n",
    "    return bleu_scores\n",
    "\n",
    "\n",
    "def plot_hist_2(data_and_labels):\n",
    "    fig, ax = plt.subplots(1, figsize=(10,5))\n",
    "    for x,l,a in data_and_labels:\n",
    "        ax.hist(x, bins=50, alpha=a, label=l)\n",
    "    ax.set_title(\"Histogram of Sentence Level Bleu Scores on Validation Set\", fontsize=20)\n",
    "    for tick in ax.xaxis.get_major_ticks():\n",
    "        tick.label.set_fontsize(14) \n",
    "    for tick in ax.yaxis.get_major_ticks():\n",
    "        tick.label.set_fontsize(14) \n",
    "    ax.set_ylabel(\"Counts\", fontsize=18)\n",
    "    ax.set_xlabel(\"Sentence Bleu Score\", fontsize=16)\n",
    "    ax.legend(fontsize = 'xx-large')\n",
    "    plt.yscale('log')\n",
    "    plt.show()"
   ]
  },
  {
   "cell_type": "code",
   "execution_count": 10,
   "metadata": {},
   "outputs": [],
   "source": [
    "from project.models.hashtable_baseline import HashtableBaseline, _run_model\n",
    "\n",
    "# HB.train(data_tuple.train)\n",
    "\n",
    "def load_baseline(load_dir,mode):\n",
    "    with open(load_dir['logdir']+'/args.pkl', 'rb') as f:\n",
    "        args = pickle.load(f)\n",
    "        args['code_mode'] = [mode]\n",
    "        args['n_times'] = 1\n",
    "        args['logfile'] = load_dir['logdir']+'/hashtable_main'\n",
    "        \n",
    "        if \"path_seq\" not in args:\n",
    "            args[\"path_seq\"] = 5000 #Defaults\n",
    "            args[\"path_vocab\"] = 10000\n",
    "            args[\"path_embed\"] = 200\n",
    "            args[\"vec_sized\"] = 300\n",
    "    return _run_model(**args)"
   ]
  },
  {
   "cell_type": "code",
   "execution_count": 11,
   "metadata": {},
   "outputs": [
    {
     "name": "stdout",
     "output_type": "stream",
     "text": [
      "Loading GloVe weights and word to index lookup table\n"
     ]
    },
    {
     "name": "stderr",
     "output_type": "stream",
     "text": [
      "400000it [00:07, 55528.44it/s]\n",
      "  0%|          | 0/15687 [00:00<?, ?it/s]"
     ]
    },
    {
     "name": "stdout",
     "output_type": "stream",
     "text": [
      "\n",
      "------------------------------------------------------\n",
      "------------------------------------------------------\n",
      "MODEL: HashtableBaseline\n",
      "Name: Hashtable Model\n",
      "\n",
      "Args: code_mode: none, code_only: False\n",
      "------------------------------------------------------\n",
      "ARGS:\n",
      "batch_size : 128\n",
      "bidirectional : True\n",
      "char_seq : 120\n",
      "code_mode : ['none']\n",
      "code_tokenizer : code2vec\n",
      "desc_embed : 200\n",
      "desc_seq : 120\n",
      "dropout : 0.1\n",
      "epochs : 150\n",
      "git : b\"'dc5139d'\"\n",
      "learning_rate : 0.001\n",
      "logdir : logs\n",
      "logfile : logs/reboot_second_var_only/hashtable_main\n",
      "lstm_size : 300\n",
      "n_times : 1\n",
      "name : new_attention_second_experiment__var_only\n",
      "no_dups : 1\n",
      "path_embed : 200\n",
      "path_seq : 5000\n",
      "path_vocab : 10000\n",
      "save_every : 1\n",
      "test_freq : 200\n",
      "test_translate : 5\n",
      "tokenizer : var_only\n",
      "use_attention : True\n",
      "use_full_dataset : True\n",
      "use_split_dataset : False\n",
      "vec_sized : 300\n",
      "vocab_size : 40000\n",
      "------------------------------------------------------\n",
      "------------------------------------------------------\n",
      "\n"
     ]
    },
    {
     "name": "stderr",
     "output_type": "stream",
     "text": [
      "                                                        \r"
     ]
    },
    {
     "name": "stdout",
     "output_type": "stream",
     "text": [
      "8.971247814425704\n",
      "----- 1 -----\n",
      "VALID  8.97125 +/-  0.00000   TEST  10.99470 +/-  0.00000 \n",
      "      & $ 8.97125 \\pm  0.00000 $ & $ 10.99470 \\pm 0.00000 $ &\n"
     ]
    },
    {
     "name": "stderr",
     "output_type": "stream",
     "text": [
      "                                        "
     ]
    },
    {
     "name": "stdout",
     "output_type": "stream",
     "text": [
      "Mode: none,  Score 8.97125 +/- 0.00000\n"
     ]
    },
    {
     "name": "stderr",
     "output_type": "stream",
     "text": [
      "\r"
     ]
    }
   ],
   "source": [
    "import pickle\n",
    "# load_dirRL = {\"logdir\":\"logs/new_attention_fourfive_c2v_solo_canond0.1/best_bleu\", \"mode\":\"RETURN\"}\n",
    "\n",
    "# load_dirRL = {\"logdir\":\"logs/new_attention_second_experiment__var_otherargs_1808_200101/best_bleu\", \"mode\":\"RETURN\"}\n",
    "# load_dirRL = {\"logdir\":\"logs/second_experiment_70dim/second_experiment__var_only_0808_102118/\", \"mode\":\"RETURN\"}\n",
    "\n",
    "\n",
    "\n",
    "HB_combined, d_combined = load_baseline(load_dir,\"none\")\n",
    "hb_trans_combined = HB_combined.test(d_combined[1])"
   ]
  },
  {
   "cell_type": "code",
   "execution_count": 60,
   "metadata": {},
   "outputs": [
    {
     "name": "stderr",
     "output_type": "stream",
     "text": [
      "                                                      "
     ]
    },
    {
     "name": "stdout",
     "output_type": "stream",
     "text": [
      "0.40292759186936566 0.0 ['name', 'of', 'the', 'variable', 'to', 'return', '.']\n",
      "0\n"
     ]
    },
    {
     "name": "stderr",
     "output_type": "stream",
     "text": [
      "/home/ehambro/anaconda3/lib/python3.6/site-packages/nltk/translate/bleu_score.py:503: UserWarning: \n",
      "The hypothesis contains 0 counts of 3-gram overlaps.\n",
      "Therefore the BLEU score evaluates to 0, independently of\n",
      "how many N-gram overlaps of lower order it contains.\n",
      "Consider using lower n-gram order or use SmoothingFunction()\n",
      "  warnings.warn(_msg)\n",
      "/home/ehambro/anaconda3/lib/python3.6/site-packages/nltk/translate/bleu_score.py:503: UserWarning: \n",
      "The hypothesis contains 0 counts of 4-gram overlaps.\n",
      "Therefore the BLEU score evaluates to 0, independently of\n",
      "how many N-gram overlaps of lower order it contains.\n",
      "Consider using lower n-gram order or use SmoothingFunction()\n",
      "  warnings.warn(_msg)\n",
      "/home/ehambro/anaconda3/lib/python3.6/site-packages/nltk/translate/bleu_score.py:503: UserWarning: \n",
      "The hypothesis contains 0 counts of 2-gram overlaps.\n",
      "Therefore the BLEU score evaluates to 0, independently of\n",
      "how many N-gram overlaps of lower order it contains.\n",
      "Consider using lower n-gram order or use SmoothingFunction()\n",
      "  warnings.warn(_msg)\n",
      "                                        \r"
     ]
    },
    {
     "name": "stdout",
     "output_type": "stream",
     "text": [
      "0.006484082299914484 0.006171655665750054\n"
     ]
    }
   ],
   "source": [
    "i = 0\n",
    "lens = []\n",
    "bs = []\n",
    "\n",
    "for b,t in zip(bs_s2s, RESULTS[-1]):\n",
    "    if \"name<END>\" == t.name:\n",
    "        bs.append(b)\n",
    "        T = t.translation\n",
    "\n",
    "print(np.mean(b), np.std(b), T)\n",
    "print(i)\n",
    "# print(np.mean(lens))\n",
    "\n",
    "i = 0\n",
    "lens = []\n",
    "bs = []\n",
    "for b,t in zip(bs_rl_comb,hb_trans_combined):\n",
    "    if \"name\" == t.name:\n",
    "#         print(t)\n",
    "        i += 1\n",
    "        bs.append(b)\n",
    "        \n",
    "    if b > 0.00000000000000001:\n",
    "        lens.append(len(t.translation))\n",
    "# print(np.mean(b), i)\n",
    "\n",
    "# print(np.mean(lens))\n",
    "\n",
    "def test___name__():\n",
    "    all_bs =[]\n",
    "    for i in range(50):\n",
    "        random.seed(i)\n",
    "        hb_trans_combined = HB_combined.test(d_combined[1])\n",
    "        bs = get_bleu_from_translation(HB_combined, hb_trans_combined)\n",
    "        name_bs =[]\n",
    "        for b,t in zip(bs,hb_trans_combined):\n",
    "            if \"name\" == t.name:\n",
    "                name_bs.append(b)\n",
    "        all_bs.append(np.mean(name_bs))\n",
    "    return np.mean(all_bs), np.std(all_bs), all_bs\n",
    "        \n",
    "mean, std, all_bs = test___name__()\n",
    "print(mean, std)"
   ]
  },
  {
   "cell_type": "code",
   "execution_count": 52,
   "metadata": {},
   "outputs": [
    {
     "data": {
      "text/plain": [
       "[' The name of a required header.',\n",
       " ' String, name for the variable to create.',\n",
       " ' the name of the keyword argument (should always be \"message_extractors\")',\n",
       " ' An optional name for the variable_scope that contains the metric variables.',\n",
       " ' Name of the variable.',\n",
       " ' Add the Series name if not None',\n",
       " ' ``projects/{project_id}/transferConfigs/{config_id}``',\n",
       " ' Optional name of the op.',\n",
       " ' Optional name for the accumulator.',\n",
       " ' the name of the command to use unless a group overrides it.',\n",
       " ' Name of the node attribute to set if values is a scalar.',\n",
       " ' the name of the data type to look for in *conn_or_curs*',\n",
       " ' Name of the dataset (`name`.csv on https://github.com/mwaskom/seaborn-data).  You can obtain list of available datasets using :func:`get_dataset_names`',\n",
       " ' ``projects/{project_id}/transferConfigs/{config_id}/runs/{run_id}``',\n",
       " ' Optional name for the returned tensor.',\n",
       " ' A name for the generated node. Will also serve as the series name in TensorBoard.',\n",
       " ' name of the property to search for',\n",
       " ' the name of the sink to be constructed.',\n",
       " ' A name for the variable.',\n",
       " ' The passed name should substitute for the series name (if it has one).',\n",
       " ' name of the entry',\n",
       " ' A name for the operation (optional)',\n",
       " \" 'AvgPool2D'.\",\n",
       " ' `str`. Optional name prefix for the operations created when applying gradients. Defaults to \"RMSProp\".',\n",
       " ' Optional name for the resulting operation.',\n",
       " ' \"sequence_loss_by_example\".',\n",
       " ' A name for the operation. Defaults to \"range\".',\n",
       " ' Value name to find.',\n",
       " ' The key for the collection. The `GraphKeys` class contains many standard names for collections.',\n",
       " \" (Optional.) A name prefix to used when a new `Tensor` is created, in which case element `i` will be given the name `name + '_' + i`.\",\n",
       " \" 'Conv2DTranspose'.\",\n",
       " ' (Optional.) A name for queue.',\n",
       " ' Namespace to embed the computation in.',\n",
       " \" String. Optional name of the operation.  Defaults to 'SGDRDecay'.\",\n",
       " ' Name of the tool',\n",
       " ' A name for the generated node. If display_name is not set, it will also serve as the tag name in TensorBoard. (In that case, the tag name will inherit tf name scopes.)',\n",
       " ' optional alias name',\n",
       " ' A name for this Op.  Defaults to \"auc_using_histogram\".',\n",
       " ' String, the name of the layer.',\n",
       " ' A name for this operation (optional).  Defaults to \"assert_rank\".',\n",
       " ' A name scope for the operation.',\n",
       " ' the name of the metric to be constructed.',\n",
       " ' ``projects/{project_id}/databases/{database_id}/indexes/{index_id}``',\n",
       " \" 'HighwayConv1D'.\",\n",
       " ' The name to find definitions for.',\n",
       " ' the name of the record set.',\n",
       " ' Name of the zone.',\n",
       " \" A name for this layer's placeholder scope.\",\n",
       " ' Optional. Name of the project where the spans belong. The format is ``projects/PROJECT_ID``.',\n",
       " ' The name of the flag.',\n",
       " ' string, optional name of the operation.',\n",
       " ' the locale identifier string (or \"root\")',\n",
       " ' The name of this routine in the generated code.',\n",
       " \" 'Conv2D'.\",\n",
       " ' A name for this `Op`.',\n",
       " ' Name of the variable to return.',\n",
       " ' A name to give created ops. Defaults to \"matrix_diag_transform\".',\n",
       " ' Shared name for this SummaryWriter resource stored to default Graph.',\n",
       " ' (Optional.) A prefix that will be prepended to the names in `graph_def`. Note that this does not apply to imported function names. Defaults to `\"import\"`.',\n",
       " ' An optional name for this op.',\n",
       " ' Optional name of the returned operation. Defaults to \"WeightedMovingAvg\".',\n",
       " ' The object to lookup',\n",
       " ' A name for this operation (optional).  Defaults to \"assert_less_equal\"',\n",
       " ' The attribute to look for.',\n",
       " ' the name of the command.  This defaults to the function name.',\n",
       " ' name of method on class instance',\n",
       " ' string, name of the tensor.',\n",
       " ' Name to use for the slot variable.',\n",
       " ' A string, for the name of the export strategy.',\n",
       " ' `str`. Optional name prefix for the operations created when applying gradients. Defaults to \"Adam\".',\n",
       " ' The name to use when defining variables and ops.',\n",
       " ' Name of the hyperparameter.',\n",
       " ' The name of the operation resource to be cancelled.',\n",
       " ' A name for this `Op`.  Defaults to \"eye\".',\n",
       " ' name to give to the op',\n",
       " \" 'AvgPool1D'.\",\n",
       " ' A name for the operation (optional).  If not specified \"nn_relu_layer\" is used.',\n",
       " ' the name of the locale.',\n",
       " ' |ASN.1| type component name',\n",
       " ' ``projects/{project_id}/dataSources/{data_source_id}``',\n",
       " ' A name of the attributes to save.',\n",
       " ' ID of the instance configuration',\n",
       " ' the name of the logger to be constructed.',\n",
       " ' A string name for the foldr node in the graph',\n",
       " ' the name of the logger.',\n",
       " ' string, method name.',\n",
       " ' An IANA-style time zone name, as found in the zoneinfo file.',\n",
       " ' The name of this request field.',\n",
       " ' String name to use for the checkpoint and rewards files.',\n",
       " ' Required. The name of the requested database. Values are of the form ``projects/<project>/instances/<instance>/databases/<database>``.',\n",
       " ' Name used to scope the operations that compute the moments.',\n",
       " ' A name for this operation (optional).  Defaults to \"is_non_decreasing\"',\n",
       " ' The name of the attr to fetch.',\n",
       " \" A string. Optional name of the operation. Defaults to 'PiecewiseConstant'.\",\n",
       " ' the name given to it.',\n",
       " ' Name of array in dask',\n",
       " \" bytes|unicode, the Linux kernel's command name to set.\",\n",
       " ' the full name for this configuration variable.',\n",
       " ' `String` name to prepend to created ops.',\n",
       " ' A name to give this `Op` (optional).',\n",
       " ' A name to give this `Op`.  Defaults to \"assert_type\"',\n",
       " ' Only show images belonging to the repository ``name``',\n",
       " ' A name for this operation (optional).  Defaults to \"assert_near\".',\n",
       " \" String.  Optional name of the operation.  Defaults to 'LinearCosineDecay'.\",\n",
       " ' The name of the deprecated object.',\n",
       " ' Name (id) of the tool triggered from within the container',\n",
       " ' name of the manifest file to embed',\n",
       " ' the name of the logger',\n",
       " ' A name scope to use for ops added by this method.',\n",
       " ' ``projects/{project_id}/databases/{database_id}/documents/{document_path}``.',\n",
       " ' (OPTIONAL) str or None. Unique name for this loss function. If None, a new name is generated. (Default: None)',\n",
       " ' Gives the name to the evauation for the case multiple evaluation is run for the same experiment.',\n",
       " ' Name of the op and of the new `Tensor` if one is created.',\n",
       " ' the name of the sink',\n",
       " ' The name of the subscription. It must have the format ``\"projects/{project}/subscriptions/{subscription}\"``. ``{subscription}`` must start with a letter, and contain only letters (``[A-Za-z]``), numbers (``[0-9]``), dashes (``-``), underscores (``_``), periods (``.``), tildes (``~``), plus (``+``) or percent signs (``%``). It must be between 3 and 255 characters in length, and it must not start with ``\"goog\"``.',\n",
       " ' Optional name prefix for the returned tensors.',\n",
       " ' Name of plugin.',\n",
       " ' The name of the local that will be altered by the given child node.',\n",
       " ' Operation name.',\n",
       " ' variable name.',\n",
       " \" 'FullyConnectedHighway'.\",\n",
       " ' The name of the argument being validated, e.g. \"strides\" or \"kernel_size\". This is only used to format error messages.',\n",
       " ' Optional name prefix for the operations created when applying gradients.  Defaults to \"Adadelta\".',\n",
       " ' A name for this operation (optional).  Defaults to \"assert_greater\".',\n",
       " ' (Optional) Name of the query parameter.',\n",
       " \" Optional name to use for grouping all the gradient ops together. defaults to 'gradients'.\",\n",
       " ' name of the attribute to set',\n",
       " ' Optional name prefix when using tf.cond',\n",
       " ' the month name or abbreviation.',\n",
       " ' The OpenSSL short name identifying the curve object to retrieve.',\n",
       " \" 'Conv1D'.\",\n",
       " ' name to prepend ops with.',\n",
       " ' The name of the backend to use.  If `None`, falls back to ``matplotlib.get_backend()`` (which return :rc:`backend`).',\n",
       " ' name for the resource-checking op.',\n",
       " ' The name for this operation is used to name operations and to find variables. If specified it must be unique for this scope, otherwise a unique name starting with \"fully_connected\" will be created.  See `tf.variable_scope` for details.',\n",
       " ' Name of the dataset to load.',\n",
       " ' A name for the returned op.',\n",
       " ' The \"resource name\" of the monitored resource descriptor: ``\"projects/<project_id>/monitoredResourceDescriptors/<type>\"``',\n",
       " ' The name of the bucket. Bucket names must start and end with a number or letter.',\n",
       " ' Name of the volume.  If not specified, the engine generates a name.',\n",
       " ' The variable scope to provide to W and biases.',\n",
       " ' A name for the ensemble variable.',\n",
       " ' String, the name for the weight variable.',\n",
       " ' An optional string specifying the registry key for the candidate. If None, candidate.__name__ will be used.',\n",
       " ' String.  Optional name to use as a prefix when adding operations.',\n",
       " ' optional string name indicating the target table name. If not specified or None, the table name is retained.  This allows a :class:`.Table` to be copied to the same :class:`.MetaData` target with a new name.',\n",
       " ' Log name',\n",
       " ' A name for this operation (optional).  Defaults to \"assert_greater_equal\"',\n",
       " ' str the name of the created function',\n",
       " \" String.  Optional name of the operation.  Defaults to 'NoisyLinearCosineDecay'.\",\n",
       " ' The name/identifier for the submodule',\n",
       " \" the name of the stream to open.  Valid names are ``'stdin'``, ``'stdout'`` and ``'stderr'``\",\n",
       " '`None` to unset.',\n",
       " ' The name of the variable.  This corresponds to the unique path of the variable in the config.',\n",
       " ' name of a data source field to reference for a ``DataSpec`` property.',\n",
       " ' \"masked_autoregressive_default_template\".',\n",
       " ' The name for the reversed colormap. If it\\'s None the name will be the name of the parent colormap + \"_r\".',\n",
       " ' Filename for the graph.',\n",
       " ' string, Name of schema in the discovery document.',\n",
       " ' Required. The name of the session to delete.',\n",
       " \" the name of the custom log in Stackdriver Logging. Defaults to 'python'. The name of the Python logger will be represented in the ``python_logger`` field.\",\n",
       " ' A name for this operation (optional).  Defaults to \"assert_less\".',\n",
       " \" String.  Optional name of the operation.  Defaults to 'InverseTimeDecay'.\",\n",
       " ' string or a list of string, name of the tensor.',\n",
       " ' Python string. A name for the operation (default=\"log_ndtr\").',\n",
       " ' This is used as the name of the exchange.',\n",
       " ' the optional name of the global, otherwise the function name will be used.',\n",
       " \" 'MaxPool3D'.\",\n",
       " ' The name of the query parameter to remove.',\n",
       " ' A `string` name.',\n",
       " ' (str) name of the graph element (Tensor or Operation)',\n",
       " ' A string name for the foldl node in the graph',\n",
       " ' Name of the layer (string).',\n",
       " ' The library name.',\n",
       " ' The name to use for the operation.',\n",
       " ' Name of the model that will be used on the images, checkpoint, and .npz files.',\n",
       " ' optional name for this operation.',\n",
       " ' A name for this operation (optional). Defaults to \"assert_non_positive\".',\n",
       " ' Required. The name of the requested instance configuration. Values are of the form ``projects/<project>/instanceConfigs/<config>``.',\n",
       " ' The name of the `Tensor` to return.',\n",
       " ' Name of the device or None to get default placement.',\n",
       " ' The variable name to find values for.',\n",
       " ' Filename appended to self.root',\n",
       " \" 'DeepBottleneck'.\",\n",
       " ' (optional) Override the BenchmarkEntry name with `name`. Otherwise it is inferred from the top-level method name.',\n",
       " \" 'ResNeXtBlock'.\",\n",
       " ' The name to check for.',\n",
       " \" 'MaxPool1D'.\",\n",
       " ' Name of the Sentinel',\n",
       " ' The name of the argument whose value is being inferred.',\n",
       " ' Name used to scope the operations that compute the sufficient stats.',\n",
       " ' The display name of the project.',\n",
       " ' (Optional) The \"resource name\" of the metric descriptor. For example: ``\"projects/<project_id>/metricDescriptors/<type>\"``. As retrieved from the service, this will always be specified. You can and should omit it when constructing an instance for the purpose of creating a new metric descriptor.',\n",
       " ' Check if `fn` can be called with `name` as a keyword argument.',\n",
       " ' (optional) A name to use as a `name_scope` for the operation.',\n",
       " \" String.  Optional name of the operation.  Defaults to 'ExponentialDecay'.\",\n",
       " ' Name of the device (see context().devices()), or None to perform automatic placement.',\n",
       " ' the name of the metric',\n",
       " ' None or string. Name of Op.',\n",
       " ' The name of a trait of this class. If name is ``None`` then all the event handlers of this class will be returned instead.',\n",
       " ' optional name to use for the variable op.',\n",
       " \" String. Optional name of the operation.  Defaults to 'CosineDecay'.\",\n",
       " ' A name for prefixing the operations (optional).',\n",
       " ' Optional name for this operation, defaults to \"sequence_loss\".',\n",
       " ' The name of the symbol that is to be used instead of the deprecated name. This should be a fully qualified name to avoid confusion.',\n",
       " ' Optional prefix for ops created by this function.',\n",
       " ' A name for this operation (optional). Defaults to \"assert_non_negative\".',\n",
       " ' The name that is being defined.',\n",
       " ' (string) Current constant name.',\n",
       " \" Optional; variable_scope name. If not provided, the string 'precision_recall_at_equal_threshold' is used.\",\n",
       " \" String.  Optional name of the operation.  Defaults to 'ExponentialTimeDecay'.\",\n",
       " ' Name to use as prefix for summaries.',\n",
       " ' (Optional.) A name to use if a new `Tensor` is created.',\n",
       " ' A name for this operation (optional).  Defaults to \"assert_positive\".',\n",
       " 'latest`` tag is optional, and is the default if omitted.',\n",
       " ' A name for this operation (optional).  Defaults to \"assert_negative\".',\n",
       " ' string. Optional name of the created op.',\n",
       " ' the name of the field',\n",
       " ' The name of the parameter, a string expected to be ASCII only.',\n",
       " ' A name for the scope of the operations (optional).',\n",
       " ' the name of the zone',\n",
       " \" 'Merge'.\",\n",
       " ' The name of the variable to infer.',\n",
       " ' An optional name for the plugin.',\n",
       " ' Name of the record set.',\n",
       " ' An optional op name.',\n",
       " ' Set explicit name for this blueprint.',\n",
       " ' name of zip entry',\n",
       " ' `str`. Optional name prefix for the operations created when applying gradients. Defaults to \"Momentum\".',\n",
       " ' The name of the scope for the variables.',\n",
       " \" 'AvgPool3D'.\",\n",
       " ' Python `str` used to describe ops managed by this function.',\n",
       " ' A name to help users identify what this function does.',\n",
       " ' A name for this operation (optional).  Defaults to \"assert_integer\".',\n",
       " ' The name of the operation collection.',\n",
       " ' str, the name of a flag.',\n",
       " ' An optional string name to use for this Network.',\n",
       " ' A `name_scope` for operations created by this function. Default value: `None` (which implies \"expectation\").',\n",
       " \" 'Embedding'.\",\n",
       " ' Name of this categorical variable.',\n",
       " ' string (optional).  The name scope for newly created ops.',\n",
       " ' The name of the variable to find assignments for.',\n",
       " ' The name of the saver.',\n",
       " ' If None, the handler will apply to all traits.  If a list of str, handler will apply to all names in the list.  If a str, the handler will apply just to that name.',\n",
       " ' Parameter name, used via ``@foo`` syntax.  If None, the parameter can only be addressed via position (``?``).',\n",
       " ' The str name of the Trait on the object whose default should be generated.',\n",
       " ' The name of the output `Tensor`.',\n",
       " ' A name to give this `Op`.  Defaults to `logdet`.',\n",
       " ' Name for the operation (optional).',\n",
       " ' (Optional) A name for this operation.',\n",
       " ' The name of the returned tensor.',\n",
       " ' Name of file or collection of lines',\n",
       " ' Name of the tensor to return.',\n",
       " ' Required. The name of the instance to be deleted. Values are of the form ``projects/<project>/instances/<instance>``',\n",
       " ' the name of the aggregation. It should be unique, since intermediate result will be identified by this name.',\n",
       " ' the name of the operation.',\n",
       " ' The name of the returned namedtuples or None to return regular tuples.',\n",
       " ' Required. The name of the requested instance. Values are of the form ``projects/<project>/instances/<instance>``.',\n",
       " ' A name of the attributes to load.',\n",
       " ' Required. The name of the session to retrieve.',\n",
       " ' The namespace this will be accessed under, e.g. ``df.foo``',\n",
       " ' A name for the generated summary node.',\n",
       " ' `str`. The optimizer name.',\n",
       " ' string, name of the API.',\n",
       " ' Name of the queue/or a queue.',\n",
       " ' the name of the node to return',\n",
       " \" 'MaxPool2D'.\",\n",
       " ' String matching one of the names of a contained `Layer`. Note that the names of `Layer`s added to `Network`s may not be unique when doing layer sharing (i.e. adding a `Layer` to this `Network` which was already added to another `Network`). The lowest index `Layer` with a matching name will be returned.',\n",
       " ' The name of the deprecated object; if not provided the name is automatically determined from the passed in object, though this is useful in the case of renamed functions, where the new function is just assigned to the name of the deprecated function.  For example::',\n",
       " \" 'FullyConnected'.\",\n",
       " ' String, name of returned Keras variable',\n",
       " ' `str`. A name for this class (optional).',\n",
       " ' Python string. A name for the operation (default=\"ndtri\").',\n",
       " '\\\\`name`.',\n",
       " \" name of the ops; will become `name + '_ac'` for the activation and `name + '_bn'` for the batch norm layer.\",\n",
       " ' Optional name to use if a new Tensor is created.',\n",
       " ' Optional name of the `Operation`.',\n",
       " ' `str`. Optional name prefix for the operations created when applying gradients. Defaults to \"GradientDescent\".',\n",
       " ' The name of the plugin.',\n",
       " ' The key prefix that specifies which keys in the dask comprise this particular DataFrame',\n",
       " ' Name of the instrument.',\n",
       " ' str. Name of op.',\n",
       " \" 'OneHotEncoding'.\",\n",
       " ' Name of the edge attribute to set if values is a scalar.',\n",
       " ' Name of option to look up.',\n",
       " \" 'Linear'.\",\n",
       " ' string or None. Name scope for newly added ops.',\n",
       " ' A byte string giving the name.',\n",
       " ' A name for the operation (optional).  If not specified \"xw_plus_b_v1\" is used.',\n",
       " ' The name of the query parameter to add. The part before the ``=``.',\n",
       " ' Optional name string for the tensor.',\n",
       " ' name to filter by',\n",
       " ' A name for this operation (optional). Defaults to \"assert_none_equal\".',\n",
       " ' Python `str` name prefixed to Ops created by this function.',\n",
       " ' Name of the palette. This should be a named matplotlib colormap.',\n",
       " ' str, name of the dataset to generate',\n",
       " ' None or str. Name for Op.',\n",
       " ' name of the table.',\n",
       " ' The name of the query parameter to set. The part before the ``=``.',\n",
       " ' None or str. Name of Op.',\n",
       " ' The name of the `Operation` to return.',\n",
       " ' the section name that is written as heading.',\n",
       " \" 'ShallowBottleneck'.\",\n",
       " ' An op name string (optional).',\n",
       " ' name to give to the op.',\n",
       " ' Full module name.',\n",
       " ' The name to use for the assignment.',\n",
       " ' name prefix for ops created by this function',\n",
       " ' Prepended to summary scope.',\n",
       " ' A name for the scope.',\n",
       " ' The file name to find.',\n",
       " ' A name for this operation (optional).  Defaults to \"assert_equal\".',\n",
       " ' Name to use when creating ops.',\n",
       " ' An input node name (e.g., \"node_a\") or tensor name (e.g., \"node_a:0\"), as a str.',\n",
       " ' Name of the evaluation if user needs to run multiple evaluations on different data sets, such as on training data vs test data. Metrics for different evaluations are saved in separate folders, and appear separately in tensorboard.',\n",
       " ' type or class to abbreviate.',\n",
       " ' A name for the operation (optional). If not specified \"erosion2d\" is used.',\n",
       " ' A name for the operation (optional).  If not specified \"xw_plus_b\" is used.']"
      ]
     },
     "execution_count": 52,
     "metadata": {},
     "output_type": "execute_result"
    }
   ],
   "source": [
    "[d['arg_desc'] for d in d_combined[0] if d['arg_name']=='name']\n",
    "\n"
   ]
  },
  {
   "cell_type": "code",
   "execution_count": 14,
   "metadata": {},
   "outputs": [
    {
     "name": "stderr",
     "output_type": "stream",
     "text": [
      "/home/ehambro/anaconda3/lib/python3.6/site-packages/nltk/translate/bleu_score.py:503: UserWarning: \n",
      "The hypothesis contains 0 counts of 3-gram overlaps.\n",
      "Therefore the BLEU score evaluates to 0, independently of\n",
      "how many N-gram overlaps of lower order it contains.\n",
      "Consider using lower n-gram order or use SmoothingFunction()\n",
      "  warnings.warn(_msg)\n",
      "/home/ehambro/anaconda3/lib/python3.6/site-packages/nltk/translate/bleu_score.py:503: UserWarning: \n",
      "The hypothesis contains 0 counts of 4-gram overlaps.\n",
      "Therefore the BLEU score evaluates to 0, independently of\n",
      "how many N-gram overlaps of lower order it contains.\n",
      "Consider using lower n-gram order or use SmoothingFunction()\n",
      "  warnings.warn(_msg)\n",
      "/home/ehambro/anaconda3/lib/python3.6/site-packages/nltk/translate/bleu_score.py:503: UserWarning: \n",
      "The hypothesis contains 0 counts of 2-gram overlaps.\n",
      "Therefore the BLEU score evaluates to 0, independently of\n",
      "how many N-gram overlaps of lower order it contains.\n",
      "Consider using lower n-gram order or use SmoothingFunction()\n",
      "  warnings.warn(_msg)\n"
     ]
    },
    {
     "name": "stdout",
     "output_type": "stream",
     "text": [
      "\\begin{table}\n",
      "\\begin{center}\n",
      "\\begin{tabular}{l}\n",
      "\n",
      "\n",
      "A Random Sample of Bleu Scores \\\\ \n",
      "\n",
      " \n",
      "\\textbf{B}: 0.000\n",
      "\\textbf{C}: 25.0%  \\\\\n",
      "\\textbf{Argument}: \\mintinline[]{python}{k e y \\_ i d}\\\\\n",
      "\\textbf{D}: optional key id used to identify this private key . this can be useful to associate the private key with its associated public key or certificate .\\\\\n",
      "\\textbf{P}: $<$START$>$ $<$UNK$>$ access key id $<$END$>$\\\\\n",
      "\\\\\n",
      "\\textbf{B}: 0.000\n",
      "\\textbf{C}: 0.3%  \\\\\n",
      "\\textbf{Argument}: \\mintinline[]{python}{o u t}\\\\\n",
      "\\textbf{D}: if none , a new array is allocated .\\\\\n",
      "\\textbf{P}: $<$START$>$ a ` tensor ` of type ` $<$UNK$>$ ` . dimension 0 of `` data '' passed to $<$UNK$>$ op . $<$END$>$\\\\\n",
      "\\\\\n",
      "\\textbf{B}: 0.000\n",
      "\\textbf{C}: 100.0%  \\\\\n",
      "\\textbf{Argument}: \\mintinline[]{python}{t e n s o r \\_ n a m e \\_ r e g e x}\\\\\n",
      "\\textbf{D}: the regular-expression pattern of the name ( s ) of the x-tensor ( s ) to watch . x-tensor refers to the tensors on the denominator of the differentiation .\\\\\n",
      "\\textbf{P}: $<$START$>$ name of the ` tensor ` in ` $<$UNK$>$ ` from which to restore the column weights . required if ` $<$UNK$>$ ` is not ` none ` . $<$END$>$\\\\\n",
      "\\\\\n",
      "\\textbf{B}: 0.000\n",
      "\\textbf{C}: 100.0%  \\\\\n",
      "\\textbf{Argument}: \\mintinline[]{python}{c o m p i l e \\_ o p s}\\\\\n",
      "\\textbf{D}: whether to enable or disable compilation in the scope . either a python bool , or a callable that accepts the parameter ` node\\_def ` and returns a python bool .\\\\\n",
      "\\textbf{P}: $<$START$>$ a tuple containing $<$UNK$>$ to be stripped from functions during conversion . $<$END$>$\\\\\n",
      "\\\\\n",
      "\\hline\\\\\\\\\n",
      "\n",
      "\n",
      "A Random Sample of Bleu Scores $>0.5$ \\\\\\\\ \n",
      "\n",
      "\n",
      "\\textbf{B}: 0.364\n",
      "\\textbf{C}: 100.0%  \\\\\n",
      "\\textbf{Argument}: \\mintinline[]{python}{e d g e \\_ m a t c h}\\\\\n",
      "\\textbf{D}: a function that returns true if the edge attribute dictionary for the pair of nodes ( u1 , v1 ) in g1 and ( u2 , v2 ) in g2 should be considered equal during the isomorphism test . if edge\\_match is not specified then edge attributes are not considered .\\\\\n",
      "\\textbf{P}: $<$START$>$ a function that returns true if the edge attribute dictionaries for the pair of nodes ( $<$UNK$>$ , $<$UNK$>$ ) in $<$UNK$>$ and ( u2 , $<$UNK$>$ ) in $<$UNK$>$ should be considered equal during matching . $<$END$>$\\\\\n",
      "\n",
      "\\textbf{B}: 0.075\n",
      "\\textbf{C}: 11.1%  \\\\\n",
      "\\textbf{Argument}: \\mintinline[]{python}{u s e \\_ l o c k i n g}\\\\\n",
      "\\textbf{D}: ` bool ` . if true use locks for update operation .\\\\\n",
      "\\textbf{P}: $<$START$>$ an optional ` bool ` . defaults to ` true ` . an optional bool . defaults to true . if true , the assignment will be protected by a lock ; otherwise the behavior is undefined , but may exhibit less contention . $<$END$>$\\\\\n",
      "\n",
      "\\textbf{B}: 0.558\n",
      "\\textbf{C}: 12.5%  \\\\\n",
      "\\textbf{Argument}: \\mintinline[]{python}{y \\_ t r u e}\\\\\n",
      "\\textbf{D}: ground truth ( correct ) target values .\\\\\n",
      "\\textbf{P}: $<$START$>$ ground truth ( correct ) labels . $<$END$>$\\\\\n",
      "\n",
      "\\end{tabular}\n",
      "\\end{center}\n",
      "\\end{table}\n",
      "\n",
      "1.0 ARGN: l2_regularization_strength\n",
      "DESC: ` float ` . must be less or equal to zero .\n",
      "TOKN: <START> ` float ` . must be less or equal to zero . <END>\n",
      "INFR: <START> ` float ` . must be less or equal to zero . <END>\n",
      "CHOICES: 1\n"
     ]
    }
   ],
   "source": [
    "import numpy as np\n",
    "from matplotlib import pyplot as plt\n",
    "bs_rl_comb  = get_bleu_from_translation(HB_combined, hb_trans_combined)\n",
    "rote_comb_lerner_entropies = [-np.log(1.0/t.choices) for t in hb_trans_combined]\n",
    "get_sentence_samples(bs_rl_comb,hb_trans_combined, 4)\n",
    "\n",
    "for b,t in zip(bs_rl_comb,hb_trans_combined):\n",
    "    if b ==1:\n",
    "        print(b,t)\n",
    "RESULTS = nn.evaluate_bleu(sess, data_tuple.valid, max_translations=10000)\n",
    "bs_s2s = get_bleu_from_translation(None, RESULTS[-1])"
   ]
  },
  {
   "cell_type": "code",
   "execution_count": 16,
   "metadata": {},
   "outputs": [
    {
     "data": {
      "image/png": "[encoded data removed]",
      "text/plain": [
       "<Figure size 720x360 with 1 Axes>"
      ]
     },
     "metadata": {},
     "output_type": "display_data"
    },
    {
     "name": "stdout",
     "output_type": "stream",
     "text": [
      "0.050302438139629854\n",
      "0.053781833228355565\n"
     ]
    }
   ],
   "source": [
    "plot_hist_2([\n",
    "    (bs_s2s,'Seq-to-Seq (Name Only)', 0.5), \n",
    "    (bs_rl_comb,'Rote Learner (Name Only)', 0.5), \n",
    "])\n",
    "print(np.mean(bs_rl_comb))\n",
    "print(np.mean(bs_s2s))"
   ]
  },
  {
   "cell_type": "code",
   "execution_count": null,
   "metadata": {},
   "outputs": [],
   "source": []
  },
  {
   "cell_type": "code",
   "execution_count": null,
   "metadata": {},
   "outputs": [],
   "source": [
    "get_sentence_samples(bs_rl,hb_trans, 4)"
   ]
  },
  {
   "cell_type": "code",
   "execution_count": null,
   "metadata": {
    "scrolled": true
   },
   "outputs": [],
   "source": []
  },
  {
   "cell_type": "code",
   "execution_count": null,
   "metadata": {},
   "outputs": [],
   "source": [
    "# bleu_bootstrap = get_bleu_bootstrap(T[-1], sample_size=1000, no_samples=1000)"
   ]
  },
  {
   "cell_type": "code",
   "execution_count": null,
   "metadata": {
    "scrolled": false
   },
   "outputs": [],
   "source": [
    "# print(\"{:.5f}, {:.5f}\".format(np.mean(bleu_bootstrap), np.std(bleu_bootstrap)))\n",
    "\n",
    "# print(\"{:.5f}, {:.5f}\".format(np.mean(sorted(bleu_bootstrap)[25:-25]), np.std(sorted(bleu_bootstrap)[25:-25])))"
   ]
  },
  {
   "cell_type": "code",
   "execution_count": null,
   "metadata": {
    "scrolled": true
   },
   "outputs": [],
   "source": [
    "# [print(i, t) for i, t in enumerate(T[-1])]"
   ]
  },
  {
   "cell_type": "markdown",
   "metadata": {},
   "source": [
    "### Other Stuff"
   ]
  },
  {
   "cell_type": "code",
   "execution_count": null,
   "metadata": {},
   "outputs": [],
   "source": [
    "egs = load_examples('input_otherargs')\n",
    "egs2 = load_examples('new_attn_otherargs')\n",
    "\n",
    "T2  = get_translations(nn, egs2)"
   ]
  },
  {
   "cell_type": "code",
   "execution_count": null,
   "metadata": {},
   "outputs": [],
   "source": [
    "\n",
    "#     print(\"\\\\\\\\\\n\\\\hline\\n\\\\\\\\\")\n",
    "    print(\"--------------\")"
   ]
  },
  {
   "cell_type": "code",
   "execution_count": null,
   "metadata": {},
   "outputs": [],
   "source": [
    "char_embeddings = nn.get_scope_variable(sess, 'embed_vars', 'char_embed')"
   ]
  },
  {
   "cell_type": "code",
   "execution_count": null,
   "metadata": {},
   "outputs": [],
   "source": [
    "len(data_tuple.test[-1])\n"
   ]
  },
  {
   "cell_type": "code",
   "execution_count": null,
   "metadata": {
    "scrolled": false
   },
   "outputs": [],
   "source": [
    "#\"\\n\".join(\"\\t\".join([str(j) for j in i]) for i in char_embeddings[0]) \n",
    "print(\"\\n\".join([\"Char\"] + [nn.idx2char[i] for i in sorted(nn.idx2char.keys())]))\n"
   ]
  },
  {
   "cell_type": "code",
   "execution_count": null,
   "metadata": {},
   "outputs": [],
   "source": []
  }
 ],
 "metadata": {
  "kernelspec": {
   "display_name": "Python 3",
   "language": "python",
   "name": "python3"
  },
  "language_info": {
   "codemirror_mode": {
    "name": "ipython",
    "version": 3
   },
   "file_extension": ".py",
   "mimetype": "text/x-python",
   "name": "python",
   "nbconvert_exporter": "python",
   "pygments_lexer": "ipython3",
   "version": "3.6.5"
  }
 },
 "nbformat": 4,
 "nbformat_minor": 2
}
